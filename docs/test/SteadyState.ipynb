{
 "cells": [
  {
   "cell_type": "markdown",
   "metadata": {},
   "source": [
    "## The Steady State Equation\n",
    "-----------\n",
    "\n",
    "\\\\[\n",
    "\\nabla \\cdot q = h\n",
    "\\\\]\n",
    "\n",
    "\\\\[\n",
    "q = - k \\nabla T\n",
    "\\\\]\n",
    "\n",
    "where:\n",
    " * $T$ is a scalar quantity \n",
    " * $k$ is diffusion (or conductivity) coefficient\n",
    " * $q$ is the heat flux vector \n",
    " * $h$ is the source/sink term\n",
    "\n",
    "-----\n",
    "\n",
    "Here we consider 2D models in the region, $0 \\leqslant x \\leqslant 1 $ and $ y_{0}\\leqslant y \\leqslant y_{1}$\n",
    "\n",
    "with no variation in the x direction, i.e. $ \\frac{\\partial T}{\\partial x} = 0 $ and a constant value $ k $ across the domain. \n",
    "\n",
    "Leading the 1D general solution:\n",
    "\n",
    "$ T = -\\frac{h}{2 k}y^{2} + c_{0}y + c_{1} $\n",
    "\n",
    "where $c_{0}, c_{1}$ are arbitrary constants found by applying each model's boundary conditions\n",
    "\n",
    "Three models are presented below, each with an analytic solution that the numerical results are tested against."
   ]
  },
  {
   "cell_type": "code",
   "execution_count": 1,
   "metadata": {},
   "outputs": [],
   "source": [
    "# analytic solution definitions\n",
    "def analyticTemperature(y, h, k, c0, c1):\n",
    "     return -h/(2.*k)*y**2 + c0*y + c1\n",
    "\n",
    "def exactDeriv(y, h, k, c0):\n",
    "    return -h/k*y + c0"
   ]
  },
  {
   "cell_type": "code",
   "execution_count": 2,
   "metadata": {},
   "outputs": [],
   "source": [
    "import underworld as uw\n",
    "import underworld.visualisation as vis\n",
    "import numpy as np\n",
    "uw.utils.matplotlib_inline()\n",
    "import matplotlib.pyplot as pyplot\n",
    "import matplotlib.pylab as pylab\n",
    "pyplot.ion() # needed to ensure pure python jobs do now hang on show()\n",
    "\n",
    "rank = uw.mpi.rank\n",
    "\n",
    "# for machines without matplotlib #\n",
    "make_graphs = False\n",
    "if uw.utils.is_kernel(): \n",
    "    make_graphs = True\n",
    "    try:\n",
    "        import matplotlib\n",
    "    except ImportError:\n",
    "        make_graphs=False\n",
    "\n",
    "# depth range\n",
    "y0 = -.60\n",
    "y1 = 1.3\n",
    "\n",
    "# build mesh and fields\n",
    "mesh = uw.mesh.FeMesh_Cartesian( elementType = (\"Q1\"), \n",
    "                                 elementRes  = (10, 20), \n",
    "                                 minCoord    = (0., y0), \n",
    "                                 maxCoord    = (1., y1))\n",
    "\n",
    "tField    = mesh.add_variable( nodeDofCount=1, dataType='double')\n",
    "topWall    = mesh.specialSets['MaxJ_VertexSet']\n",
    "bottomWall = mesh.specialSets['MinJ_VertexSet']"
   ]
  },
  {
   "cell_type": "markdown",
   "metadata": {
    "collapsed": true
   },
   "source": [
    "## Model 1)\n",
    "\n",
    " * a fixed temperature condition or `DirichletCondition` - topWall \n",
    " \n",
    " $ T(x,y_{1}) = T_{1} $\n",
    "\n",
    " * a heat flow condition or `NeumannCondition` - bottomWall.\n",
    "\n",
    " $ q \\cdot n_{b} = (\\,0.0\\,,\\, f\\,) \\cdot (\\,0.0\\,,\\,-1.0\\,) = - f$\n",
    " \n",
    "     **Note** The heat flow is calculated using the heat flux vector $q$ multiplied by the outward surface normal, $n$. \n",
    "     The bottom surface outward normal $n_{b}$ point along the negative j-axis \n",
    "\n",
    "\n",
    "When the `NeumannCondition` object is associated with the `SteadyStateHeat` system it defines a flux along a boundary such that:\n",
    "   \n",
    "$ q \\cdot n = \\phi $ at $ \\Gamma_{\\phi} $\n",
    "\n",
    "where:\n",
    "* $ \\Gamma_{\\phi} $ is the set of vertices along the surface of the domain, \n",
    "* $\\phi $ is the scalar flow associated with the vector flux $q$ along $\\Gamma_{\\phi}$\n",
    "\n",
    "\n",
    "---------------\n",
    "\n",
    "An example: Defining a scalar field's flux at the bottom wall in a 2D rectangular domain.\n",
    "\n",
    "The outward facing normal vector at the bottom wall $\\mathbf{n}\\mid_{(x,y_{0})}=\\left[0,-1\\right] $) and the imposed flux vector $k \\nabla T = \\left[0, \\phi\\right]$\n",
    "\n",
    "The `NeumannCondition` object definition of this condition would be: \n",
    "\n",
    "```\n",
    "nbc = uw.conditions.NeumannCondition( fn_flux= -1.0 * phi, variable=tField,\n",
    "                                      indexSetsPerDof=mesh.specialSets[\"MinJ_VertexSet\"] )\n",
    "```\n",
    "\n",
    "Applies a 'fn_flux' to the scalar 'variable' `MeshVariable` over the boundary vertices in the set 'indexSetsPerDof'. The factor -1 is from the vector multiplication with the outward facing normal vector.\n",
    "\n",
    "Here `phi` can be a `underworld.Function` or `underworld.MeshVariable` type.\n",
    "\n",
    "------\n",
    "\n",
    "Arbitrary constants are:\n",
    "\n",
    "$c_{0} = \\frac{1}{k} (\\,f + hy_{0}\\,) $\n",
    "\n",
    "$c_{1} = T_{1} + \\frac{h}{2 k}y_{1}^2 - c_{0}y_{1} $\n"
   ]
  },
  {
   "cell_type": "code",
   "execution_count": 3,
   "metadata": {},
   "outputs": [],
   "source": [
    "T1 = 8.0       # surface temperature\n",
    "k = 6.7        # diffusivity\n",
    "h = 8.0        # heat production, source term\n",
    "f = 2. \n",
    "\n",
    "# analytic solution definitions\n",
    "# 1 dirichlet conditions (top) + 1 neumann (bottom)\n",
    "c0 = 1./k*(f+h*y0)\n",
    "c1 = T1 + h/(2.0*k)*y1**2 - c0*y1"
   ]
  },
  {
   "cell_type": "code",
   "execution_count": 4,
   "metadata": {},
   "outputs": [],
   "source": [
    "for ii in topWall:\n",
    "    tField.data[ii] = T1\n",
    "\n",
    "# flag the dirichlet conditions on the topWall only\n",
    "bc = uw.conditions.DirichletCondition(tField, indexSetsPerDof=(topWall) )\n",
    "\n",
    "# define neumann condition\n",
    "nbc = uw.conditions.NeumannCondition( variable=tField,\n",
    "                                      fn_flux=-f,\n",
    "                                      indexSetsPerDof=(bottomWall))\n",
    "\n",
    "# flag the dirichlet conditions on the topWall only\n",
    "bc = uw.conditions.DirichletCondition(tField, indexSetsPerDof=(topWall) )\n",
    "\n",
    "# define heat eq. system\n",
    "ss = uw.systems.SteadyStateHeat( temperatureField  = tField,\n",
    "                                 fn_diffusivity = k,\n",
    "                                 fn_heating     = h,\n",
    "                                 conditions     = [bc, nbc] ) "
   ]
  },
  {
   "cell_type": "code",
   "execution_count": 5,
   "metadata": {},
   "outputs": [],
   "source": [
    "solver = uw.systems.Solver(ss)\n",
    "solver.solve()"
   ]
  },
  {
   "cell_type": "code",
   "execution_count": 8,
   "metadata": {
    "scrolled": false
   },
   "outputs": [
    {
     "data": {
      "image/png": "[encoded data removed]",
      "text/plain": [
       "<Figure size 864x432 with 1 Axes>"
      ]
     },
     "metadata": {
      "needs_background": "light"
     },
     "output_type": "display_data"
    },
    {
     "name": "stdout",
     "output_type": "stream",
     "text": [
      "Numerical flux at y =  -0.6 is 0.241786540078\n",
      "Exact     flux at y =  -0.6 is 0.2985074626865672\n",
      "\n",
      "Abs. error = 2.581e-04\n",
      "Rel. error = 6.156e-06\n"
     ]
    }
   ],
   "source": [
    "# create numpy arrays for analytics, parallel check first\n",
    "\n",
    "yvals       = np.zeros(len(mesh.specialSets['MinI_VertexSet']))\n",
    "ycoord      = np.zeros_like(yvals)\n",
    "analytic    = np.zeros_like(yvals)\n",
    "\n",
    "ids = mesh.specialSets['MinI_VertexSet']\n",
    "yvals[:] = tField.evaluate(ids).T\n",
    "\n",
    "ycoord = tField.mesh.data[ids.data,[1]]\n",
    "analytic = analyticTemperature(ycoord, h, k, c0, c1)\n",
    "\n",
    "# measure border flux, analytic is easy, parallel check needed for numeric result\n",
    "yspot = y0\n",
    "ana_flux = exactDeriv(yspot,h,k,c0)\n",
    "\n",
    "tmp = tField.fn_gradient.evaluate_global([0.2,yspot])\n",
    "if tmp is not None: num_flux = tmp[0][1]\n",
    "else: num_flux = 0.\n",
    "\n",
    "\n",
    "from mpi4py import MPI\n",
    "comm = MPI.COMM_WORLD\n",
    "# assuming order in the allgather is the same\n",
    "coords = comm.allgather(ycoord)\n",
    "numerical = comm.allgather(yvals)\n",
    "\n",
    "if make_graphs:\n",
    "\n",
    "    # 1st build exact solution hiRes\n",
    "    big = np.linspace(y0,y1)\n",
    "    cool = analyticTemperature(big, h, k, c0, c1)\n",
    "\n",
    "    pylab.rcParams[ 'figure.figsize'] = 12, 6\n",
    "    pyplot.plot(coords, numerical, 'o', color = 'black', label='numerical') \n",
    "    pyplot.plot(big, cool, color = 'red', label=\"exact\") \n",
    "    pyplot.xlabel('Y coords')\n",
    "    pyplot.ylabel('Temperature')\n",
    "    pyplot.show()\n",
    "\n",
    "\n",
    "if rank == 0:\n",
    "    threshold = 1.0e-4\n",
    "    yspot = y0\n",
    "    abserr = np.linalg.norm(analytic - yvals)\n",
    "    mag = np.linalg.norm(analytic)\n",
    "    relerr = abserr / mag\n",
    "    print(\"Numerical flux at y = \" ,yspot,\"is\", num_flux)\n",
    "    print(\"Exact     flux at y = \" ,yspot,\"is\", ana_flux)\n",
    "    print(\"\\nAbs. error = {0:.3e}\".format(abserr))\n",
    "    print(\"Rel. error = {0:.3e}\".format(relerr))\n",
    "    if relerr > threshold:\n",
    "        raise RuntimeError(\"The numerical solution is outside the error threshold of the analytic solution.\" \\\n",
    "                           \"The Relative error was \", relerr,\" the threshold is \", threshold)"
   ]
  },
  {
   "cell_type": "markdown",
   "metadata": {},
   "source": [
    "## Model 2)\n",
    "\n",
    " * a fixed temperature condition or Dirichlet BC - bottomWall \n",
    " \n",
    " $ T(x,y_{0}) = T_{0} $\n",
    "\n",
    " * a heat flow condition or Neumann BC - topWall.\n",
    "\n",
    " $ q \\cdot n_{u} = (\\,0.0\\,,\\, f\\,) \\cdot (\\,0.0\\,,\\,1.0\\,) = f$\n",
    " \n",
    "     **Note** The top surface outward normal $n_{u}$ point along the j-axis \n",
    "\n",
    "------\n",
    "\n",
    "Arbitrary constants are:\n",
    "\n",
    "$c_{0} = \\frac{1}{k} (\\,f + hy_{1}\\,) $\n",
    "\n",
    "$c_{1} = T_{0} + \\frac{h}{2 k}y_{0}^2 - c_{0}y_{0} $"
   ]
  },
  {
   "cell_type": "code",
   "execution_count": 25,
   "metadata": {},
   "outputs": [],
   "source": [
    "T0 = 8.0       # surface temperature\n",
    "k = 2.2        # diffusivity\n",
    "h = -7.4       # heat production, source term\n",
    "f = 4.0        # temperature flow, implies negative gradient\n",
    "\n",
    "# analytic solution definitions\n",
    "# 1 dirichlet conditions (top) + 1 neumann (bottom)\n",
    "c0 = 1.0*(f+h*y1)/k\n",
    "c1 = T0 + h/(2.0*k)*y0**2 - c0*y0"
   ]
  },
  {
   "cell_type": "code",
   "execution_count": 26,
   "metadata": {},
   "outputs": [],
   "source": [
    "for ii in bottomWall:\n",
    "    tField.data[ii] = T0\n",
    "\n",
    "# define neumann condition\n",
    "nbc = uw.conditions.NeumannCondition( fn_flux=f, \n",
    "                                      variable=tField, \n",
    "                                      indexSetsPerDof=(topWall) )\n",
    "\n",
    "# flag the dirichlet conditions on the topWall only\n",
    "bc = uw.conditions.DirichletCondition(tField, indexSetsPerDof=(bottomWall) )\n",
    "\n",
    "\n",
    "# define heat eq. system\n",
    "ss = uw.systems.SteadyStateHeat( temperatureField  = tField,\n",
    "                                 fn_diffusivity = k,\n",
    "                                 fn_heating     = h,\n",
    "                                 conditions     = [bc, nbc] ) "
   ]
  },
  {
   "cell_type": "code",
   "execution_count": 27,
   "metadata": {},
   "outputs": [],
   "source": [
    "solver = uw.systems.Solver(ss)\n",
    "solver.solve()"
   ]
  },
  {
   "cell_type": "code",
   "execution_count": 28,
   "metadata": {
    "scrolled": false
   },
   "outputs": [
    {
     "data": {
      "image/png": "[encoded data removed]",
      "text/plain": [
       "<matplotlib.figure.Figure at 0x7fa65f970890>"
      ]
     },
     "metadata": {},
     "output_type": "display_data"
    },
    {
     "name": "stdout",
     "output_type": "stream",
     "text": [
      "Numerical flux at y =  1.3 is -4.41274249682\n",
      "Exact     flux at y =  1.3 is -4.57272727273\n",
      "\n",
      "Abs. error = 1.252e-03\n",
      "Rel. error = 4.705e-05\n"
     ]
    }
   ],
   "source": [
    "# create numpy arrays for analytics\n",
    "yvals       = np.zeros(len(mesh.specialSets['MinI_VertexSet']))\n",
    "ycoord      = np.zeros_like(yvals)\n",
    "analytic    = np.zeros_like(yvals)\n",
    "\n",
    "ids = mesh.specialSets['MinI_VertexSet']\n",
    "yvals[:] = tField.evaluate(ids).T\n",
    "\n",
    "ycoord = tField.mesh.data[ids.data,[1]]\n",
    "analytic = analyticTemperature(ycoord, h, k, c0, c1)\n",
    "\n",
    "'''\n",
    "abserr = uw.utils._nps_2norm(analytic - yvals)\n",
    "mag = uw.utils._nps_2norm(analytic)\n",
    "relerr = abserr / mag\n",
    "'''\n",
    "\n",
    "# measure border flux, analytic is easy, parallel check needed for numeric result\n",
    "yspot = y0\n",
    "ana_flux = exactDeriv(yspot,h,k,c0)\n",
    "\n",
    "tmp = tField.fn_gradient.evaluate_global([0.2,yspot])\n",
    "if tmp is not None: num_flux = tmp[0][1]\n",
    "else: num_flux = 0.\n",
    "\n",
    "from mpi4py import MPI\n",
    "comm = MPI.COMM_WORLD\n",
    "# assuming order in the allgather is the same\n",
    "coords = comm.allgather(ycoord)\n",
    "numerical = comm.allgather(yvals)\n",
    "\n",
    "if make_graphs:\n",
    "\n",
    "    # 1st build exact solution hiRes\n",
    "    big = np.linspace(y0,y1)\n",
    "    cool = analyticTemperature(big, h, k, c0, c1)\n",
    "\n",
    "    pylab.rcParams[ 'figure.figsize'] = 12, 6\n",
    "    pyplot.plot(coords, numerical, 'o', color = 'black', label='numerical') \n",
    "    pyplot.plot(big, cool, color = 'red', label=\"exact\") \n",
    "    pyplot.xlabel('Y coords')\n",
    "    pyplot.ylabel('Temperature')\n",
    "    pyplot.show()\n",
    "\n",
    "\n",
    "if rank == 0:\n",
    "    threshold = 1.0e-4\n",
    "    yspot = y1\n",
    "    abserr = np.linalg.norm(analytic - yvals)\n",
    "    mag = np.linalg.norm(analytic)\n",
    "    relerr = abserr / mag\n",
    "    print(\"Numerical flux at y = \" ,yspot,\"is\", num_flux)\n",
    "    print(\"Exact     flux at y = \" ,yspot,\"is\", ana_flux)\n",
    "    print(\"\\nAbs. error = {0:.3e}\".format(abserr))\n",
    "    print(\"Rel. error = {0:.3e}\".format(relerr))\n",
    "    if relerr > threshold:\n",
    "        raise RuntimeError(\"The numerical solution is outside the error threshold of the analytic solution.\" \\\n",
    "                           \"The Relative error was \", relerr,\" the threshold is \", threshold)"
   ]
  },
  {
   "cell_type": "markdown",
   "metadata": {
    "collapsed": true
   },
   "source": [
    "## Model 3) \n",
    "\n",
    "2D, Steady State Heat Equation with Dirichlet BC at the top and bottom surfaces.\n",
    "\n",
    "$T(x,y_{1}) = T_{1}$\n",
    "\n",
    "$ T(x,y_{0}) = T_{0} $\n",
    "\n",
    "------\n",
    "\n",
    "arbitrary constants are:\n",
    "\n",
    "$ c_{0} = \\frac{1}{y_{1}-y_{0}} \\left[ T_{1}-T_{0}+\\frac{h} {2k}(y_{1}^2-y_{0}^2) \\right] $\n",
    "\n",
    "$c_{1} = T_{1} + \\frac{h}{2k}y_{1}^2 - c_{0}y_{1}$\n"
   ]
  },
  {
   "cell_type": "code",
   "execution_count": 15,
   "metadata": {},
   "outputs": [],
   "source": [
    "# Model parameters\n",
    "T1 = 8.0   # top surface temperature\n",
    "T0 = 4.0   # bottom surface temperature\n",
    "k = 0.50   # diffusivity\n",
    "h = 10     # heat production, source term\n",
    "\n",
    "# arbitrary constant given the 2 dirichlet conditions\n",
    "c0 = (T1-T0+h/(2*k)*(y1**2-y0**2)) / (y1-y0)\n",
    "c1 = T1 + h/(2*k)*y1**2 - c0*y1"
   ]
  },
  {
   "cell_type": "code",
   "execution_count": 16,
   "metadata": {},
   "outputs": [],
   "source": [
    "# set boundary conditions\n",
    "for ii in topWall:\n",
    "    tField.data[ii] = T1\n",
    "for ii in bottomWall:\n",
    "    tField.data[ii] = T0\n",
    "\n",
    "# flag boundary conditions\n",
    "bc = uw.conditions.DirichletCondition(tField, indexSetsPerDof=(topWall+bottomWall) )\n",
    "\n",
    "# define heat eq. system\n",
    "ss = uw.systems.SteadyStateHeat( temperatureField  = tField,\n",
    "                                 fn_diffusivity = k,\n",
    "                                 fn_heating     = h,\n",
    "                                 conditions     = [bc] )"
   ]
  },
  {
   "cell_type": "code",
   "execution_count": 17,
   "metadata": {},
   "outputs": [],
   "source": [
    "solver = uw.systems.Solver(ss)\n",
    "solver.solve()"
   ]
  },
  {
   "cell_type": "code",
   "execution_count": 18,
   "metadata": {},
   "outputs": [],
   "source": [
    "# create numpy arrays for analytics\n",
    "yvals       = np.zeros(len(mesh.specialSets['MinI_VertexSet']))\n",
    "ycoord      = np.zeros_like(yvals)\n",
    "analytic    = np.zeros_like(yvals)\n",
    "\n",
    "ids = mesh.specialSets['MinI_VertexSet']\n",
    "yvals[:] = tField.evaluate(ids).T\n",
    "\n",
    "ycoord   = tField.mesh.data[ids.data,[1]]\n",
    "analytic = analyticTemperature(ycoord, h, k, c0, c1)\n",
    "\n",
    "'''\n",
    "abserr = uw.utils._nps_2norm(analytic - yvals)\n",
    "mag = uw.utils._nps_2norm(analytic)\n",
    "relerr = abserr / mag\n",
    "'''\n",
    "# measure border flux, analytic is easy, parallel check needed for numeric result\n",
    "yspot = y0\n",
    "ana_flux = exactDeriv(yspot,h,k,c0)\n",
    "\n",
    "tmp = tField.fn_gradient.evaluate_global([0.2,yspot])\n",
    "if tmp is not None: num_flux = tmp[0][1]\n",
    "else: num_flux = 0.\n",
    "\n",
    "from mpi4py import MPI\n",
    "comm = MPI.COMM_WORLD\n",
    "# assuming order in the allgather is the same\n",
    "coords = comm.allgather(ycoord)\n",
    "numerical = comm.allgather(yvals)"
   ]
  },
  {
   "cell_type": "code",
   "execution_count": 19,
   "metadata": {
    "scrolled": false
   },
   "outputs": [
    {
     "name": "stdout",
     "output_type": "stream",
     "text": [
      "Numerical flux at y =  -0.6 is 20.1552435024\n",
      "Exact flux at y= -0.6 is 21.10526315789474\n",
      "\n",
      "Abs. error = 1.988e-04\n",
      "Rel. error = 3.573e-06\n"
     ]
    }
   ],
   "source": [
    "if rank == 0:\n",
    "    threshold = 1.0e-4\n",
    "    yspot = y0\n",
    "    abserr = np.linalg.norm(analytic - yvals)\n",
    "    mag = np.linalg.norm(analytic)\n",
    "    relerr = abserr / mag\n",
    "    print(\"Numerical flux at y = \" ,yspot,\"is\", num_flux)\n",
    "    print(\"Exact flux at y=\" ,yspot,\"is\", ana_flux)\n",
    "    print(\"\\nAbs. error = {0:.3e}\".format(abserr))\n",
    "    print(\"Rel. error = {0:.3e}\".format(relerr))\n",
    "    if relerr > threshold:\n",
    "        raise RuntimeError(\"The numerical solution is outside the error threshold of the analytic solution.\" \\\n",
    "                           \"The Relative error was \", relerr,\" the threshold is \", threshold)  \n",
    "        "
   ]
  },
  {
   "cell_type": "code",
   "execution_count": 20,
   "metadata": {},
   "outputs": [
    {
     "data": {
      "image/png": "[encoded data removed]",
      "text/plain": [
       "<matplotlib.figure.Figure at 0x7fa65fb55910>"
      ]
     },
     "metadata": {},
     "output_type": "display_data"
    }
   ],
   "source": [
    "\n",
    "if make_graphs:\n",
    "\n",
    "    # 1st build exact solution hiRes\n",
    "    big = np.linspace(y0,y1)\n",
    "    cool = analyticTemperature(big, h, k, c0, c1)\n",
    "\n",
    "    pylab.rcParams[ 'figure.figsize'] = 12, 6\n",
    "    pyplot.plot(coords, numerical, 'o', color = 'black', label='numerical') \n",
    "    pyplot.plot(big, cool, color = 'red', label=\"exact\") \n",
    "    pyplot.xlabel('Y coords')\n",
    "    pyplot.ylabel('Temperature')\n",
    "    pyplot.show()\n"
   ]
  },
  {
   "cell_type": "code",
   "execution_count": null,
   "metadata": {},
   "outputs": [],
   "source": []
  }
 ],
 "metadata": {
  "kernelspec": {
   "display_name": "Python 3",
   "language": "python",
   "name": "python3"
  },
  "language_info": {
   "codemirror_mode": {
    "name": "ipython",
    "version": 3
   },
   "file_extension": ".py",
   "mimetype": "text/x-python",
   "name": "python",
   "nbconvert_exporter": "python",
   "pygments_lexer": "ipython3",
   "version": "3.7.3"
  }
 },
 "nbformat": 4,
 "nbformat_minor": 1
}
