{
 "cells": [
  {
   "cell_type": "markdown",
   "metadata": {},
   "source": [
    "**This is a minimal test for population control**"
   ]
  },
  {
   "cell_type": "code",
   "execution_count": 1,
   "metadata": {},
   "outputs": [],
   "source": [
    "import underworld as uw\n",
    "import underworld.visualisation as vis "
   ]
  },
  {
   "cell_type": "code",
   "execution_count": 2,
   "metadata": {},
   "outputs": [],
   "source": [
    "mesh = uw.mesh.FeMesh_Cartesian()"
   ]
  },
  {
   "cell_type": "code",
   "execution_count": 3,
   "metadata": {},
   "outputs": [],
   "source": [
    "def vanilla_swarm(mesh):\n",
    "    swarm = uw.swarm.Swarm(mesh)\n",
    "    swarm.populate_using_layout(uw.swarm.layouts.PerCellGaussLayout(swarm,4))\n",
    "    return swarm\n",
    "def draw_swarm(mesh,swarm):\n",
    "    fig = vis.Figure()\n",
    "    fig.append( vis.objects.Points(swarm, colourBar=False, pointSize=4.))\n",
    "    fig.append( vis.objects.Mesh(mesh))\n",
    "    return fig.show()"
   ]
  },
  {
   "cell_type": "code",
   "execution_count": 4,
   "metadata": {},
   "outputs": [
    {
     "data": {
      "text/html": [
       "<img src='data:image/png;base64,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'>"
      ],
      "text/plain": [
       "<IPython.core.display.HTML object>"
      ]
     },
     "metadata": {},
     "output_type": "display_data"
    }
   ],
   "source": [
    "# generated swarm\n",
    "swarm = vanilla_swarm(mesh)\n",
    "draw_swarm( mesh, swarm )"
   ]
  },
  {
   "cell_type": "code",
   "execution_count": 5,
   "metadata": {},
   "outputs": [
    {
     "data": {
      "text/plain": [
       "256"
      ]
     },
     "execution_count": 5,
     "metadata": {},
     "output_type": "execute_result"
    }
   ],
   "source": [
    "swarm.particleGlobalCount"
   ]
  },
  {
   "cell_type": "code",
   "execution_count": 6,
   "metadata": {},
   "outputs": [],
   "source": [
    "# test deleting particles limited by max\n",
    "swarm = vanilla_swarm(mesh)\n",
    "population_control = uw.swarm.PopulationControl(swarm,deleteThreshold=1.0,splitThreshold=1.0,maxDeletions=15,maxSplits=0)\n",
    "population_control.repopulate()\n",
    "if swarm.particleGlobalCount != 16:\n",
    "    raise RuntimeError(\"Incorrect number of particles deleted during population control\")\n",
    "# test deleting particles limited by threshold\n",
    "swarm = vanilla_swarm(mesh)\n",
    "population_control = uw.swarm.PopulationControl(swarm,deleteThreshold=0.07,splitThreshold=1.0,maxDeletions=150,maxSplits=0)\n",
    "population_control.repopulate()\n",
    "if swarm.particleGlobalCount != 64:\n",
    "    raise RuntimeError(\"Incorrect number of particles deleted during population control\")"
   ]
  },
  {
   "cell_type": "code",
   "execution_count": 7,
   "metadata": {},
   "outputs": [],
   "source": [
    "# test splitting particles limited by max\n",
    "swarm = vanilla_swarm(mesh)\n",
    "population_control = uw.swarm.PopulationControl(swarm,deleteThreshold=0.,splitThreshold=0.,maxDeletions=0,maxSplits=9999)\n",
    "population_control.repopulate()\n",
    "if swarm.particleGlobalCount != 512:\n",
    "    raise RuntimeError(\"Incorrect number of particles deleted during population control\")\n",
    "# test deleting particles limited by threshold\n",
    "swarm = vanilla_swarm(mesh)\n",
    "population_control = uw.swarm.PopulationControl(swarm,deleteThreshold=0.,splitThreshold=0.07,maxDeletions=0,maxSplits=9999)\n",
    "population_control.repopulate()\n",
    "if swarm.particleGlobalCount != 320:\n",
    "    raise RuntimeError(\"Incorrect number of particles deleted during population control\")"
   ]
  },
  {
   "cell_type": "code",
   "execution_count": 8,
   "metadata": {},
   "outputs": [],
   "source": [
    "# quick aggressive test\n",
    "swarm = vanilla_swarm(mesh)\n",
    "population_control = uw.swarm.PopulationControl(swarm,deleteThreshold=0.,splitThreshold=1.,maxDeletions=0,maxSplits=0, aggressive=True, particlesPerCell=40)\n",
    "population_control.repopulate()\n",
    "if swarm.particleGlobalCount != 640:\n",
    "    raise RuntimeError(\"Incorrect number of particles deleted during population control\")"
   ]
  }
 ],
 "metadata": {
  "kernelspec": {
   "display_name": "Python 3",
   "language": "python",
   "name": "python3"
  },
  "language_info": {
   "codemirror_mode": {
    "name": "ipython",
    "version": 3
   },
   "file_extension": ".py",
   "mimetype": "text/x-python",
   "name": "python",
   "nbconvert_exporter": "python",
   "pygments_lexer": "ipython3",
   "version": "3.6.2"
  }
 },
 "nbformat": 4,
 "nbformat_minor": 1
}
