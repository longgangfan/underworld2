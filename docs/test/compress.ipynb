{
 "cells": [
  {
   "cell_type": "markdown",
   "metadata": {},
   "source": [
    "### Example of a model with a compressible material\n",
    "\n",
    "An instantaneous 2D extension model. A compressible material is subject to lateral extension boundary conditions along the vertical walls.\n",
    "\n",
    "The compressible stokes flow equations are based on the compressible elasticity formulation: see Hughes, sec4.3, The Finite Element Method, 1987\n",
    "\n",
    "-----\n",
    "The momentum equtaion\n",
    "\n",
    "$\n",
    "    \\sigma_{i,j} = -\\mathbf{p}\\delta_{i,j} + 2 \\eta \\dot\\epsilon_{i,j} = f_{i}\n",
    "$\n",
    "\n",
    "The continuity equation\n",
    "\n",
    "$\n",
    "    \\mathbf{v}_{i,i} + \\frac{\\mathbf{p}}{\\lambda} = 0\n",
    "$ \n",
    "where:\n",
    " * $ \\dot \\epsilon_{i,j} = \\frac{1}{2}\\left[ \\mathbf{v}_{i,j} + \\mathbf{v}_{j,i} \\right ]$\n",
    " * $\\mathbf{v}$ is the velocity field\n",
    " * $\\mathbf{p}$ is the pressure like variable\n",
    " * $\\eta$ is the isotropic shear viscosity\n",
    " * $\\lambda$ is the bulk viscosity\n",
    " * $f$ is the body force"
   ]
  },
  {
   "cell_type": "code",
   "execution_count": 1,
   "metadata": {},
   "outputs": [],
   "source": [
    "import underworld as uw\n",
    "import numpy as np\n",
    "import math\n",
    "import os\n",
    "from underworld import function as fn\n",
    "import underworld.visualisation as vis"
   ]
  },
  {
   "cell_type": "code",
   "execution_count": 2,
   "metadata": {},
   "outputs": [],
   "source": [
    "minX = 0.0\n",
    "maxX = 2.0\n",
    "maxY = 1.0\n",
    "resX = 64\n",
    "resY = 32\n",
    "elementType=\"Q1/dQ0\"\n",
    "\n",
    "mesh = uw.mesh.FeMesh_Cartesian( elementType = (elementType), \n",
    "                                 elementRes  = ( resX, resY), \n",
    "                                 minCoord    = ( minX, 0.), \n",
    "                                 maxCoord    = ( maxX, maxY),\n",
    "                                 periodic    = [False, False]  ) \n",
    "\n",
    "vField = uw.mesh.MeshVariable( mesh=mesh,         nodeDofCount=mesh.dim )\n",
    "pField = uw.mesh.MeshVariable( mesh=mesh.subMesh, nodeDofCount=1 )\n",
    "\n",
    "vField.data[:] = [0.,0.]\n",
    "pField.data[:] = 0."
   ]
  },
  {
   "cell_type": "code",
   "execution_count": 3,
   "metadata": {},
   "outputs": [],
   "source": [
    "# model parameters\n",
    "viscosityFn   = 1.0        # isoviscous\n",
    "vel_extend    = 0.5        # simple extension velocity\n",
    "oneonlambdaFn = 1.0e3      # 1/(bulk viscosity)\n",
    "buoyancyFn = ( 0.0, 0.0 )  # the body force"
   ]
  },
  {
   "cell_type": "code",
   "execution_count": 4,
   "metadata": {},
   "outputs": [],
   "source": [
    "# first define strain rate tensor\n",
    "strainRateFn = fn.tensor.symmetric( vField.fn_gradient )\n",
    "strainRate_2ndInvariantFn = fn.tensor.second_invariant(strainRateFn)\n",
    "velmag = fn.math.sqrt( fn.math.dot(vField, vField) )"
   ]
  },
  {
   "cell_type": "code",
   "execution_count": 5,
   "metadata": {},
   "outputs": [],
   "source": [
    "leftWall  = mesh.specialSets[\"MinI_VertexSet\"]\n",
    "rightWall = mesh.specialSets[\"MaxI_VertexSet\"]\n",
    "\n",
    "bottomWall = mesh.specialSets[\"MinJ_VertexSet\"]\n",
    "topWall    = mesh.specialSets[\"MaxJ_VertexSet\"]\n",
    "\n",
    "iWalls = leftWall + rightWall\n",
    "jWalls = bottomWall + topWall"
   ]
  },
  {
   "cell_type": "code",
   "execution_count": 6,
   "metadata": {},
   "outputs": [],
   "source": [
    "def buildVelocityField( mesh, velField, extV ):\n",
    "    '''\n",
    "    Build the extension velocity field. Only extending the incomp beam.\n",
    "    '''\n",
    "    import math\n",
    "    # set the all nodes on the vertical wall to extend extension\n",
    "    for index in leftWall: # velocity to the left\n",
    "        ycoord = mesh.data[index][1]\n",
    "        velField.data[index] = [-1.0*extV, 0.]\n",
    "#         velField.data[index] = [-1.0*extV*math.sin(ycoord*2*math.pi), 0.]\n",
    "    for index in rightWall: # velocity to the right\n",
    "        ycoord = mesh.data[index][1]\n",
    "        velField.data[index] = [extV, 0.]\n",
    "\n",
    "buildVelocityField( mesh, vField, vel_extend)\n",
    "bcs_1 = uw.conditions.DirichletCondition( variable        = vField, \n",
    "                                        indexSetsPerDof = ( iWalls, jWalls) ) "
   ]
  },
  {
   "cell_type": "code",
   "execution_count": 7,
   "metadata": {},
   "outputs": [],
   "source": [
    "# fn_bodyforce is 0. So ONLY dynamic pressure is produced in this model.\n",
    "# For the incompressible material d. pressure is the mesh variable\n",
    "# For the compressibly material d. pressure is -lambda*div(vField)\n",
    "stokes = uw.systems.Stokes(    velocityField = vField, \n",
    "                               pressureField = pField, \n",
    "                               conditions    = bcs_1,\n",
    "                               fn_viscosity  = viscosityFn,\n",
    "                               fn_bodyforce  = buoyancyFn,\n",
    "                               fn_one_on_lambda  = oneonlambdaFn )\n",
    "\n",
    "solver = uw.systems.Solver( stokes )"
   ]
  },
  {
   "cell_type": "code",
   "execution_count": 8,
   "metadata": {},
   "outputs": [],
   "source": [
    "# can't use the AugmentedLagrangian with the penaly method yet\n",
    "# solver.set_penalty(1.0e6) \n",
    "solver.solve( nonLinearIterate=False, nonLinearTolerance=1e-2 )\n",
    "# solver.print_stats()"
   ]
  },
  {
   "cell_type": "code",
   "execution_count": 9,
   "metadata": {},
   "outputs": [],
   "source": [
    "# analytics\n",
    "gradV = vField.fn_gradient\n",
    "divV = gradV[0] + gradV[3] # du_dx + dv_dy\n",
    "shouldBeZero = fn.math.abs(divV + pField*oneonlambdaFn)\n",
    "\n",
    "errorInt = uw.utils.Integral( shouldBeZero, mesh)\n",
    "volInt = uw.utils.Integral(1.0, mesh)"
   ]
  },
  {
   "cell_type": "code",
   "execution_count": 10,
   "metadata": {},
   "outputs": [
    {
     "name": "stdout",
     "output_type": "stream",
     "text": [
      "3.52124312125e-15\n"
     ]
    }
   ],
   "source": [
    "# error across domain\n",
    "tol = 1e-6\n",
    "error = errorInt.evaluate()[0]/volInt.evaluate()[0]\n",
    "if error > tol:\n",
    "    raise RuntimeError(\"Error: The continuity equation isn't solving within a volume averaged\" +\n",
    "                       \" tolerance of {} - it's value is {}\".format(tol, error))\n",
    "print(error)"
   ]
  },
  {
   "cell_type": "code",
   "execution_count": 11,
   "metadata": {},
   "outputs": [
    {
     "data": {
      "text/plain": [
       "(1.1477448914757307e-14, 1.6428302536547724e-16)"
      ]
     },
     "execution_count": 11,
     "metadata": {},
     "output_type": "execute_result"
    }
   ],
   "source": [
    "stokes.eqResiduals"
   ]
  },
  {
   "cell_type": "code",
   "execution_count": 12,
   "metadata": {},
   "outputs": [
    {
     "data": {
      "text/html": [
       "<img src='data:image/png;base64,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'>"
      ],
      "text/plain": [
       "<IPython.core.display.HTML object>"
      ]
     },
     "metadata": {},
     "output_type": "display_data"
    }
   ],
   "source": [
    "figVel = vis.Figure()\n",
    "figVel.append( vis.objects.VectorArrows(mesh, vField, scaling=.25, arrowHead=0.2) )\n",
    "figVel.show()"
   ]
  },
  {
   "cell_type": "code",
   "execution_count": 13,
   "metadata": {},
   "outputs": [],
   "source": [
    "# # The pressure using the compute field\n",
    "# figP = vis.Figure( **figVel )\n",
    "# figP.append( vis.objects.Surface(mesh, pField*oneonlambdaFn, onMesh=True) )\n",
    "# figP.show()"
   ]
  }
 ],
 "metadata": {
  "kernelspec": {
   "display_name": "Python 3",
   "language": "python",
   "name": "python3"
  },
  "language_info": {
   "codemirror_mode": {
    "name": "ipython",
    "version": 3
   },
   "file_extension": ".py",
   "mimetype": "text/x-python",
   "name": "python",
   "nbconvert_exporter": "python",
   "pygments_lexer": "ipython3",
   "version": "3.5.3"
  }
 },
 "nbformat": 4,
 "nbformat_minor": 1
}
