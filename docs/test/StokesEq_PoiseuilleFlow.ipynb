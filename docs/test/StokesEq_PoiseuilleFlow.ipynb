{
 "cells": [
  {
   "cell_type": "markdown",
   "metadata": {
    "collapsed": true
   },
   "source": [
    "### Example of a 1D Channel driven flow\n",
    "\n",
    "Model Setup\n",
    "-----------\n",
    "\n",
    "2D, Stokes Equation with noslip BC at top and bottom boundary and a lateral pressure gradient driving the flow, a.k.a. Poiseuille Flow.\n",
    "\n",
    "\\\\[\n",
    "\\frac{\\partial \\tau}{\\partial y} = \\mu \\frac{\\partial^{2} \\mathbf{u}}{\\partial{y}^{2}} = \\frac{\\partial p}{\\partial x}\n",
    "\\\\]\n",
    "\n",
    "\\\\[\n",
    "\\nabla \\cdot \\mathbf{u} = 0\n",
    "\\\\]\n",
    "\n",
    "with $ x_{a} \\leqslant x \\leqslant x_{b} $ and $ 0.0 \\leqslant y \\leqslant h $\n",
    "\n",
    "Boundary conditions:\n",
    "\n",
    " * $\\mathbf{u}(x,y=h) = \\mathbf{u}(x,y=0) = \\left[0,0 \\right]$\n",
    " * $P(x_a) = P_a$\n",
    " * $P(x_b) = P_b $\n",
    "\n",
    "------\n",
    "\n",
    "A 1D solution in $y$-axis, described by\n",
    "\n",
    "$ \\mathbf{u}(x,y) =  \\left[ \\frac{1}{2 \\mu} \\frac{\\partial p }{\\partial x} ( y^{2} - h y ), 0.0 \\right]$"
   ]
  },
  {
   "cell_type": "markdown",
   "metadata": {},
   "source": [
    "We implement the above boundary conditions using:\n",
    " * a `DirichletCondition` object for $\\mathbf{u}(x,y=1) = \\mathbf{u}(x,y=0) = \\left[0,0 \\right]$\n",
    " * a `NeumannCondition` object for $P(x_a) = P_a$ & $P(x_b) = P_b $\n",
    "\n",
    "The `NeumannCondition` object, used with the `Stokes` object, defines a stress along a boundary such that:\n",
    "  * $ \\sigma_{ij} n_{j} = \\phi_{i} $ on $ \\Gamma_{\\phi} $\n",
    "\n",
    "  where  \n",
    "    * $n$ is the surface normal pointing outwards,\n",
    "    * $ \\sigma_{ij} = \\tau_{ij} - \\delta_{ij} P$ is the prescribed stress tensor, which is multiplied my $ n $ at $ \\Gamma_{\\phi} $ to produce $\\phi_{i}$, a surface traction on the given boundary."
   ]
  },
  {
   "cell_type": "code",
   "execution_count": 1,
   "metadata": {},
   "outputs": [],
   "source": [
    "import underworld as uw\n",
    "from underworld import function as fn\n",
    "import underworld.visualisation as vis\n",
    "import math\n",
    "import numpy as np\n",
    "\n",
    "# for machines without matplotlib #\n",
    "make_graphs = False\n",
    "if uw.utils.is_kernel(): \n",
    "    make_graphs = True\n",
    "    try:\n",
    "        import matplotlib\n",
    "    except ImportError:\n",
    "        make_graphs=False"
   ]
  },
  {
   "cell_type": "markdown",
   "metadata": {},
   "source": [
    "Setup parameters\n",
    "-----"
   ]
  },
  {
   "cell_type": "code",
   "execution_count": 2,
   "metadata": {},
   "outputs": [],
   "source": [
    "# domain height\n",
    "h = 1.0\n",
    "# Set a constant viscosity.\n",
    "viscosity = 1.4\n",
    "\n",
    "# position of walls and associated pressure on walls\n",
    "xa = -1.0\n",
    "pa = 4.0\n",
    "\n",
    "xb = 1.0\n",
    "pb = 3.0"
   ]
  },
  {
   "cell_type": "code",
   "execution_count": 3,
   "metadata": {},
   "outputs": [],
   "source": [
    "mesh = uw.mesh.FeMesh_Cartesian( elementType = (\"Q1/dQ0\"), \n",
    "                                 elementRes  = (128, 128), \n",
    "                                 minCoord    = (xa, 0.), \n",
    "                                 maxCoord    = (xb, h))\n",
    "\n",
    "velocityField   = uw.mesh.MeshVariable( mesh=mesh,         nodeDofCount=2 )\n",
    "pressureField   = uw.mesh.MeshVariable( mesh=mesh.subMesh, nodeDofCount=1 )\n",
    "appliedTractionField = uw.mesh.MeshVariable( mesh=mesh,    nodeDofCount=2 )\n",
    "\n",
    "# initialise velocity, pressure field\n",
    "velocityField.data[:] = [0.,0.]\n",
    "pressureField.data[:] = 0."
   ]
  },
  {
   "cell_type": "code",
   "execution_count": 4,
   "metadata": {},
   "outputs": [],
   "source": [
    "jWalls = mesh.specialSets[\"MinJ_VertexSet\"] + mesh.specialSets[\"MaxJ_VertexSet\"]\n",
    "iWalls = mesh.specialSets[\"MinI_VertexSet\"] + mesh.specialSets[\"MaxI_VertexSet\"]\n",
    "allWalls = iWalls + jWalls"
   ]
  },
  {
   "cell_type": "code",
   "execution_count": 5,
   "metadata": {},
   "outputs": [
    {
     "name": "stdout",
     "output_type": "stream",
     "text": [
      "-0.5\n"
     ]
    }
   ],
   "source": [
    "vBC = uw.conditions.DirichletCondition( variable = velocityField, \n",
    "                                        indexSetsPerDof = (jWalls, allWalls) )\n",
    "\n",
    "dp_dx = (pb-pa)/(xb-xa)\n",
    "\n",
    "# This stress is multiplied by the wall normal to produce a traction force.\n",
    "#############\n",
    "# Remember total stress = deviatoric - isotropic. \n",
    "# Thus +pressure is a negative stress.\n",
    "#############\n",
    "\n",
    "# The left wall normal unit vector is (-1,0)\n",
    "# The right wall normal unit vector is (1,0)\n",
    "\n",
    "# (-press) * normal_j = surface_force\n",
    "appliedTractionField.data[mesh.specialSets[\"MinI_VertexSet\"].data] = (pa,0.0)\n",
    "\n",
    "appliedTractionField.data[mesh.specialSets[\"MaxI_VertexSet\"].data] = (-1*pb,0.0)\n",
    "\n",
    "nbc = uw.conditions.NeumannCondition( fn_flux=appliedTractionField, \n",
    "                                      variable=velocityField,\n",
    "                                      indexSetsPerDof=(iWalls, None) )\n",
    "print(dp_dx)"
   ]
  },
  {
   "cell_type": "code",
   "execution_count": 6,
   "metadata": {},
   "outputs": [],
   "source": [
    "stokes = uw.systems.Stokes( velocityField = velocityField, \n",
    "                            pressureField = pressureField,\n",
    "                            conditions    = [vBC, nbc],\n",
    "                            fn_viscosity   = viscosity, \n",
    "                            fn_bodyforce   = 0.0 )\n",
    "\n",
    "solver = uw.systems.Solver( stokes )\n",
    "solver.solve()"
   ]
  },
  {
   "cell_type": "code",
   "execution_count": 7,
   "metadata": {},
   "outputs": [
    {
     "data": {
      "text/html": [
       "<img src='data:image/png;base64,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'>"
      ],
      "text/plain": [
       "<IPython.core.display.HTML object>"
      ]
     },
     "metadata": {},
     "output_type": "display_data"
    }
   ],
   "source": [
    "fig = vis.Figure()\n",
    "velmagfield = uw.function.math.sqrt( uw.function.math.dot( velocityField, velocityField ) )\n",
    "fig.append( vis.objects.VectorArrows(mesh, velocityField, arrowHead=0.2, scaling=0.9) )\n",
    "# fig.append( vis.objects.Mesh(mesh) )\n",
    "fig.append( vis.objects.Surface( mesh, pressureField ) )\n",
    "fig.show()"
   ]
  },
  {
   "cell_type": "code",
   "execution_count": 8,
   "metadata": {},
   "outputs": [
    {
     "name": "stdout",
     "output_type": "stream",
     "text": [
      "Ids,  16641\n"
     ]
    }
   ],
   "source": [
    "ids = mesh.specialSets[\"MaxI_VertexSet\"]\n",
    "coords = mesh.data[ids.data] # xcoords\n",
    "print(\"Ids, \", ids.size)\n",
    "V = velocityField.evaluate(ids)\n",
    "gradV = velocityField.fn_gradient.evaluate(ids)\n",
    "\n",
    "from mpi4py import MPI\n",
    "comm = MPI.COMM_WORLD\n",
    "# assuming order in the allgather is the same\n",
    "# some squashing of arrays required for parallel comms.\n",
    "V     = np.concatenate(\n",
    "            comm.allgather( V.ravel() )\n",
    "            ).reshape(-1,mesh.dim)\n",
    "gradV = np.concatenate(\n",
    "            comm.allgather( gradV.ravel() )\n",
    "            ).reshape(-1,mesh.dim*velocityField.data.shape[1])\n",
    "\n",
    "u = V[:,0] ; v = V[:,1]\n",
    "du_dx = gradV[:,0] ; du_dy = gradV[:,1]\n",
    "dv_dx = gradV[:,2] ; dv_dy = gradV[:,3]"
   ]
  },
  {
   "cell_type": "code",
   "execution_count": 9,
   "metadata": {},
   "outputs": [],
   "source": [
    "def exact_vx(y):\n",
    "    ana_u = 1.0 / (2.0 * viscosity)* dp_dx * (y**2 - h*y)\n",
    "    return ana_u"
   ]
  },
  {
   "cell_type": "code",
   "execution_count": 10,
   "metadata": {},
   "outputs": [
    {
     "data": {
      "image/png": "[encoded data removed]",
      "text/plain": [
       "<Figure size 864x432 with 1 Axes>"
      ]
     },
     "metadata": {
      "needs_background": "light"
     },
     "output_type": "display_data"
    }
   ],
   "source": [
    "if make_graphs:\n",
    "    uw.utils.matplotlib_inline()\n",
    "    import matplotlib.pyplot as pyplot\n",
    "    import matplotlib.pylab as pylab\n",
    "    pyplot.ion() # needed to ensure pure python jobs do now hang on show()\n",
    "\n",
    "    pylab.rcParams[ 'figure.figsize'] = 12, 6\n",
    "    pyplot.plot(coords[:,1], u, 'o', color = 'green', label='vx')\n",
    "    pyplot.plot(coords[:,1], v, 'o', color = 'red', label='vy')\n",
    "    big = np.linspace(0.0,h)\n",
    "    pyplot.plot(big, exact_vx(big), 'D', color = 'purple', label='exact_vx', markersize=2)\n",
    "    pyplot.legend()\n",
    "    pyplot.xlabel('y coords at x=xmax')\n",
    "    pyplot.ylabel('velocity')\n",
    "    pyplot.show()"
   ]
  },
  {
   "cell_type": "code",
   "execution_count": 11,
   "metadata": {},
   "outputs": [
    {
     "name": "stdout",
     "output_type": "stream",
     "text": [
      "Relative error against analytic solution: 1.416719019592425e-05\n"
     ]
    }
   ],
   "source": [
    "ana_u = exact_vx(coords[:,1])\n",
    "\n",
    "if uw.mpi.rank == 0:\n",
    "    abserr = np.linalg.norm(ana_u - u)\n",
    "    mag = np.linalg.norm(ana_u)\n",
    "    relerr = abserr / mag\n",
    "    threshold = 1.0e-4\n",
    "    print(\"Relative error against analytic solution: {}\".format(relerr))\n",
    "    if relerr > threshold:\n",
    "        raise RuntimeError(\"The numerical solution is outside the error threshold of the analytic solution.\" \\\n",
    "                           \"The Relative error was \", relerr,\" the threshold is \", threshold)"
   ]
  },
  {
   "cell_type": "code",
   "execution_count": 12,
   "metadata": {},
   "outputs": [],
   "source": [
    "# Further analytics\n",
    "# pyplot.plot(coords[:,1], du_dy, 'o', color = 'purple', label='du_dy')\n",
    "# pyplot.plot(coords[:,1], du_dx, '+', color = 'black', label='du_dx')\n",
    "# pyplot.plot(coords[:,1], dv_dy, 'x', color = 'orange', label='dv_dy')\n",
    "# pyplot.plot(coords[:,1], dv_dx, '.', color = 'red', label='dv_dx')\n",
    "# pyplot.legend()\n",
    "# pyplot.xlabel('y coords at x=xmax')\n",
    "# pyplot.ylabel('velocity gradients')\n",
    "# pyplot.show()"
   ]
  },
  {
   "cell_type": "code",
   "execution_count": 13,
   "metadata": {},
   "outputs": [],
   "source": [
    "## Further analytics\n",
    "# def exact_shearSR(y):\n",
    "#     shearSR = dp_dx / (2.0*viscosity) * (y - h/2 )\n",
    "#     return shearSR\n",
    "# strainRate = fn.tensor.symmetric( velocityField.fn_gradient )\n",
    "# devstress = 2.0 * viscosity * strainRate\n",
    "# pyplot.plot(coords[:,1], sr, '-', label='exact_shearSR')\n",
    "# pyplot.plot(coords[:,1], strainRate.evaluate(ids)[:,2], 'o', color = 'purple', label='sr_shear')\n",
    "# pyplot.plot(coords[:,1], devstress.evaluate(ids)[:,2], '+', label='tau_shear')\n",
    "# pyplot.legend()\n",
    "# pyplot.xlabel('y coords at x=xmax')\n",
    "# pyplot.ylabel('strain rate')\n",
    "# pyplot.show()"
   ]
  }
 ],
 "metadata": {
  "kernelspec": {
   "display_name": "Python 3",
   "language": "python",
   "name": "python3"
  },
  "language_info": {
   "codemirror_mode": {
    "name": "ipython",
    "version": 3
   },
   "file_extension": ".py",
   "mimetype": "text/x-python",
   "name": "python",
   "nbconvert_exporter": "python",
   "pygments_lexer": "ipython3",
   "version": "3.7.3"
  }
 },
 "nbformat": 4,
 "nbformat_minor": 1
}
