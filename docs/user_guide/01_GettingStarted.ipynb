{
 "cells": [
  {
   "cell_type": "markdown",
   "metadata": {},
   "source": [
    "# Getting Started\n",
    "\n",
    "\n",
    "## Welcome to using Underworld! \n",
    "\n",
    "[Underworld](http://www.underworldcode.org) is a Python library for the development of long time scale earth process models. The Underworld Python interface is designed to facilitate interactive and intuitive model development. To this end, we embrace Jupyter Notebooks as the preferred development environment, although the standard Python interpreter is the only requirement. Underworld utilises MPI parallelisation to allow large simulation across HPC facilities. The Python interface was partly funded by the NeCTAR [eResearch_tools](http://www.nectar.org.au/eresearch-tools) program.\n",
    "\n",
    "Underworld includes the `visualisation` submodule for interactive visualisation within the Jupter Notebook environment, and for seamless visualisation capabilities across parallel simulations. The [LavaVu](https://github.com/OKaluza/LavaVu) Python package is leveraged for rendering capabilities. \n",
    "\n",
    "\n",
    "## Resources\n",
    "\n",
    "There are numerous resources that you might find useful for learning and using Underworld:\n",
    "\n",
    "1. [underworld2.readthedocs.io](http://underworld2.readthedocs.io): The page where most of our primary documentation is published, including this user guide, and the API documentation. It also links out to most other resources.\n",
    "1. [github.com/underworldcode/underworld2](https://github.com/underworldcode/underworld2): Our code repository. You can keep track of changes to the codes base here, and you can also browse most of our documention directly within the Github interface. Don't forget to `Star` and `Watch` our project if you find it useful! \n",
    "1. [github.com/underworldcode/underworld2/issues](https://github.com/underworldcode/underworld2/issues): Please use our issue tracker to report any bugs or difficulties you encounter. This includes any general usage questions as well as technial issues. If you wish to submit a suspected bug, please include a **minimal** example which allows us to reproduce the issue. It is also the place to post any feature requests you may have!\n",
    "1. **The User Guide**: A more focused look at the various aspects of Underworld modelling. Note that each section is a self container Jupyter Notebook document, available in the Underworld repository (`docs/user_guide`). It is also published at the Underworld ReadTheDocs page.\n",
    "1. **Examples**: These notebooks go through the entire Underworld workflow for constructing and solving geophysics models. These models demonstrate Underworld current best usage practises, and are guaranteed to operate correctly for each Underworld release. They are available in the repository at `docs/examples`.\n",
    "1. **API Documentation**: The Underworld API documentation is published at our ReadTheDocs page. Note that the API documentation is embedded in the Python implementation as *docstrings*, and is therefore also available directy via the Python `help()` *built-in*. More usefully, this information is accessible within Jupyter Notebooks via the *tooltips* shortcut `Shift`-`Tab` (when in edit mode).\n",
    "1. [Underworld Models Library](https://github.com/underworldcode/model_library): A repository of Underworld models. The library includes models which reproduce publication results, tutorials, examples and usage tidbits. Note that these models are not explicitly maintained, and so may not operate against the latest version of Underworld. If you scroll to the end of each model, it should state which version of Underworld the repository model was successfully ran against.\n",
    "\n",
    "\n",
    "## Required Python Skills\n",
    "\n",
    "To use Underworld successfully, you will need to have an understanding of the following Python constructs:\n",
    "\n",
    "1. Basic Python, such as importing modules, and syntax structure (indenting, functions, etc).\n",
    "1. Containers such as dictionaries, lists and tuples. \n",
    "1. Flow control (loops, if-else conditionals, etc).\n",
    "1. Python objects, object methods, object attributes, object lifecycles.\n",
    "\n",
    "Most beginner (or intermediate) Python tutorials should cover these concepts. Also useful, though not strictly necessary, is some familiarity with the following:\n",
    "\n",
    "1. Exception handling (for dealing with errors that might occur). \n",
    "1. Context managers (for mesh and swarm deformations). \n",
    "1. Operator overloading.\n",
    "\n",
    "Note that Underworld heavily leverages the `numpy` Python numerical library for all heavy data access and manipulation. All Underworld objects that record heavy data will expose their data via the `data` attribute, which is actually a handle to a `numpy` array. As such, familiary with numpy usage paradigms is a must, and more advanced usage patterns (array slicing, advanced indexing, etc) will become important as your models increase in complexity. \n",
    "\n",
    "Similarly, Underworld uses `h5py` for all heavy data disk IO. H5py is a Python library which provides a Python interface to writing/reading `HDF5` format files. While not strictly required, more advanced users will certainly find having some familiarity with the `h5py` libary useful, both for directly querying files Underworld has generated, and also for writing their own files (in preference to CSV for example).\n",
    "\n",
    "\n",
    "## Jupyter Notebooks\n",
    "\n",
    "Jupyter Notebooks is the recommended environment for most model development. In Underworld we utilise notebooks to provide inline visualisation of your model configurations, allowing you to quickly see your results, modify as required, and then regenerate and repeat. Equally important is the *tooltips* and *autocomplete* functionality provided within the notebooks. To access tooltips, use `shift`-`tab` while you have the text editing cursor located within an Underworld object (or you can write a question mark after the object, and execute the cell). For autocomplete, after you type a few letters you can press `tab` to be provided with all possible completion options. Using these tools is essential to rapid and frustration free model development, especially for new users. \n",
    "\n",
    "If you are new to Jupyter Notebooks, you should familiarise yourself with the notebook environment first. Also, remember the **Help** menu bar option provides useful references and keyboard shortcuts.\n",
    "\n",
    "### Jupyter Authentication\n",
    "\n",
    "Jupyter is, by design, a web service providing mechanisms for the execution of arbitrary code, such as your Underworld models (or other Python scripts). However, as a web service, security measures are required to preclude external parties from accessing your Jupyter instances (and thereby potentially executing malicious code). Jupyter therefore requires you to provide an authentication Token upon first accessing the service via your web browser. This token is generated when you first start Jupyter from the command line:\n",
    "\n",
    "![](Figures/jupyter_token.png)\n",
    "\n",
    "Simply copy/paste the generated token and enter it manually within your browser (once you have browsed to the Jupyter instance url, often http://127.0.0.1:8888).\n",
    "\n",
    "For those using the Kitematic GUI to launch our Docker image, Jupyter will be launched automatically, and the token may be found within the **CONTAINER LOGS** dialog:\n",
    "\n",
    "![](Figures/kitematic_token.png)\n",
    "\n",
    "\n",
    "## How to get help\n",
    "\n",
    "If you encounter issues or suspect a bug, please create a ticket using the [issue tracker on github](https://github.com/underworldcode/underworld2/issues).\n",
    "\n"
   ]
  },
  {
   "cell_type": "markdown",
   "metadata": {
    "collapsed": true
   },
   "source": [
    "A quick demo\n",
    "-----\n",
    "\n",
    "Let's do a quick run through of setting up some basic Underworld objects."
   ]
  },
  {
   "cell_type": "code",
   "execution_count": 1,
   "metadata": {},
   "outputs": [
    {
     "data": {
      "text/html": [
       "<img src='data:image/png;base64,iVBORw0KGgoAAAANSUhEUgAAAyAAAAGQCAIAAADZR5NjAAAVSElEQVR4nO3dQa4cRQJF0UzobSGE2Bey2BdCiHXh7Bk9bGOFSfvdc+RJTfzjqr7kp6hy1f08zwUAwDnfvX0AAIA1BhYAwGEGFgDAYQYWAMBhBhYAwGEGFgDAYQYWAMBhBhYAwGEGFgDAYQYWAMBhBhYAwGEGFgDAYQYWAMBhBhYAwGEGFgDAYQYWAMBhBhYAwGEGFgDAYQYWAMBhBhYAwGEGFgDAYQYWAMBhBhYAwGEGFgDAYQYWAMBhBhYAwGEGFgDAYQYWAMBhBhYAwGEGFgDAYQYWAMBhBhYAwGH/efsAJ933/fYRAIDP9DzP20c4Zmdg3ff9JAfW/TzCU4TXCK8ph799hJN2BtZ1XVfyN/J6HuEtwmuE15TDh2wNrO+Sbyn7+FF4i/Aa4TXl8CFbA6s5+S/hPcJrhNdkw4dsDazm5L+E9wivEV6TDR+yNbCyk194jfAa4TXZ8CFbAys7+YXXCK8RXpMNH7I1sLKTX3iN8BrhNdnwIVsDKzv5hdcIrxFekw0fsjWwspNfeI3wGuE12fAhWwMrO/mF1wivEV6TDR+yNbCyk194jfAa4TXZ8CFbAys7+YXXCK8RXpMNH7I1sLKTX3iN8BrhNdnwIVsDKzv5hdcIrxFekw0fYmBNEF4jvEZ4TTZ8yNbAyt6pCq8RXiO8Jhs+ZGtgZSe/8BrhNcJrsuFDtgZWdvILrxFeI7wmGz5ka2BlJ7/wGuE1wmuy4UO2BlZ28guvEV4jvCYbPmRrYGUnv/Aa4TXCa7LhQ7YGVnbyC68RXiO8Jhs+ZGtgZSe/8BrhNcJrsuFDtgZWdvILrxFeI7wmGz5ka2BlJ7/wGuE1wmuy4UO2BlZ28guvEV4jvCYbPmRrYGUnv/Aa4TXCa7LhQ7YGVnbyC68RXiO8Jhs+ZGtgZSe/8BrhNcJrsuFDtgZWdvILrxFeI7wmGz5ka2BlJ7/wGuE1wmuy4UO2BlZ28guvEV4jvCYbPmRrYGUnv/Aa4TXCa7LhQ7YGVnbyC68RXiO8Jhs+ZGtgZSe/8BrhNcJrsuFDtgZWdvILrxFeI7wmGz5ka2BlJ7/wGuE1wmuy4UO2BlZ28guvEV4jvCYbPmRrYGUnv/Aa4TXCa7LhQ7YGVnbyC68RXiO8Jhs+5H6e5+0znHH7dQSAb9nMJrnGbrCen356+wgvuH//XXiK8BrhNeXwt49w0tTA6t6pCq8RXiO8Jhs+ZGtgZd8VKLxGeI3wmmz4kK2BlZ38wmuE1wivyYYP2RpY2ckvvEZ4jfCabPiQrYGVnfzCa4TXCK/Jhg/ZGljZyS+8RniN8Jps+JCtgZWd/MJrhNcIr8mGD9kaWNnJL7xGeI3wmmz4kK2BlZ38wmuE1wivyYYP2RpY2ckvvEZ4jfCabPgQA2uC8BrhNcJrsuFDtgZW9k5VeI3wGuE12fAhWwMrO/mF1wivEV6TDR+yNbCyk194jfAa4TXZ8CFbAys7+YXXCK8RXpMNH7I1sLKTX3iN8BrhNdnwIVsDKzv5hdcIrxFekw0fsjWwspNfeI3wGuE12fAhWwMrO/mF1wivEV6TDR+yNbCyk194jfAa4TXZ8CFbAys7+YXXCK8RXpMNH7I1sLKTX3iN8BrhNdnwIVsDKzv5hdcIrxFekw0fYmBNEF4jvEZ4TTZ8yNbAyt6pCq8RXiO8Jhs+ZGtgZSe/8BrhNcJrsuFDtgZWdvILrxFeI7wmGz5ka2BlJ7/wGuE1wmuy4UO2BlZ28guvEV4jvCYbPmRrYGUnv/Aa4TXCa7LhQ7YGVnbyC68RXiO8Jhs+ZGtgZSe/8BrhNcJrsuFDtgZWdvILrxFeI7wmGz5ka2BlJ7/wGuE1wmuy4UMMrAnCa4TXCK/Jhg/ZGljZO1XhNcJrhNdkw4dsDazs5BdeI7xGeE02fMjWwMpOfuE1wmuE12TDh2wNrOzkF14jvEZ4TTZ8yP08z9tnOOO29wHgWzazSa6xG6znw4e3j/CC+8MH4SnCa4TXlMPfPsJJUwOr+6K18BrhNcJrsuFDtgZW9kVr4TXCa4TXZMOHbA2s7OQXXiO8RnhNNnzI1sDKTn7hNcJrhNdkw4dsDazs5BdeI7xGeE02fMjWwMpOfuE1wmuE12TDhxhYE4TXCK8RXpMNH7I1sLJ3qsJrhNcIr8mGD9kaWNnJL7xGeI3wmmz4kK2BlZ38wmuE1wivyYYP2RpY2ckvvEZ4jfCabPiQrYGVnfzCa4TXCK/Jhg/ZGljZyS+8RniN8Jps+JCtgZWd/MJrhNcIr8mGD9kaWNnJL7xGeI3wmmz4kK2BlZ38wmuE1wivyYYP2RpY2ckvvEZ4jfCabPgQA2uC8BrhNcJrsuFDtgZW9k5VeI3wGuE12fAhWwMrO/mF1wivEV6TDR+yNbCyk194jfAa4TXZ8CFbAys7+YXXCK8RXpMNH7I1sLKTX3iN8BrhNdnwIVsDKzv5hdcIrxFekw0fsjWwspNfeI3wGuE12fAhWwMrO/mF1wivEV6TDR+yNbCyk194jfAa4TXZ8CFbAys7+YXXCK8RXpMNH7I1sLKTX3iN8BrhNdnwIVsDKzv5hdcIrxFekw0fYmBNEF4jvEZ4TTZ8yNbAyt6pCq8RXiO8Jhs+ZGtgZSe/8BrhNcJrsuFDtgZWdvILrxFeI7wmGz5ka2BlJ7/wGuE1wmuy4UO2BlZ28guvEV4jvCYbPmRrYGUnv/Aa4TXCa7LhQ7YGVnbyC68RXiO8Jhs+ZGtgZSe/8BrhNcJrsuFDtgZWdvILrxFeI7wmGz7kfp7n7TOccft1BIBv2cwmucZusJ4//nj7CC+4f/xReIrwGuE15fC3j3DS1MDq3qkKrxFeI7wmGz5ka2Bl3xUovEZ4jfCabPiQrYGVnfzCa4TXCK/Jhg/ZGljZyS+8RniN8Jps+JCtgZWd/MJrhNcIr8mGD9kaWNnJL7xGeI3wmmz4kK2BlZ38wmuE1wivyYYP2RpY2ckvvEZ4jfCabPiQrYGVnfzCa4TXCK/Jhg/ZGljZyS+8RniN8Jps+JCtgXVXfyOF1wivEV6TDR+yNbC+q96pCq8RXiO8Jhs+ZGtgZSe/8BrhNcJrsuFDtgZWdvILrxFeI7wmGz5ka2BlJ7/wGuE1wmuy4UO2BlZ28guvEV4jvCYbPmRrYGUnv/Aa4TXCa7LhQ7YGVnbyC68RXiO8Jhs+ZGtgZSe/8BrhNcJrsuFDpgbWU538wmuE1wivyYYvmRpY3ckvvEZ4jfCabPiQrYGVnfzCa4TXCK/Jhg/ZGljZyS+8RniN8Jps+JCtgZX9+nHhNcJrhNdkw4dsDay7eqcqvEZ4jfCabPiQrYGVnfzCa4TXCK/Jhg8ZG1jVyS+8RniN8Jps+JCtgZV9V6DwGuE1wmuy4UO2BlZ28guvEV4jvCYbPmRrYGUnv/Aa4TXCa7LhQ7YGVnbyC68RXiO8Jhs+ZGtgZSe/8BrhNcJrsuFDtgZWdvILrxFeI7wmGz5ka2BlJ7/wGuE1wmuy4UO2Blb2k9mE1wivEV6TDR+yNbCy3y0gvEZ4jfCabPiQrYGVnfzCa4TXCK/Jhg/ZGljZyS+8RniN8Jps+JCtgZWd/MJrhNcIr8mGD7mf53n7DGfc9j4AfMtmNsk1doP11187T8yn+/77W3iK8BrhNeXwt49w0tTAGhq+/4zwGuE1wmuy4UumBtbHj2+f4CXCa4TXCK/Jhi+ZGljZyS+8RniN8Jps+JKpgZWd/MJrhNcIr8mGL5kaWNnJL7xGeI3wmmz4kqmBlZ38wmuE1wivyYYvmRpY2ckvvEZ4jfCabPiSqYGVnfzCa4TXCK/Jhi+ZGljZyS+8RniN8Jps+JKpgZWd/MJrhNcIr8mGL5kaWNnJL7xGeI3wmmz4kqmBlZ38wmuE1wivyYYvmRpY2ckvvEZ4jfCabPiSqYGVnfzCa4TXCK/Jhi8xsBYIrxFeI7wmG75kamBl71SF1wivEV6TDV8yNbCyk194jfAa4TXZ8CVTAys7+YXXCK8RXpMNXzI1sLKTX3iN8BrhNdnwJVMDKzv5hdcIrxFekw1fMjWwspNfeI3wGuE12fAlUwMrO/mF1wivEV6TDV8yNbCyk194jfAa4TXZ8CVTAys7+YXXCK8RXpMNXzI1sLKTX3iN8BrhNdnwJVMDKzv5hdcIrxFekw1fMjWwspNfeI3wGuE12fAlUwMrO/mF1wivEV6TDV8yNbCyk194jfAa4TXZ8CVTAys7+YXXCK8RXpMNXzI1sLKTX3iN8BrhNdnwJVMDKzv5hdcIrxFekw1fMjWwspNfeI3wGuE12fAlUwMrO/mF1wivEV6TDV8yNbCyk194jfAa4TXZ8CVTAys7+YXXCK8RXpMNXzI1sLKTX3iN8BrhNdnwJVMDKzv5hdcIrxFekw1fMjWwspNfeI3wGuE12fAlUwMrO/mF1wivEV6TDV9yPytP433fbx8BAPh8M5vkGrvB+u23nSfm0/388y08RXiN8Jpy+NtHOGlqYA0N339GeI3wGuE12fAlUwMr+65A4TXCa4TXZMOXTA2s7OQXXiO8RnhNNnzJ1MDKTn7hNcJrhNdkw5dMDazs5BdeI7xGeE02fMnUwMpOfuE1wmuE12TDl0wNrOzkF14jvEZ4TTZ8ydTAyk5+4TXCa4TXZMOXTA2s7OQXXiO8RnhNNnzJ1MDKTn7hNcJrhNdkw5cYWAuE1wivEV6TDV8yNbCyd6rCa4TXCK/Jhi+ZGljZyS+8RniN8Jps+JKpgZWd/MJrhNcIr8mGL5kaWNnJL7xGeI3wmmz4kqmBlZ38wmuE1wivyYYvmRpY2ckvvEZ4jfCabPiSqYGVnfzCa4TXCK/Jhi+ZGljZyS+8RniN8Jps+JKpgZWd/MJrhNcIr8mGL5kaWNnJL7xGeI3wmmz4kqmBlZ38wmuE1wivyYYvmRpY2ckvvEZ4jfCabPgSA2uB8BrhNcJrsuFLpgZW9k5VeI3wGuE12fAlUwMrO/mF1wivEV6TDV8yNbCyk194jfAa4TXZ8CVTAys7+YXXCK8RXpMNXzI1sLKTX3iN8BrhNdnwJVMDKzv5hdcIrxFekw1fMjWwspNfeI3wGuE12fAlUwMrO/mF1wivEV6TDV8yNbCyk194jfAa4TXZ8CVTAys7+YXXCK8RXpMNX2JgLRBeI7xGeE02fMnUwMreqQqvEV4jvCYbvmRqYGUnv/Aa4TXCa7LhS6YGVnbyC68RXiO8Jhu+ZGpgZSe/8BrhNcJrsuFL7mdlJ9/3/fYRAIDPN7NJrrEbrF9+2XliPt2vv97CU4TXCK8ph799hJOmBtbQ8P1nhNcIrxFekw1fMjWwsi9aC68RXiO8Jhu+ZGpgZSe/8BrhNcJrsuFLpgZWdvILrxFeI7wmG75kamBlJ7/wGuE1wmuy4UumBlZ28guvEV4jvCYbvsTAWiC8RniN8Jps+JKpgZW9UxVeI7xGeE02fMnUwMpOfuE1wmuE12TDl0wNrOzkF14jvEZ4TTZ8ydTAyk5+4TXCa4TXZMOXTA2s7OQXXiO8RnhNNnzJ1MDKTn7hNcJrhNdkw5dMDazs5BdeI7xGeE02fMnUwMpOfuE1wmuE12TDl0wNrOzkF14jvEZ4TTZ8ydTAyk5+4TXCa4TXZMOXGFgLhNcIrxFekw1fMjWwsneqwmuE1wivyYYvmRpY2ckvvEZ4jfCabPiSqYGVnfzCa4TXCK/Jhi+ZGljZyS+8RniN8Jps+JKpgZWd/MJrhNcIr8mGL5kaWNnJL7xGeI3wmmz4kqmBlZ38wmuE1wivyYYvmRpY2ckvvEZ4jfCabPiSqYGVnfzCa4TXCK/Jhi+ZGljZyS+8RniN8Jps+JKpgZWd/MJrhNcIr8mGL5kaWNnJL7xGeI3wmmz4EgNrgfAa4TXCa7LhS6YGVvZOVXiN8BrhNdnwJVMDKzv5hdcIrxFekw1fMjWwspNfeI3wGuE12fAlUwMrO/mF1wivEV6TDV8yNbCyk194jfAa4TXZ8CVTAys7+YXXCK8RXpMNXzI1sLKTX3iN8BrhNdnwJVMDKzv5hdcIrxFekw1fMjWwspNfeI3wGuE12fAl97PyNN73/fYRAIDPN7NJrrEbrB9+2HliPt2ff97CU4TXCK8ph799hJOmBtbQ8P1nhNcIrxFekw1fMjWwsu8KFF4jvEZ4TTZ8ydTAyk5+4TXCa4TXZMOXTA2s7OQXXiO8RnhNNnzJ1MDKTn7hNcJrhNdkw5dMDazs5BdeI7xGeE02fMnUwMpOfuE1wmuE12TDl0wNrOzkF14jvEZ4TTZ8ydTAyk5+4TXCa4TXZMOXTA2s7OQXXiO8RnhNNnzJ1MDKTn7hNcJrhNdkw5dMDazs5BdeI7xGeE02fMnUwMpOfuE1wmuE12TDl0wNrOzkF14jvEZ4TTZ8ydTAyk5+4TXCa4TXZMOXTA2s7OQXXiO8RnhNNnzJ1MDKTn7hNcJrhNdkw5dMDazs5BdeI7xGeE02fMnUwMpOfuE1wmuE12TDl0wNrOzkF14jvEZ4TTZ8ydTAyk5+4TXCa4TXZMOXTA2s7OQXXiO8RnhNNnzJ1MDKTn7hNcJrhNdkw5dMDazs5BdeI7xGeE02fMnUwMpOfuE1wmuE12TDl0wNrOzkF14jvEZ4TTZ8iYG1QHiN8BrhNdnwJVMDK3unKrxGeI3wmmz4kqmBlZ38wmuE1wivyYYvmRpY2ckvvEZ4jfCabPiSqYGVnfzCa4TXCK/Jhi+ZGljZyS+8RniN8Jps+JKpgZWd/MJrhNcIr8mGL5kaWNnJL7xGeI3wmmz4kqmBlZ38wmuE1wivyYYvmRpY2ckvvEZ4jfCabPiSqYGVnfzCa4TXCK/Jhi+ZGljZyS+8RniN8Jps+JKpgZWd/MJrhNcIr8mGL7mflZ183/fbRwAAPt/MJrmWBhYAwFfiu7cPAACwxsACADjMwAIAOMzAAgA4bOpjGv4v/9MQAN6S+n91rYF1Xdd1Pfd9/f3nuq4v8fAL/bX/2sOv4QzO/+0+/KI/5Xqe//35Qg//nZ/i/M7/dT78Yj+ldsPhJUIAgMMMLACAwwwsAIDDDCwAgMMMLACAwwwsAIDDDCwAgMMMLACAwwwsAIDDgp/kfv/9AbMAAF9CbmClvggJAL4Sta8D9hIhAMBhBhYAwGEGFgDAYbf3JAEAnBW6wbrvu/YOOwD4StT+Ca4MrPu+n+d5nqf2BAPA64L/+FYGFgDwluD7kQwsAIDDDCwAgMMMLACAwypflfP329uDLwMDAP8yn4MFAHCYlwgBAA4zsAAADjOwAAAOM7AAAA77L81+JR6Xn2IaAAAAAElFTkSuQmCC'>"
      ],
      "text/plain": [
       "<IPython.core.display.HTML object>"
      ]
     },
     "metadata": {},
     "output_type": "display_data"
    }
   ],
   "source": [
    "# Import underworld\n",
    "import underworld as uw\n",
    "# Create a mesh:\n",
    "mesh = uw.mesh.FeMesh_Cartesian( elementRes  = (8, 8), \n",
    "                                 minCoord    = (0., 0.), \n",
    "                                 maxCoord    = (2., 1.))\n",
    "\n",
    "# Next we create a mesh variable:\n",
    "temperatureField = mesh.add_variable( nodeDofCount=1 )\n",
    "\n",
    "# Let's initialise the variable with some data:\n",
    "for index, coord in enumerate(mesh.data):\n",
    "    temperatureField.data[index] = coord[1]  # set the temperature to be the vertical (y) coordinate\n",
    "\n",
    "# Finally we will render the temperature field.\n",
    "import underworld.visualisation as vis\n",
    "fig = vis.Figure(figsize=(800,400))\n",
    "fig.append( vis.objects.Surface(mesh, temperatureField, colours=\"blue white red\") )\n",
    "fig.append( vis.objects.Mesh(mesh) )\n",
    "fig.show()"
   ]
  },
  {
   "cell_type": "markdown",
   "metadata": {},
   "source": [
    "Typically we might then setup boundary conditions, particle swarms, rheology and systems to be solved.\n",
    "\n",
    "All of these topics are discussed in the following sections of the user guide."
   ]
  }
 ],
 "metadata": {
  "kernelspec": {
   "display_name": "Python 3",
   "language": "python",
   "name": "python3"
  },
  "language_info": {
   "codemirror_mode": {
    "name": "ipython",
    "version": 3
   },
   "file_extension": ".py",
   "mimetype": "text/x-python",
   "name": "python",
   "nbconvert_exporter": "python",
   "pygments_lexer": "ipython3",
   "version": "3.5.3"
  }
 },
 "nbformat": 4,
 "nbformat_minor": 1
}
