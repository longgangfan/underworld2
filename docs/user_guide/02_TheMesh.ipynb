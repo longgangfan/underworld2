{
 "cells": [
  {
   "cell_type": "markdown",
   "metadata": {},
   "source": [
    "# The Mesh\n",
    "\n",
    "\n",
    "The finite element mesh is a fundamental construct for Underworld modelling. It will generally determine your domain geometry, and the resolution of the finite element system. For parallel simulations, the mesh topology will also determine the domain decomposition for the problem. Currently `underworld` only provides curvilinear mesh capabilities.\n",
    "\n",
    "#### Overview:\n",
    "\n",
    "1. Creating mesh objects.\n",
    "1. Element types.\n",
    "1. Deforming the mesh.\n",
    "1. Loading and saving the mesh.\n",
    "1. Special sets.\n",
    "1. Mesh variables\n",
    "1. Setting values on a mesh variables.\n",
    "1. Gradients of mesh variable fields.\n",
    "1. Loading and saving mesh variable data.\n",
    "\n",
    "**Keywords:** mesh variables, finite elements, load, save, initial conditions\n",
    "\n",
    "## Creating the mesh\n",
    "\n",
    "First create an 2x2 element mesh. By default the mesh will be of rectangular geometry, with domain extents specified via the `minCoord` and `maxCoord` constructor parameters. "
   ]
  },
  {
   "cell_type": "code",
   "execution_count": 1,
   "metadata": {},
   "outputs": [
    {
     "data": {
      "text/html": [
       "<img src='data:image/png;base64,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'>"
      ],
      "text/plain": [
       "<IPython.core.display.HTML object>"
      ]
     },
     "metadata": {},
     "output_type": "display_data"
    }
   ],
   "source": [
    "# This example creates a mesh, and visualises it. \n",
    "import underworld as uw\n",
    "import underworld.visualisation as vis\n",
    "mesh = uw.mesh.FeMesh_Cartesian( elementRes  = (2, 2), \n",
    "                                 minCoord    = (0.0, 0.0), \n",
    "                                 maxCoord    = (2.0, 1.0) )\n",
    "\n",
    "# visualising the result\n",
    "figMesh = vis.Figure(figsize=(800,400))\n",
    "figMesh.append( vis.objects.Mesh(mesh, nodeNumbers=True, pointsize=10) )\n",
    "figMesh.show()"
   ]
  },
  {
   "cell_type": "markdown",
   "metadata": {},
   "source": [
    "As is usually the pattern for data carrying objects in Underworld, underlying data is available as `numpy` arrays via the `data` mesh instances attribute. In the case of mesh objects, this data corresponds to mesh node coordinate information."
   ]
  },
  {
   "cell_type": "code",
   "execution_count": 2,
   "metadata": {},
   "outputs": [
    {
     "name": "stdout",
     "output_type": "stream",
     "text": [
      "[ 0.  0.]\n",
      "[ 0.5  0. ]\n",
      "[ 1.  0.]\n",
      "[ 0.   0.5]\n",
      "[ 0.5  0.5]\n",
      "[ 1.   0.5]\n",
      "[ 0.  1.]\n",
      "[ 0.5  1. ]\n",
      "[ 1.  1.]\n"
     ]
    }
   ],
   "source": [
    "# This example simply prints mesh node information.\n",
    "import underworld as uw\n",
    "mesh = uw.mesh.FeMesh_Cartesian(elementRes=(2, 2))\n",
    "for item in mesh.data:\n",
    "    print(item)"
   ]
  },
  {
   "cell_type": "markdown",
   "metadata": {},
   "source": [
    "Note that data in `underworld` is always published as arrays of shape `(num_items, count)`, where `num_items` is the number of items in the dataset (in this case, 3x3 nodes, so `9`), and `count` is the size of each data item (so `1` for scalar data, `2` or `3` for vectors in 2- and 3-dimensions respectively, etc). \n",
    "\n",
    "In parallel, each process will be assigned responsibility for a subsection of the domain, and as such the length (`num_items`) of the arrays will generally be different across processes. As such, while it might be tempting to use `numpy.reshape` to reshape your arrays to reflect the cartesian mesh topology, this approach will **not** work in parallel and is therefore not usually recommended. You should instead traverse data arrays as 1-d lists (each item of size `count`). Following this pattern will usually result in models which can safely be run in serial or parallel. "
   ]
  },
  {
   "cell_type": "markdown",
   "metadata": {},
   "source": [
    "## Element Types\n",
    "Underworld supports two primary element types: a linear element type (`Q1`) and a quadratic element type (`Q2`). Interpolation using these element types will provide continuous results across element boundaries, though note that interpolant derivatives will be discontinous across boundaries. Underworld also supports *mixed* element types, where a secondary element type may also be specified. This formulation is critical for stable solutions to Stokes type problems, with velocity fields being represented by the primary element type, and pressure fields by the secondary type. Secondary element types are not continuous across element boundaries. Supported secondary types are constant (`dQ0`), linear (`dPc1`) and bilinear (`dQ1`). Refer to http://femtable.org for further details on element types. \n",
    "\n",
    "Mesh element types are specified as a textual argument to the `elementType` constructor parameter. A primary type must always be provided (`Q1` or `Q2`), and where a secondary type is required, the primary/secondary types are provided as a pair (`Q1/dQ0`, `Q2/dPc1` or `Q2/dQ1`). For mixed type elements, two mesh objects are generated by the constructor, one for the primary and one for the secondary elements. The primary mesh will be the object returned directly by the constructor, with the secondary mesh available via the primary mesh's `subMesh` attribute.\n",
    "\n",
    "Note that where constructor parameters are omitted, default values are used. Defaults values are baked into the `underworld` API and may be determined in Jupyter by pressing `shift`-`tab` with the cursor inside the constructor parenthesis, or by using the Python `help()` function (with the class/function of interest as the argument). Default values are useful for quickly mocking up models, but may change without notice so should not be relied upon. \n",
    "\n",
    "Element boundaries (and therefore domain geometry and resolution) is entirely determined by the primary mesh, with the location of the secondary mesh nodes slaved to the primary mesh nodes. Secondary mesh nodes are visualised below."
   ]
  },
  {
   "cell_type": "code",
   "execution_count": 3,
   "metadata": {},
   "outputs": [
    {
     "data": {
      "text/html": [
       "<img src='data:image/png;base64,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'>"
      ],
      "text/plain": [
       "<IPython.core.display.HTML object>"
      ]
     },
     "metadata": {},
     "output_type": "display_data"
    }
   ],
   "source": [
    "# Create a mesh with submesh\n",
    "import underworld as uw\n",
    "import underworld.visualisation as vis\n",
    "mesh = uw.mesh.FeMesh_Cartesian( elementType=\"Q2/dpc1\", maxCoord=(2.0, 1.0) )\n",
    "submesh = mesh.subMesh\n",
    "figMesh = vis.Figure(figsize=(800,400))\n",
    "figMesh.append( vis.objects.Mesh(mesh) )\n",
    "figMesh.append( vis.objects.Mesh(submesh, nodeNumbers=True, pointsize=10) )\n",
    "figMesh.show()"
   ]
  },
  {
   "cell_type": "markdown",
   "metadata": {},
   "source": [
    "## Deforming the mesh\n",
    "\n",
    "It is often desirable to deform the mesh to either conform the domain to some geometry, or to implement mesh refinement by bunching nodes in certain domain regions. The user is free to modify the mesh as desired, though care must be taken to ensure elements are not improperly transformed (Jacobians should not become singular) and to avoid tangling (face normals should be consistent). \n",
    "\n",
    "To deform the mesh, the user will directly modify the node coordinates via the usual `data` array. Note however that modifications are only possible from within the `deform_mesh()` context manager, as otherwise the array is read-only."
   ]
  },
  {
   "cell_type": "code",
   "execution_count": 4,
   "metadata": {},
   "outputs": [
    {
     "data": {
      "text/html": [
       "<img src='data:image/png;base64,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'>"
      ],
      "text/plain": [
       "<IPython.core.display.HTML object>"
      ]
     },
     "metadata": {},
     "output_type": "display_data"
    }
   ],
   "source": [
    "# A trivial deformation\n",
    "import underworld as uw\n",
    "import underworld.visualisation as vis\n",
    "mesh = uw.mesh.FeMesh_Cartesian(elementRes=(2, 2), maxCoord=(2.0, 1.0) )\n",
    "with mesh.deform_mesh():\n",
    "    mesh.data[4][0] += 0.05\n",
    "figMesh = vis.Figure(figsize=(800,400))\n",
    "figMesh.append( vis.objects.Mesh(mesh, nodeNumbers=True, pointsize=10) )\n",
    "figMesh.show()"
   ]
  },
  {
   "cell_type": "markdown",
   "metadata": {},
   "source": [
    "Note that in the above example, for simplicity, we've simply moved an arbitrary mesh node. Usually you will not want to construct your logic in ways which rely on the node numbers themselves, as this will usually not be consistent across parallel simulations, and/or as you vary model resolution.\n",
    "\n",
    "We now look at a more realistic example where we deform the mesh to increase the resolution at the top of the domain. There are countless ways this may be achieved, but here we use the simple transformation $z \\rightarrow \\sqrt{z}$:"
   ]
  },
  {
   "cell_type": "code",
   "execution_count": 5,
   "metadata": {},
   "outputs": [
    {
     "data": {
      "text/html": [
       "<img src='data:image/png;base64,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'>"
      ],
      "text/plain": [
       "<IPython.core.display.HTML object>"
      ]
     },
     "metadata": {},
     "output_type": "display_data"
    }
   ],
   "source": [
    "# A more useful deformation\n",
    "import underworld as uw\n",
    "import underworld.visualisation as vis\n",
    "mesh = uw.mesh.FeMesh_Cartesian(elementRes=(32,32), maxCoord=(2.0, 1.0))\n",
    "with mesh.deform_mesh():\n",
    "    for index, coord in enumerate(mesh.data):\n",
    "        mesh.data[index][1] = mesh.data[index][1]**0.5\n",
    "figMesh = vis.Figure(figsize=(800,400))\n",
    "figMesh.append(vis.objects.Mesh(mesh))\n",
    "figMesh.show()"
   ]
  },
  {
   "cell_type": "markdown",
   "metadata": {},
   "source": [
    "## Saving and loading the mesh\n",
    "\n",
    "\n",
    "Your mesh data may be loaded or saved using the mesh instance `load()` and `save()` method respectively. All data in Underworld is written as HDF5 format binary files. There are numerous tools available for interrogating HDF5 files, but in Underworld we primarily leverage the `h5py` Python package. We recommend that users also familiarise themselves with this package to allow querying of Underworld generated data, and also as an excellent option for directly writing their own simulation data. \n",
    "\n",
    "You will wish to save data for analysis purposes, but also for simulation restart.  Note that Underworld does not provide any explicit *restart* functionality, and you will instead need to use object `load()` methods to return each object to their previous states. In Underworld, the pattern is always to first *recreate* vanilla equivalent objects, and *then* reload the data. So in the case of the mesh above, you must first recreate a standard mesh object, and it must be of identical resolution and element type. Finally you will reload the data."
   ]
  },
  {
   "cell_type": "code",
   "execution_count": 6,
   "metadata": {},
   "outputs": [],
   "source": [
    "# In this example we'll walk through some of the mesh loading mechanisms\n",
    "import underworld as uw\n",
    "mesh = uw.mesh.FeMesh_Cartesian()\n",
    "# trivially deform\n",
    "with mesh.deform_mesh():\n",
    "    mesh.data[3]+=0.1\n",
    "# save\n",
    "mesh.save('deformedMesh.h5')\n",
    "\n",
    "# create second mesh\n",
    "mesh2 = uw.mesh.FeMesh_Cartesian()\n",
    "# confirm that it is different to first\n",
    "import numpy as np\n",
    "result = np.allclose(mesh.data,mesh2.data)\n",
    "if result==True:  # raise error if result not as expected\n",
    "    raise RuntimeError(\"Mesh objects should not match. Something wrong has happenend\")\n",
    "\n",
    "# now load data onto second mesh, and re-test\n",
    "mesh2.load('deformedMesh.h5')\n",
    "result = np.allclose(mesh.data,mesh2.data)\n",
    "if result==False:  # raise error if result not as expected\n",
    "    raise RuntimeError(\"Mesh objects should match. Something wrong has happenend\")\n",
    "\n",
    "# let's remove the saved file as it is no longer required. \n",
    "if uw.mpi.rank==0:\n",
    "    import os;\n",
    "    os.remove('deformedMesh.h5')"
   ]
  },
  {
   "cell_type": "markdown",
   "metadata": {},
   "source": [
    "<br>\n",
    "\n",
    "## Special sets\n",
    "\n",
    "\n",
    "Special sets are sets of nodes which are in some way special to a given mesh object. For instance, for the cartesian mesh you will often wish to tie special values to the walls to form your problem boundary conditions. The list of special sets is provided via the `specialSets` list object. The sets are named with respect to the `(I,J,K)` cartesian indexing of the mesh, with the `I` index usually used for the horizontal (left/right), `J` for the vertical, and `K` for horizontal (front/back). Note that this is just a matter of convention, and you are free to chose how the cartesian coordinates map within your model. So, for example,  `MinI_VertexSet` specifies the set of nodes belonings to what we would normally consider to be the left wall, and similarly `MaxI_VertexSet` the right wall.  We also provide the alias (`Left_VertexSet`, `Right_VertexSet`, etc) for the most common use case."
   ]
  },
  {
   "cell_type": "code",
   "execution_count": 7,
   "metadata": {},
   "outputs": [
    {
     "name": "stdout",
     "output_type": "stream",
     "text": [
      "Available special sets for this mesh are:\n",
      "['MaxI_VertexSet', 'Top_VertexSet', 'Left_VertexSet', 'MinI_VertexSet', 'AllWalls_VertexSet', 'Bottom_VertexSet', 'Right_VertexSet', 'MinJ_VertexSet', 'MaxJ_VertexSet', 'Empty']\n",
      "\n",
      "Indices in the left set wall set:\n",
      "FeMesh_IndexSet([0, 3, 6])\n"
     ]
    }
   ],
   "source": [
    "import underworld as uw\n",
    "mesh = uw.mesh.FeMesh_Cartesian(elementRes=(2,2))\n",
    "print(\"Available special sets for this mesh are:\")\n",
    "print(mesh.specialSets.keys())\n",
    "leftset = mesh.specialSets['MinI_VertexSet']\n",
    "print(\"\\nIndices in the left set wall set:\")\n",
    "print(leftset)"
   ]
  },
  {
   "cell_type": "markdown",
   "metadata": {},
   "source": [
    "You can confirm that these are indeed the left nodes with reference to the mesh visualisation at the top of the page. Note that the special set indices always specify parallel **local** indices. In almost all instances, you will interact with only local data and identifiers. This pattern is critical to successful parallel operation, and is usually a natural way of constructing your models. You should also note that the above visualisation shows the global node numbering, though for these serial demonstrations the values are identical. Your checkpointed mesh (and mesh variable) data will however be ordered according to its global numbering. If for some reason you need to determine the global identifiers, they are stored in the `data_elgId` array."
   ]
  },
  {
   "cell_type": "markdown",
   "metadata": {},
   "source": [
    "## Mesh Variables\n",
    "\n",
    "\n",
    "Mesh variables are used to encode spatial data across the mesh. Underworld mesh variables assign data for each node of the mesh, so for example you might assign a temperature value at each mesh node. Mesh variables also leverage the mesh element shape functions to form interpolations within elements, allowing our discrete datasets to have continuous analogues formed. \n",
    "\n",
    "Mesh variables may be used for any number of purposes when constructing models, but most importantly they form the unknowns for the finite element numerical systems you will be solving. \n",
    "\n",
    "We create a mesh variable by using the mesh's `add_variable()` method, and specifying the `nodeDofCount` (node degree of freedom count). So for example, setting `nodeDofCount=1` yields a scalar mesh variable, having a single data value recorded at each node of the mesh, as you may require for perhaps a temperature field."
   ]
  },
  {
   "cell_type": "markdown",
   "metadata": {},
   "source": [
    "## Setting values on the MeshVariable\n",
    "\n",
    "As you will find with most Underworld data carrying objects, you will access the data directly via the `data` attribute. Our data is stored there as a numpy array, and you may therefore accessed or modified it using standard Numpy operations.\n",
    "\n",
    "Let's initialise a variable with a function based on its spatial coordinates\n",
    "\n",
    "$$\n",
    "T = 100\\exp(1-z)\n",
    "$$\n",
    "\n",
    "This variable may be used to represent a temperature field. We will walk over the mesh vertex data to access coordinate information. As the temperature field array is (by design) a 1-1 map to the vertex array, we know the index of the mesh vertex will be the index of the associated temperature datum. Note that the Python *built-in* `enumerate()` acts to return **both** the index of a piece of data in a list (or array), and the data itself. "
   ]
  },
  {
   "cell_type": "code",
   "execution_count": 8,
   "metadata": {},
   "outputs": [
    {
     "data": {
      "text/html": [
       "<img src='data:image/png;base64,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'>"
      ],
      "text/plain": [
       "<IPython.core.display.HTML object>"
      ]
     },
     "metadata": {},
     "output_type": "display_data"
    }
   ],
   "source": [
    "# create a mesh & meshvariable, and then initialise with data.\n",
    "import underworld as uw\n",
    "import underworld.visualisation as vis\n",
    "import math\n",
    "mesh = uw.mesh.FeMesh_Cartesian( maxCoord=(2., 1.) )\n",
    "# now create our mesh variable\n",
    "temperatureField = mesh.add_variable( nodeDofCount=1 )\n",
    "\n",
    "pi = math.pi\n",
    "for index, coord in enumerate(mesh.data):\n",
    "    temperatureField.data[index] = 100.*math.exp(1.-coord[1])\n",
    "\n",
    "# vis results    \n",
    "fig = vis.Figure(figsize=(800,400))\n",
    "fig.append( vis.objects.Surface(mesh, temperatureField) )\n",
    "fig.append( vis.objects.Mesh(mesh) )\n",
    "fig.show()"
   ]
  },
  {
   "cell_type": "markdown",
   "metadata": {},
   "source": [
    "To describe for example a velocity, a vector mesh variable is required. We set `nodeDofCount=2` accordingly, and initialise to:\n",
    "\n",
    "$$\n",
    "    \\mathbf{v} = \\left( z_0 - z, x - x_0 \\right)\n",
    "$$"
   ]
  },
  {
   "cell_type": "code",
   "execution_count": 9,
   "metadata": {},
   "outputs": [
    {
     "data": {
      "text/html": [
       "<img src='data:image/png;base64,iVBORw0KGgoAAAANSUhEUgAAAyAAAAGQCAIAAADZR5NjAAAgAElEQVR4nO2d0ZasqrJErTvW//9y3QdPsWlUTBEyIiHmwxn7rK6WKEiSMEH78/1+tyX5fD7LfnchhBDCgZWX2v9DC8Dw+Xz2/93/QwghhBB9WXyFXdRgCSGEEMKBZW3WigYrH+xlS5dCCCGED2vuF61osIQQQgjhzGo2azmDRVW+Wi3ahBBC+EC7vnCqGsFyBouHFGTrRJsQQghBa/76spbBoipfJXiUCCGEmAlmK0MrrBdrGSwepg8sIYQQJNDaLFphXVjIYKl8dcXE8S2EEGKH1s3QCnvJQgaLB6pISu9cRQsRQohJYHYMnNoYag3d+YcW4ARP+YpHyZaJgSsRQojJ2BMsZ3bl0cagYRCqYMGYOKqEEELscFaMdoZqs1x57nVwiQoWT9GIappRla9W/oOgQojp4akY5QD1sHXFCFTBwgCPLSp3tUPlPoUQQWHOJFTVLJ7kPyvzGyyVr/hRzwghOkLlY47A5X2/X8hqmDfKPEC9WGKLkA34fQNV+YpKjBBiGphzy2p7c4RD4MDkFSyVr45QJR0qMUKIKfn8QAvZNlz1KOHcD8X3XaqINbnBIoHH51HB5q54UrAQYgRuE/wqp6FyXeFyfPoBbiXhzGywCG0NXAaPp+FRsiNrJcR7GGpFlZRCkm08yV0Oyddfp4g1s8EigSeA2DzNRqOEsGeECM0nA63lfzAce/Lfnrv6Ec+4TMy0BkvlqwKq6cQphiROhJgMBpvF4K52sNuUJFlukSLWtAargudwEoYOfIJRGRoqMTuEMSP4IQkbtrNHCUj/EG7P5ZDEzMTMabAq5av0t415SrUO8NgIHiUbmZgdpTzRzOcvaDn/gZ1fPNtzKCVXMjyVHBtaoYg1p8EigSRoSGRsZIaGSsyWmX4SPSIWx7BBOS2GAC7qRiTOJodHiQOproEW4s2EBuu2fHX6I08ZKFRFS1CJ2fj0iGlgiCj49txG47EYhmPDVY+KtqYvYk1osNiQrclhkJEKRSRiqPSIXjCUjuB7cymqp1w+21jc6rHtXw9lNoNlrBt5lq+uPuAQZDxxzKaExMqw2d+dpTJgFz5nMPxBEtQ4FjJIPBaJs8nxWQUs69FoGVctzl3Ems1gVUCVqStKsM/rusFjI3jcFWHhKj+yQyIpCpzdlWwNQ+qTxzqVgQW+LsDjYTRTGawo5SsfJSS2hkcGj3Ug6ZNEnul4DF8zDH4CSH6sm8RP7MhjAWXcuhlUbxS1Xnh49OUfWoATPDnXbTpVNLghGbRKNsrnMN5A1bcbjZ6ijgUXw6Bkl7EdVncUbjKODaWu8JRxVOXfqA/zVLBIVgt7ViWZ2A4Xl7siVMJcsspPMtk/7CCsTvHMWl6icJZH+wYmHiUMMlBuxvkrP20OHqIdofDvXagYLDfvdduQjxLjQj56vYffp240noZNxiAlDXfA9WRqvFrlIv4dfhr2JLd/G18ohrgZftkEQx4+crUx111Gg2Gax5bM8U1m8rxCCCHEyszhTCY8g6XylaWJobdNi9ye8mtwDrnt75GOUxzmYKUJoLYrGfDYWHmCjNZQxNtVE54aTimmbV8ZRgHGT8ZihgpWPTL8DRZkFj1qQu5qJg3APSkSv5KD2qZsAG6zlpomEA2noVW//Ubt0OUey81gAddrHyasYF3hVr5q+0BHDbFSVfejWvB+8BRQxJVnerIvHp40CKjfEY17tOr0FLxnBzI8YDjugT77BZ0fKjztbeCDjacuBz6R5yD8U4T28hVKQwE8cB1ulZ66K6yGOQQUi7RD69+M0W1BcPt2eSvARw5RGzTjBNg7078TKg25aSjC++rYe/dGja1MsGO4UAXLgdvNwXEwbA4+vXJ3Mc7mprgT9bdWxhMeDszqsTwBFrTgpayh9Rtgfa5O8WVvzy/2BTLKzi3CiV3Bsvtf1DGUgkEy4GWb7YWJDOquinbh7kpMA6qghS1ljW79tiedv/5pcZSnmthLQ3K39lKZTyHNh9gGiwpg+coI4eZgs5LTs0fNGzoNy1j++ZetN3CqlifSxHvyDUo3m+Xf4lXrg5qofy83f2NJFB39TWrU4l36JrGJjxBYCGyw7KevVL4aiv/Rq6Jo1NerteHc+d8LPDUIH/wH973PeOPPRnssS+tDBdSHcsRA5/Hz6Pqok1jTFLECGywqUOUru7kZ5MPeuKsuSnodsHiZd0JnASEKupSyPj8aWt9ez6mrGX070x02K90E1K25TxFrZaIaLHuBauLyVXPmetPicWus7bIk7or2AKwQcHqt9A1Oa1AdyzjTu3ss4/bckREmj7CIVf9p3NvXqAarztV4dBwni8PzP516RV8lxdUaput7S9SFNjHHr99rByduHhEkjHAkDaWsLtMBeBqsI23bc263fJYilkP/hx7iCiENVtv5quLgTi8sAt7PlsqeFGRzsC3roUruld9qq72NOPY0a4oRzoxwJHucv4z2N3XuXtuFDR7xTdPHr2y/7NCdSp9l60jztk/Q9BjSYNVxON5uGezuAZHnTZ5ocz561as2ybYzyKZHBCVflXM6Xtn519/7jMIdOnusLgwV4LycXS3Q8E4eQTyD9aZ81R3/+4Cn23MjylcVPbeMfkbGApWbSesfiR4hulDEc5c6UEO2yWUAS2ht1xyaE4CLV9tec0QHFs9g1elevjre/0HKV6cXd16S31SPBh0Nadiko3IzSQyJHjEBlW0pCPkprjcX2f+jSyZp26iCLPA+rfvn8NNVLKKFqhPMYL33T22/dVpmb7sD8Dyz6WbF6t+oo4yXJ5843RVayH9EP1CM5XMGWhSY4nx33/NMby6C9VhtF3zZ+vslbJDHQglwgNRgve/HEaNizJiVz/Q9RFXX4+Ou7I4H7iR4DA3htiChpHDwdN3R1mCrL4WYNxfscpP28gpdcN4ovG0FEiF7ZJKMyAhIDdZ2tzd3OiSeIfLSUnQMKZSpNyY7kmWb59YHtcN7RW6tSCTF5dRSYOE5qZ2AK2mwenNsFLIVsYzXjFvE4jVYO22V9qugcbA1kPir/Eqvr1y4W+NlSSYDj6ehsjKzWiuevTmgknxMu5yC6gKb21tzo7Bh8XqfH0hG3Bl2g5W4LV9ZfrEv9ex5evrq6kfNNC+NDd3y9PwTia0hkbFl7gorY6O3Vm13FG03Y905tTVwVVuPHbqOMuBKXh7G8qdv083r6TZ+4E6vH7SIFcZg0ZIPtvMe5dXEuLUU+wd8Movc1cZ0wonNWn3OaLjO6f0MsHqU/zePzSJRwuaxnv5WgyO5+qaPuqJvv51eZGgRa0FIz5c9irat6sdfLrFtcd+3fFVoqF/B0pDDYs/gbBg0bC69bdSwM07J7Te9XWa6CNgvOLqtBnxGwa6EQQNWho8G4x2vRcaInZyitGmcv6PrXqfX55lBRv6hBZxTyY8JS44YfYfkX7cMsRfOkDoTDKvI9EvIdogriL/J88ZVgr7dgBhHfieGDYy9oz7QB7gsSd5Ng09XvG9lRKcVqioi89axwRMF3j7qslPwfnWxl0wt5asGJY++AlX5Ss5m/w8fDcd85ymAsFxkBKgcfh8CF7ARzNNtfD8cY+zlFkeD4Nv19Pbm5HidviU04/VjFbFIK1hdGHd7VLdQj35xxK9UcCtfGdPE0Iy2zrJxVT1y83b5/+XPejn1QtfoeptbW7cCZq2lWa7sX0t7+X2fCn767boXseClShSxD7kX5w0dcsTtCUf4om7RMPoUTt9PtmmAD4S/gM+PzfcM+/dHkuHT7jiKb+TQ1oY7e14cwZlPAENSOm3rtBhjv1fvFZ/pUsYLvm/3pblM/82fagIbLPu07BiIp/9e1+BTTnha3UVpGK3E39zk3wVSjTgWkIDVCGDrocHaLKzD21w8Vv3iqNuDNx7rPZXZatTwVOojM8fvn24JabAsSbzL2OSOwRIQIZaW0SLt1++uBFg62ryc9GnTYg4Km+U5uPACpEMhrd6lIbL3aAYVseq3Xg0urfl3nYlnsDw713JHbixfDYWnfAW8L2lzVy/F5McRNvfqEXlyEW3kacfZY2G3C31av70+sIA02uYWLTIsXkcC+adbIhmsttXLbcGrN0RyezRIRsM0eK+k2JtrvmavOew/xN8znDWIcUAGtKPLaU4LDh7rtAm3Mp7/yOYtdlmq3iecXr/LbMLCGKzjYJzuXh9/NBSGoYWXrx5tjfXdxSuOdTf8+hsxRa8yBIMQ78m3KV9eqmGv08djXc16H49l2ansKKB5aUCtpFH80y0BDFaI+/JThZ6HcixNdLQ1bRfvOFW6pP4t4FswhHCg+3Zhg13z2SY7/cC4dh9dfFw+Idlvmb6IRW2wjOFYKV8NDRSGQbVoGKGzOHv0CAa7/N5dFWGmHToxH92LSUab5bZVV6fj4YH6Dszx813a7QLDSay48Bqsev8+GvXRj+SgylePmuguI+9S5/LVy+t3UdLRVA0NTrEmDCcLT3/XfsRn/4/uXwTu8B6la4dlq3lHopnTFivf9OpH398bH2jdGK/Bes9k5au2Zbi7zuMFH/Uzz0wgUTJip1KIrd+NZa/gfLoQdjEZaQ3e+DJVlNuqoXsgL/uZPHOGNFgMx9uvBIyWkTImtnxVSDJ+ZtAhsEeVJCpDQyVGzApJifTNcYL3Hiv/b+PVxh23JyliJTyLWJXjJfMddQ9psB7R6zR02zVHx2iXj72nnsGHVrkbDo2SGBoqMWIyirjChtmbI/PYFNrw4XEyumPv20E6g9omO/EMlvEM+/FHL080v/f4i58W7Cij7fATlaGhErMzfbITEFKQv/RYkFNl48pIbEWsuoBxfKp/MTp6ESuewargcIzaUmw/3bwr9vX6qnr07yOo2J2Is2I0bO5qj2oePdH5/AUlg2FxQp3fsvBoo3AcdRndPdbVNpx9XevOxGsEr8G6TU/wJ9d4FqRKR40WaUx88L7i8TQ8SrYsckj0iO682Z4bIYZBSVu0Q4pYfWm4z4dnBriAN/AarNxZV47F1X93KKdiHp0974j/YX+LtSJZvElkbL96OImS1C0MemYC/uTNUck+ygyn3ak81tMFBXIUaUTrpydtHIpYL68AD5un8BqsgpepYdxJSYuq0a7r6rKDiurGJZlkMpC4K55tuOmtFXxvbju8oQeuZyeiuRkN9qYdOAHt/e8skiQwuhDGYBVYjsW5jVPKnv6RcbpGVmS8XHsalmTsEs7jrhhkbA8tsgOfA++vlv/f1wLbKapHcD1JDIMSBhkNqezNrKmHt38R6/RqDkWsBhhOE7bxDy2gkWLFgnd6MfEcVq/bJoyPZgyCx1LAIekKKhk5HSUdl+2iOeDXz7VhRyHtFcKDAQ5DV+wa7B/rqzYF5K3D81xkpwnOqAZrB1vdNV5/xP5g5VLNN0kdgfvdHYbFbDUNt3c+PvceV18ZoufYHDwqeIwFyVLqJqMy9KM19FoamnW+WRdyh0cSMxZiG6wjI/q9Yt5PS5dDx954cWz5yrmhU+BrGIMGn5g8NpfPF8jXN55KPO7a+KjNz5ujwoPB3/BocG60+MrYIlZd27H1cUDGYihRz2Dd4jBO/ve+ty1GKV+NFgN3NhANxdZYEuDsrna+PxyabuZ7oMtRMHvTG/T8O89BKIZl1VnDaXMM/WChu85jroAXm7tAbbAsHfrmKFIzlWgw/vtQGAKxbROzCwxJCuXwcn/g7G9COKpbnL8F3GYt4m/q3YsK2oZC79D4TJe17Nh0bK4Bhoi1QG2wbilGyK2879BKA8Yis4MGhi6Cb8w5CyiSNXbPhSEAApHbLEjrqKZzAQ7ceizIXmHRqL+GNtP2VGd+19ecIsIllsAGqzIl+sZoXoU6HWAqNw1UaN8cHDdPUOamOH4EdFciKPkepX/TG4HHchBw272QTgDel1412r2IVTdVDet4iKQX0mDR7n0A9wcZyleerZyCrZ+l47rw26wQqUecgrJZQHuXBGzQW8Gh07ZePLtaOEYIKJaz49HJ7k1XgKfK0cQzWI+GZPrxK1itfFUc6350ceBa0p3vAbQi8QrUII5wOfarOXusq4bc0sJxlMcNesfMMDrJ1K+c/5Q/gQczWBanj3oYBF65YcC/E9p8UkerBz9CIURHBnmsEPOC584Evl3rr4FhNe9OGINVt8w8EyPhb7zsxr87Fr8ydP/u0cV5TuILQcigSpLFZrkVsa4WlKECLLUf//WC0MRMU8SKYbDadr5ITj5hNQxSeDzWvSbHkw3ybWICxvkMBo9lmaR9BZxmBv5D3D5OF65hHOwG6+WK9fnRUdIp8GUVcleUdyywfHWqx0fJS1MVOncIft4EGDCnDfJYaarWr+zwxUmKWHABzUO8K+S/oWU3WBYIC4Zu+4PweyCSDn8EyZyM2HUiHG/uMEfMFOM1+3qstpUYnj9HC7DsEo7TcLyy/Y7d8gEGohosqv1Bz5E+rckx3A/dTtHuMo6dEK7aHCJHiAmAv3+BBxWxLHgKCJe37UQ1WBZQowJ/zNhTBrbFHePtKdXZ9k+cPwgv4sITY8btueJXHn2+L26tkxSxnFnkCG94g2XZH3wfQ0c3YylfMT+m4cY4W9Nw/olkvWFzVyvH5zrAz1Q1aBh3GMt+2UUqf8ev6bZ+jVu44YQ0WMDSVEOlff/8UM0VVZ4P/TLPBx4PQeiuqPRMw+cvWDHf7xeuIfFICTCxjG7XeH3Is5xshBO8E9Jg3dJ9YhQXtBwJ9E8KeR73DMdKBiTZlSORsZGliT1gGLplerCdTFVKx278PZXhoxZye3xcqtyOuj/dJo4Lu8E63v8ZHzRwm8DwTJE4Gh34UU2Rw+Pztl/hikTMlJD0bbE9x5CvSHrmEYP6DVLEst+HQ0aKIUR7wW6wEiSV9lMswjyrzT73W7fLM4mfkIyjkkUKV/CM8f29rQeuJNfDoGQjkPGoiDUa1BkP+CjYCSQ1EcZgHbmKPP8qzk6eQz1r8vZn6HqJCVT5ILE1JDI2vsLViFNK+QXh3zR5LJJTUCQei0SGnY6B1Patx/VVfrt1bAW+vwyfwm/4hxbQTu5mGCYqRIblGUYIJMsbAyRdQSUjMejx0tSQQ3N2UopgkLFIFbOOsSuGuqvbhcNhZfFcuSxtXY1IuKBlN1iW2Dp+gMroOLd4+t0ZDKg/DIsZg4bNPTEV39p4brIve+qoPJ4CGZRk/uSxGDSgOP3Wt13Rpa8a1oK0CnsO1hyBwW6wngI0OpX9we6qbi94+gHPueHZHK2GndX6IYX9uPg3cmy3clTRUyRDKYuh8M/gsVAa8hYZilgJEmeTa2CI1TZmM1gFnkfL3ag0yh+FJLPXB/iXhSwb6b/JB/qquOUjm6GUdVrkE26cVlgdilhveCmgskIZj+XBe+ARgQ+5O1O/GwbKuMXZdVVuzT1vwq40uIFKBKmYDxHw/eHc7nsgyr/oBwzhtQHP0+5XXQ08cW9vFDuzBrUbulhgIbzBOt3JdmgUe/tbB7s/SMLi7gruclaLt2b2kZLHcgP4ZSsHZH06oV5AOj002ZfvXx794iBJQwlgsCo9W/zIs7Z/i7/lYrD8t+Urh95A9cPx7JEQRuClLHjQYh9kAxaxtr+lNYgGS1oebb/sl4XHqp0ABuuK2ykxYi3n99FXpbVFwG4OpkQJLF+hWhcvAZaysPYCIoAtMXqWnKn28e27hCSCHxHVYFGdf2JY2BjyBcPJJ4uAEX3FcLibKm+KNrCHbMalkdsr+3/x0/XbOZGeztnRO3T1D1Q08GQYhvXOQjyDRTLARkikwmUM9V6PqusOMzPK5BciB+6xhrbO0Bwb8HXhFE5VbQQzWLdOn2TCoGQA9wcD7c2NFjlTghBL4eCx3j+o35HTU7zjzhgdz3eT7IJFWTfDpdZIBouzc5fdH3x6JpFh+EZ3VKzyqhBHHFyO88HZq0adp+qj5uDn4Tw12I9hGX/EQwyDZd85zgkxAB256qKhOSu9F2BoQ3UNp5KuGCTyqbVaLTgFkKfBBn/UF34IyeddP4/+fWIavG+UW9kYBquZFd7vAt+OZPMKt88iCLEabB6rcv1BFifKkpzwyVfwPmmITLhmO4ENFsMBrNP9wdEyTos0x5gD9sbxH32mRFul059PqL/2IOYA+56tHHjw1z2c81Ew+N7lUQbVzTODhmYCG6zF+fyof8x5rgKTeP2b8sxSHiViQbCHe4zeBfLGBH9uk/P0PQA5jefJDAaLeSdu+hlyxH9iGIvGPDOWR4lYgTzeULGX2jUKwHqsRRyeGE1Ug2UM/Y7Z5Pv7WxbHty6d7g9+fy9l9pmlV9o8ORodh/1By8V5EiXV5iBPt0yMNuZOsfTJ0NM2VBYKtUtYyc/aJexCVIOFBZs07XthnimVKn0fYZBHlSaorN70wG3WPtZf9N91zsWQ4+PA4LuE+fWdY4MhFEcTwGDVcxPDXOUJFMgTFleNAt/dcJQBh6Q3duSu3Hi6NbYO8IlJVcQ6Mjpg2M7vJk63hoISwGDtfP5S+STqEQySm9TNcVNyCzIHSEQyyNijlEHJUqQDBmghKmI9wNOBVVpxKGJFeUIoHGEMlp1x0WBPCv6nSo+t5H5rRJ+EeB8JSWog8TRsnnj0bQnDbc+Wbc9tHAFJ4rE2jt5AQVWn8T+8W2/o+NOgoRLAYN2aa4YcesRTEsMULeBZy+EaSILz8/tTaGgh/83Z749BDY2+x3jK/mUZlGwEYckQireuFztlxjVtHH3gUXeeFeQN/9ACBuI8NpDUefyOhQZ4GgXC893haQJeQmN49gKloWBPFNjhoPJ58Nnhz+f3gHkRn1ddsWwvRf/WsxksVOKAvGmm0lDxI+cw5bn5gGtgyBEQDcU0hHfCdmG2IMJ4PBaDBqCApAHVFamOe9UPDF3UnbZvBA/XBgJsEW4c2bmC/+kKkr0eO6gKMxYSDUB3NXoTsJkkDHXGgGThlAY4bLnx6tbIWWfKG4TZw04Mg8VD5Sy58fNDYU5VDPun/qBuizfoA4O0vuoIUOoX/WghwwBB3D82T1ZOcJ8KizKVjFRq2zN9zZ3ZDBZJGQk7gRlO2zBowIItaDOMgrjFv/h9FEAyWYCtw0dhW2mqfv+S/ygfgtPhYIjVR8xmsNy4igyqeUIVjv7PHHg2V0DV84KZ+hEcHwELegu2GQp/P0KlXjB6l5Bq0exLGIN1O/aV/+4Ic2GgMnOcNVTuS9w0QMgP9KCCJLXOGaXiFLjLgYM9isRQxNrx0VDfGWfoh5y4qSyMwTrFv9+1boUAnjiAQaIQDQo2ZnymBsNNYA7PAXO3Hijyg71dJZYGohqsNNhsXjsHdXLWv1E49VOitz/qDvwgrRCPgHus+o/GtQ6fpyEel+PRBh+vR4Q0WDyDvVMcwIJEAEPiqGyNOQwZfG+ugESGEHaAHovkiZDRPXA8382QurdD9mZ4uPW4hxuOeAar0tGxvK0P8LjkKcJvXr2hWrqIiP9hTfu/D6J+FMmhdUi7wo1IBkvr1i3+/cO5F3ZU5Xl0tP4Zwu4SYsfzrP2xId3/0AobzaxfPJLBOkJy4GZn1hCxQLg9d1RCok0ICMaUCJ8mQ1N3/dvxn+t1ABIAlj7HlhvbiG2wGIA8FXJbnkHliKJ0BHFdzDMQ+/ZRsTg89earldLzYbqN2Es5vzEbruEKBg1vmMRg8SxabltR+SuX0j86NG0BNSuusnb0WSpER4B3X8anv+EnrIGv7uNJ426gNosdmMRgrQz8TDdJu5biPxaVrwQD8LTAP1XdoPqyuhHtzrQGa1DgXtXYj835V+M/GW6N3h51cju46tDKNCiTOkPS4VGmiZLGBv3jOdieIZksXQhssIDDALEyIchnJknn8MggSeg8SpYCni7S2yx5ZgRawrZd2wv4NiUDDp1w2wRJnLQR2GBRAc+ecJif76AVJpZCcZhQVxQAD8ZB2q0zzU1gDIP1+UvxU8+RqLfF8OiH8aCDjxg4JOmDJ1/wKFmK/faDJBp5lJDIOOJZxFr51dlUL1oaQQyDVYRglHKR/+sJjh3l0+7xH6leiyV2qNyV2yzmSRc8zkbswHcDr0DN09QVPIkiNDEMVh2eBAqE+V0mWOCZgsTW8MjYcdtTTosow1wg8VgMMhiisYJPfGJHwdL6OIXwCHRgBoPlDGFeOD1avkL41lEPJBjcVe6rIMXd9PY4z6ZPxcA18LByV+zfvZ6xV+6fRNxOCGOw4MvDLfC3y9z+ozMMGuCQOBugBv+SVYXcZmEfE4OvGQwaGIDH5JWG0cKuRt9nl3CR2AtjsMhBvVrztl2IMJ7Jw5A9lyWZGAZrlUNV0FoZnqjg36rzpNCDkscTHs38QwuYAdqTkgygTrszDMfi5Sv4d78FqHC3d9guYtCw4UIUXtm9/Qx8aBxI37HokDm+e6QKlr3HR49Nfv054mBKFh+atDGHFiLO0SbdRvC43Jrcfv3R/fP0LGbQ8YpksAhhW714opCtZ/zhvz8WcOAeCy4AC9vbZEjGIlkfeM/ABbxEBqud+thjdx9QTW8cf9mKJE/BiZ6eVmBxi7MD7AHIY9fwEf/+Jf3j1ef9BcO7qAvBDNYxAtjOl2hJy8E+qIVSwrA3x3auXFSAh4rzPIWftplj8XZDyaSZYAargGfU2WYsmx4skN7QE2pCXEE1NbD+codnLdv+KuQRRhUzRgIbLJ6Bz2GodSdQt4bAg6tUtoYzRIUoYNimhAtw03C6PeesIRChs2hUgxW604einjnFuVtUVBeiDqpMQltAgmuQt+tOPIOlpUtYAJayruJT+UvQ4lbEyltBvdCyONmtBSWhruhLPINVQLVorRmdn4zt0AnApxDWHA4hKlQSJuptn84tXj00p3TBRv5He4Lm8/AGiwEGk0f1vB78LFQuiWF0hOCBZ0YY3xEwFJI/C8MG0PjOhAxWYKgOdPPAOVHhL24QIoG9+aF63xIha5qbKYdeBmsIzmc2CW/CqN5PxpA+hKAC/gZ5YOuEsL1TXnRBBrfyMIsAACAASURBVGsIVC9r8IfKXYkchvBYFnjnF4dasGKOwFXtrTsPE+FA+AOfGoOQwXrM5y/p3/3nSb1FTz15W8oXR7Q/KHbgdaOdWdcz8R5lqo7ENliQN5pc/Q0WnYja+B7M0YjkyOcJKuDTk3Y6oF4uj/qjFw0/CkEkgxW9r6eH89k92hwqVkOhmMPTG1R/GQYuIMGTw+MSyWBtNNtzPHPgqIRHm9ghyVNU5SuSPvGHZ3uORIaAg42EueMwmMG6ovJ2YAgMp7x1VJMHdU5ivzXy7xDt4OcoICss3jmaJh2JZLDscb9miEAegWFGXZEgKV/tMiBKeA53k8ggQV1x1QM+PcNfvgodIZEMlh2HDM6wXOWw6REiB1W4KtjNTeiULWYlf4kGVgkbcSdsMINlibwFo5PzKzOogmtgcBVwDcDC1RGGUhZcAI8GrAASDShuA2BohMDDz4F/aAHzgEpYVwkCmDj2ftC7icUOYQwQShIQUrKi+lvXK8Tn8TsWD65NUNILVsGioni75gp+XMSCZGNOHFHGYIBtCDz1sH33KYlnsAhXC0JJgiF9kJgbhq4QhJCYPAYNEJb94uugLUIhJofB5Ikju7/R6Igct5C4+pMk6Ufyf++JV8HamBYMnqO7nCz4p1t3SB5VU3wKWuBnNGnfUMCQOkQXQhqsAi0hCZ6ZSTIo8A6BCxDMMEwTYIhqdhzhuSniURI3TsIbLJIIEIm4k6EjKSwVn4KZZePzmKb8//RFwrPdQEzQM+EN1qYVXWTkf6cSHhgTJAghhkIyVQUbc4REbIOlBUzcwhAkcyQLIXpxPFLtTF49YkgRYkqiPkWoKcEGiYcgefJ8U4gKYvJH1eCBSjJhBSHw4HxJ7AoWD8oRBQyV/+iTU4hx8Jxt1zwVsyKDJQYCTJ3K2kJwcro9hzV8Shc5qhf0QgYrNp+/AJVQZSgqMcpWgooUkIrMAoYOYdAgeiGDFZuKk4BbLhRU7mqHQdKawSCOEB7u5lECRJ1QMEHKksFqJIR90YwVgg3+vAFByUrMhwzWK6725jzt11Vi8k9YPM8lCcGMPJYQBaeTIvpMkcESnZG7EqKO5ogQOdGN1BXB3oPFMww871sS4hY9J8XDnjo0HGwopXMSerIEq2BZOnrBp+p44o9HiSAEvoDBBQhmsOmLKjg9xdy2RdUzjwhmsB4xerZUri+fwUDcaSnEImiSMsDz1tnJiGewjN5lNYvD9ty1EAUMpX5tAwl+nEP0qjmqmUIlxk48g0UFfMFIBI0/IYQQazL9shXskPvO7W0o1veg/jg8XENiHx0G9wnXMH0GsQMfix0SGQww1BThEBY1PQel/t1HR8jx4pP9ncoJK1jOQxI9AsRo4BGidZQNhkWdISQYNOzoEJIYQVSDxfN2TSH4URIXIgpus9XSkFLHG0JuEQohHqEbDyFOyf/0tf80oXqX0GTbcwxErWBRkf54quCB4caLQYMQgpNKflDqmIPABkueRoQAnis1UwjRoCR4zj85K/n+8GzUAo8qePJ8ibYIhRBCCBjpoQcSWyN6EbiCtSkcxQX5uQrgPZDe/ipEBWx94rT16CUTQUVsg7VDsoCRyBBCiFhAbE2xQ0e7YeeMeqAjsQ3WPi11zyEqKF8IQYjytqgwR/lfZ7C6oXxxdWLUf5IwvMhRCCHCQfJe4jkSeOwKlqDidFou+GeLhOAHXv4vtudQMgQz0W2WKlgzcIxCkrsQIYQQYk1iV7BIPAT2UbUrPj88G+X5m9MkscEAYXAK+KBogogQwGfKG2IbLLFTyZVKo0KIKxjyA4MGkcNZMoiItgjbuQpBnr/oBGlaL80Too5WLyFWQBWsdiwGws1kyM0IEQXNViGOGGsWgZDBmpbVKmenMMxMuAa9tIINhmdQFBKijnOETBmQIbcIH/0R8qGJrL50eeZQwuhkWEXgyNwkSOKBRAYD8H5gmBoM5xnyfkDpIfyzRcUH4OHawOQVrIhDIoQQYll4li0GBxyakAaLJ/62azHOIqn6RIgjDMW8oPfBYhHgb3+FYPy+EbslpMEyokNIi6NREIIcTVIGHp26cWt6AqIarNtp6TlvqXIEz2ECIQrgMwUuQDDDk748lWC/9Tfj9sM8A2Qk5CH3HYYdB3FEuzCE7JNF48KABkLEAhWxE0yTqBWsOhMMjBAd0a2IEHU0R0R3YhusUyMldyVEgSaFEBWSu/K3WfC3a55uz9m37USF2AZLiCO6Ez1FuVIINviTlWzWG8IbLI19Af+MdYCnE9Jz1zySBBaGlEUYjYSSHKjblzX7ZCbCGyyRYEjcDBqoSB2inhFUUAUklZPgeaqOaoxEAzJYfdBMyME+J5WazqtHVBlcCJEAzk2lBTEUGSwxJ0XqZDB8QogCeLlo0ww9oA7pRVSDpbKEqAPPEXlwwsUIcQVPFoUr0cYcIaEX+sAvGhXMFH9UC/vH4ZUxhchhmBFxV03hRvQgiVrBymFIFoIKVf6FsABfwNJUVelI5MwRDOENFjxB0PLJ8Gz39J11ngJ4UHAKZoBv1yRk2TRFywRhGdVgkUwGnu1hHiVULH62XSEhKsBDFC5gh2eakHQIAzyD8oaoBksUVGYmdtICW9+nqHKW4ITkpgi1N7c3iu0Bhv6nhSQ+d3iUPEKH3DtwHHvIOwK+32/QKBSD2ENCFpMQTVUhpkcVrMlZdnFl+OKyvOIKhvgkMd8MGkQBYeIilHSLDNZwPNMHW6pi07MgMnmc7OZGE0SwUWQMZY83RDVYlQj4HHBX50rlO6LSt96SIHII5yChJOFP8rjwo6L2fx+NpkZHohosO0Nnzu3FVzYZDBMVroGhgATXsAuA98POrgQ7MeECeDRgBZBoOMKpaiiWrxyuW6IaLHhqYAP4znQhbtlLBfD8qI05wQ98mhQ46GH7yr2IarA2m5NY4Q0FV61oFVEPJBjMzQYtZTEUrpISBhkkqCsSDO+tQGEPg1j9E9hgsbF4pogV986ocxKQApIKVwUKyArAP32x8rmrvB+mmaozG6wVyleCH5JIICliQSAZgo2pfEUiQyRu36cIxFlJ3tz3L54y3jOzwfKBZ8jhs7GYFUAlOfBuoUK9IUjgCUWGGpIwwrOyWIhtsNj+Pkxq1Ll12piDZyvanhELwlO+IgHeG8dX/KCUkJBXiYrRGd05p9eHR8hL9KdyuqHsKa7It+ewf39aS4hQpjqleLeiWxfVp6T/YHFuRAQldgXrCoXFBjqqCf/TrYQGIlcFj0y4gJVR59+iU96rNT03cxqsZdnThGZLAfw1m8DWhSDkdErKXeX/1zNvMPTAlExosBjWM/94ZfjWcCqdgC1uaXQECbT7g1rjj0R8bk7kTGiwZG5QHG/CIDJSAFDtGCpIhMgheXbv6hUAi9+PMWiYgHgGq/gTzooDNq4ezFnE+Fa+pmJViALgXdBppor7yqUu8NyRblMkzHgGixmq6MSS503PHFqporn95SKFgaDlahaggnZZKyMeQbUdYUcGqzPwZMEQhfA3muhJYyGM+C9dDDmKEHXLFXF7JrDBitvpgzg6ic9fIBr8gWtQEUtEgSdQsRtzqOevj/2vlzUU8IRoA/EMFk8Q0JZJ4AUk/+bqUIkRggeUp9GUzGHrDR49od3VFtFgMRB0PxgI/NbQ31/C37kKbF3YgSeT/cUNnhNEz+txcjUQJE8hAJU0M4PB8p8k9fctpf9w3p6rAMmeqnUDgTs8YUFjtAO/AYNoyAFGQr1phegbYhss+NjvAhgs1A6PsUCdaeABbnHgAoQR4DShfe+oJzzThG0seHomKCENlj0KfQpIt3rYpo0z8DeOLos8FjP+e3OEKD5pyYdm9DDZrx8rYP6hBXRggp3aNoxVImwGR7XO4C12DfD+R2kgr2Km8EB1DrxnGDRsoP5n+OKc7D0DT55zELKClQN8P17l/8KBL+rA1nOUJoDs5RmSY4g5SY8KSFh4ooLtrz6kD0C6iGdcohPeYFkYOnlu74NHT93TycAwQxg0wOEppAFbz50WSsbOrgH+t1AYSkcMGhiAx+SVBp5n99jgV5iIarCUGraLTige4lu5o1b+7gUkPg9V0EqNMpSs5Gxy1BWnj13DZ+sRQkn8RDVYdsZNYMuVp9+qYyhL1IHLYzA3VDI8D3mQlKxyPZKRNGAFwLkaAvUMyWx9z/wGywHsadmNckLqpCQhJB5rc0ygVJmawdaInMpzGD4zpWgaUtz1bK6N4ywOIXubw2BVctb06azyBT0TBG24kwQAlbPhLzpOCY+74lFCIuOI5wRJbV016immPiKQbkl8/+Km5A0zGCyefFGAUsXZG0DkJxLqCsEAbRzq9iOQfeEnsMG6DQKHKOEJROxjYqcCSDqHR8bn995/rAySDlkKnptAHiWEMha3VkcYKkYkcdJGYINFBdBekMef21lmh1beQ6KTPGbmQx3+CEjSODbqvDcHsTKnLZ5+8XHaiuZmmiwyWJ2hCg6S5dyH+pe9PegwmqXGQnBCUr4yTlVPCNMCw0iJl0xisGj3pzzJO8H/Nmgj2Kas/zQ9se8l6kSDEGK7fnAPlUN4pmeRxncgjzQCmeZ2NLbBYggIhneZMPTDKc7G6+qFyCTTVeefBBCS8tUVkNcT5B0CnJ7Hdot/GSrsqueZoyUKkQyW/R3QkMggWcVRWLzU0C6CpwPjt4PrFALI6VEnkuSZXNfKk9R/LCZ+0VIkg2WHZLr6Q/vF3XIo9mkD2v4X4nYiuE3SY3mGcB2FqFICqcPjxY1MZbAIZykc4OFN/8lwFQCegRFr/guxQe9/Ev7ZG75eKFecwvDC1V6ENFjA09ynJA3HfX1/Dcd/+WQ4aAB2ws7VM8YOTTNEoxCPIFm3PLfnrg5rbhw+D7iCpJ5hS2UkUfqUSAaLZ8iZBzu9zRIuEpI44Nv52igUsXDeC7PMUJ5U78lS76ewkD/9jdbSSCSDxcCjwc4/6RklPE+FoBIltgewHituMloZ7Cri1jTDM9eiDUiIRg+MqAaLrd8riQN1dBTC8VnCdVwdCSqhxSLlB+zdCOQ14jmQV/cl/IeA5zbYwtD+eXroKlB+i2qwTikqRiOaKI5bnWqAzxy2KbrgWzOwLmdvPVAaEliwGcM5UKnmBVWuvjqARdVjsQhmsE7DsXhZXP6jz1+G6+MA7i1INGCBe6wNPQriFoYnQkgmC7B1+Chs6Kla34GBy4hLMIN1S6WINdPgXcV95ZQo9usv+1IZrMdCmbxAtzRAqbu52efFglVelAbmhcBZW73zjz9lCJhYBDZYqMflrnYJ63NDR5GcYfj6JBoga1iyd5xOqxAGcf8k4YGWoNx4A6SMRDhnc8jlJf6hBTymbcGINaOMVHJ0ujmGBGJaWeHdDtewd8WyGk7vRhieLYXvB2lqbBzLJGR/sPjilX5w6yKHE8yPNMxBPINVsOYzU5VvXfyIYYFHwRMb8CGAh0HetLPRAZapToEHw8a0ksG7Akjx3UmOlq/8zEF3Am8RbgTv3jUGxziFwOisF6556sxwDSRLCM+jhfmBvHF60iYg/AUEhSQGJRtBWDKEIsPx9lMWP1pumbMM8XNLSIP19AS3//sRGEKW7cYdAsl3J6ml5a4Xrme07+HxVTs8a7lMnp1B9yT1ewyfudm2JzhOG38wNBDSYDFwa65Hh0vl+j6RylOjuoVBJI/HIlGyFPkDg3AlaAnbRiOjjqcndqjpGmWgArX+xb9/cVP1kvAGCz5RbwWMjgZ4D1xB4sACzUYf0ojAh2YReCpGPFW0jUBGpTcgm+kkO/g78NHZqgkqis0Kb7BucR6GvDlgEWtn9HQlsVAWGESm0hHDTSpQwFLwuKsdBjEMk7GCpzz7Ax/ATnPOGAwh2ouoBothDOpFXc+bxaMAhv7Zxjsw4z0fSW/skKwuslk+8HQyldWzKBk6U07zM6qGlB/edZuY398bbk9P6x7/MWnr2EXwp8RGE9VgCRKwRaxHrcO3xhjeNCPWhCfeLEpQO3TOLcJpMy6oqkFEZjBYlcfl4jpfI/BdQjhGj5U+hq20o5oWgif8OPfC/Gu6lqylSnNoAhsshrA73SUkeQTDTUbd4pCc04IL2FG6FP7wbA7Wp6Hb/U/l/IZ/Rx1bPE3mnid6qV7xw6ChmTAGq2HuwQfGJ1nAv+YjRuTQWw83eiDCRaYQKK6Cn+QWKFE/YuspYCjwB26ArTsQwGBZlmTaU96eXPWSwxSylKmG3p7Wh9shGOSxBC2Pgm3cPLW86Kj4lxEy6uTFraF1I2C6puLqNRmVX6F6n0WdAAarEuKVH7kNAPxGZ3ueQMcpsTTnn7OGNrrZ/KUQ5DisWwz3FU+f74ZoBnYU1f7gkVhpNoDByjGeZYaDklH0T27+EoO0nZoMz8lw63KG3o/KY4nQMGyjJ+uDzZ+erR/fE+HWdEUGitvH1MIl2GAGKxzhAqIvzvPW0pw8lhBHHKbqo+k5SI+/harIgEMio+BUVaBtwZwYBgs+H7asCHT8kXGX0PMQUkXtOE4dhv/YAcucWI8VMQGJBGTO5q2n/x4xQfhfKEPivbAabvcHIcMEj41mYhisHPv6TTIqznmT0On7l9zh5+EgAvaXLLONvrCAPfiy4N4cA+H2v0YovD04y98tFcIYLPiZxEeH2VHra/oPVKq6mhLAYw3+AAXsQx86JQkIo/fm7ALGUbFxPA7PTcNTT89WuwqR5cIYrJxHD7h+/jJIUnGc/PZjQ6kkC+za79kcdvphXY5KWY/AdlT+6AmqfIU1FqsF6tU65a/kSsPpgZPRrR+DkKFPXhLSYBX47xICz0k8inXgA8ZXh9V8JDHUluEey18A9hTRG1DKd3Mjd+Wmgad81dAcSQ0p4gRH8Q8t4AGWBaP+gZdTCL75civg+AG45pXZOx9bNfRcPK620Rl2Xo5gN7IZ9qTg7soZ/i/LdqR4dKPTr02RDFZOnhpIBsnTytxmxvwD/h4rbVHBvQXDEgLvB38NldO7xx/525pCib/XIQlLrICNxmV6amjbH+w+WMfdwOJfpvRz/kQ1WDmeBiK11ZAiu8zhhiKW5bemhMFjMWjY3EtZx9bTf5/uOIxTZamlrVa4IpHBoAGFPQ4XMTrH727csCKPn2AG66rTLYPhfAfvUFy1F7GSKrfWSYwFAyRdASllXclIpNuV44+aqRTMsMA7P8nYyHoGBUNXVFaKRdzVkeJUIoOkNgIfckd1emXU8x+Nm7RtV+7rrnpdajQMp915ZGx/HzCE60nLW9+nH74Zva75EgaHnZRsaEvBI8NIxwcgjGHZscW6mNRc+hfUbunV94WnqTfEM1hR5uQ2XupV5Pl0kbFkCJ8eJAFD0hvb3wcMsXqoPNA4PtmjgnAlG8GMCCQjGZ3Rauvb6H2xpG746JzCduN0SzyDRYV9X7JvTBivNmiiBorvBImzyZUwSNpoZEwJT+Fqo7E1gXCYGscqDs98dAuVylGWq+3+KE4rtsGyx6KbvzktunZsugBVxDLWY0jKNiQytrPwgMDQFdPDU7hKMIgh8Xl1Gc5GJ78P9+8Zy1J1enRyhIbJCGmw4JPzKSMEY4tYbtevtPuoaZ6Y+RI80fn9C1bMlPAUrnao9PAoOeJprSq3x0O76Pv3CLn9t4DpgjlmKoQ0WDmVEuLQdiulCOdQgB/2t3ysu8i2yzJsz8HdlXCAaj3gcVePgv/zY5AMkj6BYCmlX1W2utgsy7BOkCrDG6wKg84/2RkdH/Xv5fCtsVtvT1tPn+eZtzxKxKywuSuLGOAk9e+r2zTuI0mlqRFENVi3o+I5P+HLZF2A/1HNAp4jUDnADD53ThE8sE06S94uNHefLLc+z2d6Pkra/ttzPmeIi7auiJswAxis296/2iW8+pdePDrq7q/h9qcOAk7peHv6yLqN22toQDZL+EASZmxWzwI8f44W4OmiLOQyIgbMEWqDlVbiN8tYV0WXwKMhShGL5DBWR940TZLXxKw0B1jf80/2zUEfS1FvpX7H3lFG208dcBDwviZHddjjCmqDVYdhl5BhgXx6D9Q9Lo2HKjq2eCoAUmeG2zshevHJ2P+FIb+hyI/wDuoH+P7DLbT7g1FSLrXBshcMCbvbbZcwcdtF4yx/xWf43GfYPVb3lCGPJUSFR4/sDX2+z16+GmosSNYyZhtdf7YxULKlNli3nEaGc7j4G6mKBjghQr+7zZLHEhNwfBr//TWb/QrkkCLPFAamdJTxsqzmPANkhN1gMZx661j7GVpG2qB/eOFqNjo/Zmz/vtN4rFi3dOKUzwG0oj48mv5HN9ZxkvKcA6u0Ms24G7na9LB/mBx2g/US5yEpmsuLW6NPNhydfuW7+xfAOT1W99a/36//6ohqV3QEXoTe4wf4cKvD3pxFAEMrniefGkpE/vcAcZNbAIPVcBKw8itvhurqF6+aQ9UzNlCeuh0pt8ee4du1/gJks2bCef4WScPfZo3OWipfPeVK4aAyQWUdp+qWpwQwWDltxwOLwvvTyHj6eVSR/3iEwt9m3U4JN0kLeqy86dBZyR9sjxWtT2ZujAKw+HQCSfmqDWC9IC4xDNabmOs7QrdFrEEB8ci0AZP1qYaC0c6PIUNhPZa/zULdVPQFuPfx/eHWdBKwMU0ZyPUZ4tY56vb/uNoffHTg5L2M5g8YPwPkH1rAYz6HP62174zkH+jeaNEELac6ncUz9FXaLAOuHFgNhcdyW71Ow29o0284DVQfwVeLmWd3Mbgr5/h8+ZkuVBq61eA/ZA7JnDlFvCSewarjEA1XS+ZQY5Eublywi49BTM/K/oZEQ26zIIdLjve+Rxmea0bF//nLWMHZRNGAbYihVHN0/PUWR6QU+J15d8IYrNwivBnaN79oH/7Khx3u1Sr35T4RzFDE2gj8DY+GDbSYXdmpIz75+k3xoAsMloJEBoOGBHn5qmM6vSqdjmux7fqjT934EMZg1XFe0W8Xg/SBjqpeFrGcYTAWJJB0BdBmHWUkjpv7fQ9c8oQfvOcJlcBx64rm8pXPula0Avc0xfbLRiCpjRiH3HfyTod09+08PH6g79Q1mvr6TdLLBexpz2MnBsnkJJGRK8nrwXA96b9fzpfvgdcCO+B2Es4ohkEJg4yGVNY8WW4D8rTW6z83dxmec8eyqDFkzjYiGSwqHm0XDlVSYVBcGi8LT+I7JOaGRMZ29pgh3GPxmKG+5NaK4Qt+oK8SzWVsZPmhzjiLXNkx79tQcVnLFxkXKs0Fgo1mKhkJZrDe3+COFnDqxzsGxPsilkPrxefhroJHxvfvu0CBkipbdeI9hNYKvkmdlGwE7soow6eMhJ2MddflM1JPb9rzacWcu4IZrBx4tz4SkEqvw+Sc072X2r4CfLBIPFauhEGMGAGVtdpoPA2PEsvUc5ihV9fniZxtcM40lg8rv07VV0cCG6wjxXkOh1bqHygio5ckbBErgdoo7Jj4UBYn7xNsEYvtuNIEkGzDJUg8DSFXfeJ883MlY8SQHe/z7ZuGShQNxDNYxsXJpx4OX6GNt2LA1rvLaK5FFb+oApIYAdUKROWu2sR8fvSVAQe+dlg4FfnSZh2vaTzeThLGj4hnsB4x+ijSLfDjwwxXhpyUrCiBb88VrZNkfDEZ0d3V0HlaUeJZpzE2BE+hRwEOB5onIKTBqhSxKnHgGaMOoYMtYm0PK0nHD7+R9OZ4I8OsVqVdjCauuzotWfX6InYlQ7vuUdJO+3rON8z+N36FjOjlq43cYL0cYPvucgNRxpttn/STvRfA32NRnd/SmQYxCEJ3xcDLIw3d+7PhgpCMAfeacSE1WGkhrDxncfW7pz/yD5E3VRYjJEUs48W7d8jTC55+7I2Y7l9EiC50WYY/GV0kdf/kOCX5zXl3PQ3lqxHUmxi6bD3t1fqHmS0aqcF6RIjTgqOpP8t6/PAc5uCpw+uotvmsvRC0nJqq9yeaGVLlm+MEqD0Qhn5zq01U9gcrv06egUkNlvFRwVvcer/eEOSo5qmMcRF52wOD2n06/zvaLJIj80L0ou9q2stddb8vqjP0WC1qt+GqCZLTV0+JknVJDZaFR0fdHTQ8+mnH4LBUcYZ2yK2A0TOhoZjU6/xTukiI2S7ELcWkaJ4jze4q/WLHeyG7GIe9ufrFfQQYQa2k9QJqoGTLa7AYiliPSj7GIpa/9XZose6xHA5mNrucLsJQHivKbZww8jnDX0OX67TNrKMT6nKY7OmvDMpXJLMVtd/yvqFwGY/XYFng9/iFTRy9TVZc3zMcb8eC1mP1bd1TQN5orLwjjHimuBRFvc4ePf31XluKzWKGCrAocS5fNe/AbCPTzlX5KmKKozZYbzr3KjjawqJLEWsR6juVDoV3rMdyFpDvpMhmTYazu8ob9b93HWRu7DNi9NwJMTctIvM803EHwNhiLKgNlgX7fUnDIBmjp27mHrXYzOnq7pwljQ5jqM2CeyyUANmsl2ALgcem/d1VMTEhAgZd37KEGz85TomPBmMrlUWtr4xbDaGzGbvBelTEqnzg/SA9KmJ1zNT2S115LM9EaW9rVo+FFeBvs6bZoMynj+c3yjfmnGdrErBBj1vA3VXDJ59iX7zgA1H5qfM0nyCx/EMLwPBoyqUx/lz/Aen8Y30F3DZtbM5/bgBPZe3f92WndRGwITJm4bF8tmVPA4zhlGSdq3nhoLyypvr0G8+ijnVXbvO0VxPNA/f0Xv3Rb7XBnyLeAFuBHnG77TVo78/Y+unHbrfJGgTYk8XVh302EBkS90Zwa86gATUWT42LT0fVVbn1FcMEgUcmlYahMm6bsGt4mcArDV1dueNC9qitR/sAtDZm0QrWI9qKWCOKRu9LMj6lrNQKsIaUwGpgqKVtA86lGtstuC10deyo5tKUzz4Rg6tg0IDFc1K8b8Knx06Pmoxuq/4BywYrfKE5hVTWkb5FrL7e/1RDPUybS7vvi1ibV3qlSuKSUVECTE+9NhaBO30WyANgcRlDNXQpX41eZHW8FQAACUFJREFUROwr10sNV21V/v30A12UOMB+yJ2QyjCfjnGXgW8L+sqq0zA5225osPepnndjdRmPKt4+SnIxKGGnodgm5ntGD42vyE/CwfWQKKFyV6N/cf+Oze6qOfG2kcuAh+sEhDFY9l1hBwEWxm0HABfptjIh3NwwyEhK4DK2C5sFF/bGGBEuBlTWauOoKG987sou4/PjaVtt37SvtTKWrwqGhu7VlW/LV/AYthPGYHVk6F54JWhetvvo17u7irYLkswEQo+V2xqq6hEEHiVdILRWclenGGUUk7SX+De9MaIDHzmeNq5y3dMcyFOirhPJYN0WsUaXN59W0Y6f6eWxsDW8Bo9F4mwY4HF7Rw0MkkLDZq02Pk+zESix203s/U+vS1W+QttC5kzF3fJMtFMiGaxHfD4fVNffNtpF1W3QUy3kWw8ZL5PdqdVDWdVCDMkYbUxKwsFmrTYySWxVtPpnRlsri/HtNXDpIvW2LNfpNXxPqxX2q1ERzGA1jErfrucpYj36MMlGYRcZHT2WzMT3DLSoqLD1Homh2XkpppfjMdbzRneaf1nxNDibl7A22W3DF/T01U4wg3XLqQEa57HefOa9gHAbhZCmTy8CrPzvHFuX2xO94Dl0tdMm5pPRV8+bHO7cpT5WrKFDet1OhPZPt8QzWG2lRUuNtAH4BjZko/DNNfNfaUidHT3WqSQhokO1Lbg1uatB9z/N2WaQjNvrF4KnWbzsXyS6/YpnsG65cmAdh4eniIWiwegUv9I8dd97rJdZo0vSOd2Vk9UTL6EqXG2tekZUjxpKQTzzMS8QdB9c4HIW3T/dEtJgNZ+PGzGEqPsA+6pc+WSXOlCzx/JsOtHFXY3Ys5gyvwh/OgbS5y8Nv96sZ9B0aLhs37nZUL46fvK9Hsiytctep3y1BTVYtzgMhsXkucWEfSbk57t57s8aSFnP+eB83i7kaIgQFXodizmGd8MJql562gS8FDN0e+7p5uA4rpQ4b/7MmvqiGix7EWtcpL6Zrs4Ciu7qJeZpJWmQI3laxXx/S6pNPSEqvHdXHf3Zmzp3LuB93mhQgtp1GSrAImOC8tUW12Cx0VDE6mJ0GjYK+2IXcPWBLtuFbZnrTcYcWsoSAsjLPan302GEu2rYmeqbM7tsDvbFUr4SbwhssOpFrOZzWs0abhm9PQev5KGm5cu9wpc2a/8Pz+/efCZG8PO5wFnD+4s0z6nCXT09uPNSjJu5QQkgLF8dW5mjfLWFNlgv6Z62LEWsotEuoWO5yOgEbfEZQ89xA4tJ/qWsokU5rZk4nSOepzmP1aOnrTfP9NPWGwTkF3z06+PMDdy3HVH5yoHYBqserFdFrKtp/F4DtoRzKsBz1b/SUHwMvlk5R+t5T8pmTYynu8pbdLYC3S3Im5J2FwENqHx1+9NY/EMLcAWyCPmX94u7T8Kl9+WmXuWyn99rFPxnZlHH8hFw6rGiZyUgwD48nQ4+Mq6+NcrbQS44Lk8axXjGnspXPsSuYG18J7FOS2UOVOakW5Z8WsUZUc0iORDmL8C/oDX3BqXn+afCHEcvHfEI0ObgqRLLB5zvDxt+GgLAjX537PXGgnEPidgdRkcB291k9rlFZkgo0uCTK2+3g59eDd5XRyAbJT5FUE0TBw085avbJnzGYp39wW0Og7WpsCmEEELMwhzOZK0zWAUOxRv/m2PjHYDbacpZb0xjyWC4L7ydCx1F3t5xQW7iGUZh4whIEhkkaVDlq+NP52CSCtbWNDbjDFZx8SttDLMaOKUdYNBAKOOoxPNg/pWkAqOYENuUJNZq4wtFBhkMeXicjM0Qfm7xeZuCHDR4IoM1UMatx5K5WUcGp5Lt8EQnQ8AkbsWQJ2UqeQxDTKXEx9nA3ZWlFbbyFTxEezGPwdoeeqzRdy2nTRQKgbcsPqyTSV8qgZzvdi6s3sIzTO8hmYAJnr4lUbKODHv5yu2himNbbPOlF9OewbI/yjeu3eOq6aYK9fWvZKAeEEsytt/D8NjZmyvZ0KnEeFLQB/jQdIFwnSBxEjskYtaUYX+0HKJkSsK/Byun2JJDjWK93e/36zydsMsniYwtMzdYGduhT/L/ZUA5t4FkmjfHOX4LiZPYSTcVS9karAz7XPYsX1V+xBCoHZnKYB3hmcxY5LFyJYUMlJ/gMXxHOFXRklsHkhUir5IySGIo2W587mo06WuqfAVhhrJ8wakdbjg/20sGyUyGDzSbkiI24AePdiAnseAjIvrCM9d2SNwVjxKSAdLpq9FMXsFKAG/jVD1iIz8Ihe2WY+v+euZLaitDWLgi8TQbTQ5kc1diHBMarOIk1tWPgDJQEFo9lMVRuhfzQbJyJ6j0kIghmfWedaNly1fblAarzj6KU47lFTxf9vRw98aRdCClo9MyA0NviHBQFa42GkOzQyVmh0QJiYxZmfb4BYk1JpGxXacY/yM4pwZiQQ1X6FCUaIAqbKgMDY8YEiWQVekYnzyL4ziWq2A5Qxg3ed1oze25q29NUjqC94+ICE/YkNiIHR4xJOklB3VmZh2mNVhRjkD5P6/r3O4R+HDwbKMIMRk8hiZHYhLw9LuzQvlqm9hg8VCJHudYZ3iikGR6b9kRqImntxCesLkrnmzD1jMbk5KJmdlgMRex4C8IgGB8ma8/clpC9IJkHvF4GkIlWBYpX21zG6xb3FxOYfVQUQ4/ezT3XBJicXjuUng8DQ/r2BoeJjdYV0Usf5cD33cnuXdRrUgIMRQqd0UlZge+GJEoceAfWoA3bNWjuZuuwHAgTAgxGVSGhkeM0iyEyStYG8FJLHj1iLxiRC5PCBEOpZQrVL7yZH6DhYXnvoHcxzBrE0JEgSeTqHwlJt8i1MZcwff3d47RQoQQYghwQ7Mxuascla+cmbmCZbER44aZuWLErE0IIUQvdDsNZM4KFk9IMVeMmLUJIURQeMpXPEUjHiWeTFjBInQMzBUjZm1CCBGOPaNS5VUqMeswocGidQy0woQQQnSEIdXz1BrWLF9tUxqsHVo3QytMCCHEfGjFQTGtwdqhDSzZLCGEEINQ+YqByQ3WJisjhBBiMdKqp+UPyGed3j919Ot8fSGEEMKTlctX2woVrIRKWUIIIYTwYSGDtSObJYQQQoxm8fLVtqDB2llzsIUQQgjhw6IGa0c2SwghhBhB2i9adqn9f4tnyah+sbAdAAAAAElFTkSuQmCC'>"
      ],
      "text/plain": [
       "<IPython.core.display.HTML object>"
      ]
     },
     "metadata": {},
     "output_type": "display_data"
    }
   ],
   "source": [
    "# vector fields\n",
    "import underworld as uw\n",
    "import underworld.visualisation as vis\n",
    "import math\n",
    "\n",
    "mesh = uw.mesh.FeMesh_Cartesian( maxCoord=(2., 1.) )\n",
    "velocityField = mesh.add_variable( nodeDofCount=2 )\n",
    "\n",
    "coordmid = (1., 0.5)\n",
    "for index, coord in enumerate(mesh.data):\n",
    "    vx = coordmid[1] - coord[1]\n",
    "    vz = coord[0]    - coordmid[0]\n",
    "    velocityField.data[index] = (vx, vz)\n",
    "\n",
    "# visualise both the velocity and temperature\n",
    "fig = vis.Figure(figsize=(800,400))\n",
    "fig.append( vis.objects.VectorArrows(mesh, velocityField, scaling=0.2, arrowHead=0.2) )\n",
    "fig.show()"
   ]
  },
  {
   "cell_type": "markdown",
   "metadata": {},
   "source": [
    "## Mesh variables gradients\n",
    "\n",
    "Mesh variable gradients are calculated according to:\n",
    "\n",
    "$$\n",
    "    \\nabla A(\\mathbf{r}) = A_i\\nabla\\Phi_i(\\mathbf{r})\n",
    "$$\n",
    "\n",
    "Note that gradients derived in this way are not generally continuous across element boundaries. Note that we access the different gradient components via the square bracket operator, with ordering:\n",
    "\n",
    "$$\n",
    "[ \\frac{\\partial T}{\\partial x}, \\frac{\\partial T}{\\partial y}, \\frac{\\partial T}{\\partial z} ]\n",
    "$$\n",
    "\n",
    "or for a vector field:\n",
    "\n",
    "$$\n",
    "    [ \\frac{\\partial v_x}{\\partial x}, \\frac{\\partial v_x}{\\partial y}, \\frac{\\partial v_x}{\\partial z},\n",
    "      \\frac{\\partial v_y}{\\partial x}, \\frac{\\partial v_y}{\\partial y}, \\frac{\\partial v_y}{\\partial z},\n",
    "      \\frac{\\partial v_z}{\\partial x}, \\frac{\\partial v_z}{\\partial y}, \\frac{\\partial v_z}{\\partial z} ]\n",
    "$$\n",
    "\n",
    "\n",
    "The gradient of the field is accessible via the ``fn_gradient`` attribute on the mesh variable.\n",
    "\n"
   ]
  },
  {
   "cell_type": "markdown",
   "metadata": {},
   "source": [
    "## Loading and saving variables\n",
    "\n",
    "The procedure for loading and saving variables is very similar to that used for the mesh, and uses the usual  `save()` and `load()` methods. For model restarts, the normal pattern applies, with the user required to generate unmodified objects first, and then reloading the required data. "
   ]
  },
  {
   "cell_type": "code",
   "execution_count": 10,
   "metadata": {},
   "outputs": [],
   "source": [
    "# mesh variable loading & saving\n",
    "import underworld as uw\n",
    "import numpy as np\n",
    "mesh = uw.mesh.FeMesh_Cartesian()\n",
    "meshvariable = mesh.add_variable(1)\n",
    "\n",
    "# this might be a pattern you use in your models.\n",
    "# set `restart` to required value, but note that\n",
    "# you *must* first run with `True` to ensure that \n",
    "# a file has been created!\n",
    "restart=False\n",
    "restartFile = \"meshvariable.h5\"\n",
    "if not restart:\n",
    "    # not restarting, so init as required.\n",
    "    meshvariable.data[:] = 1.234\n",
    "else:\n",
    "    meshvariable.load(restartFile)\n",
    "    \n",
    "# confirm that data is correct at this point! \n",
    "result = np.allclose(meshvariable.data,1.234)\n",
    "if result==False:  # raise error if result not as expected\n",
    "    raise RuntimeError(\"Mesh variable does not contain expected values.\")\n",
    "\n",
    "# now save.  generally this will occur after\n",
    "# you've done something interesting, but we \n",
    "# don't have time for that in this example.\n",
    "ignore = meshvariable.save(restartFile)\n",
    "\n",
    "# let's remove the saved file as it is no longer required. \n",
    "if uw.mpi.rank==0:\n",
    "    import os;\n",
    "    os.remove(restartFile)"
   ]
  }
 ],
 "metadata": {
  "celltoolbar": "Raw Cell Format",
  "kernelspec": {
   "display_name": "Python 3",
   "language": "python",
   "name": "python3"
  },
  "language_info": {
   "codemirror_mode": {
    "name": "ipython",
    "version": 3
   },
   "file_extension": ".py",
   "mimetype": "text/x-python",
   "name": "python",
   "nbconvert_exporter": "python",
   "pygments_lexer": "ipython3",
   "version": "3.5.3"
  }
 },
 "nbformat": 4,
 "nbformat_minor": 1
}
