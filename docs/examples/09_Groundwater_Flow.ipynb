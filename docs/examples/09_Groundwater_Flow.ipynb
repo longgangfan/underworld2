{
 "cells": [
  {
   "cell_type": "markdown",
   "metadata": {},
   "source": [
    "# 1D Darcy Flow (Groundwater) Solution and Benchmark\n",
    "\n",
    "![title](./images/1_13_PressureSolution.png)"
   ]
  },
  {
   "cell_type": "code",
   "execution_count": 1,
   "metadata": {},
   "outputs": [],
   "source": [
    "import underworld as uw\n",
    "import underworld.visualisation as vis\n",
    "import numpy\n",
    "import matplotlib.pyplot as plt\n",
    "\n",
    "uw.utils.matplotlib_inline()"
   ]
  },
  {
   "cell_type": "markdown",
   "metadata": {},
   "source": [
    "This notebook demonstrates the use of the ``uw.systems.SteadyStateDarcyFlow`` class, which solves for darcy flow (e.g. groundwater flow):\n",
    "\n",
    "$\\nabla q = 0$\n",
    "\n",
    "$q = \\kappa \\left( -\\nabla p + S \\right)$ \n",
    "\n",
    "where $q$ is the flow velocity, $p$ is the fluid pressure head, $\\kappa$ hydraulic diffusivity and $S$ is a hydraulic gradient source. $S$ is usually a gravitational term, for example $S = \\rho g$, where $\\rho$ is fluid density and $g$ is the  gravitational accelleration vector.\n",
    "\n",
    "We will set up a simple example of flow through two  of strongly contrasting $\\kappa$ and compare the soultion to a 1D benchmark."
   ]
  },
  {
   "cell_type": "markdown",
   "metadata": {},
   "source": [
    "*Set up mesh and fields*\n",
    "\n",
    "**Note:** The velocity solution is extremely sensitive to the pressure gradient. A higher order shape function (Q2) may result in a more accurate solution of the pressure field, in the case of material variation within a cell, but the velocity would then be linearly variable within that cell. It is therefore best to use a linear shape function (Q1) and asign just one material per cell."
   ]
  },
  {
   "cell_type": "code",
   "execution_count": 2,
   "metadata": {},
   "outputs": [],
   "source": [
    "elementType = \"Q1\"\n",
    "resX = 16\n",
    "resY = 16\n",
    "mesh = uw.mesh.FeMesh_Cartesian( elementType = (elementType), \n",
    "                                 elementRes  = (resX, resY), \n",
    "                                 minCoord    = (-1., -1.), \n",
    "                                 maxCoord    = (0., 0.)) \n",
    "\n",
    "gwPressureField           = mesh.add_variable( nodeDofCount=1 )\n",
    "hydraulicDiffusivityField = mesh.add_variable( nodeDofCount=1 )\n",
    "velocityField             = mesh.add_variable( nodeDofCount=2 )"
   ]
  },
  {
   "cell_type": "markdown",
   "metadata": {},
   "source": [
    "*Set up the types of boundary conditions*\n",
    "\n",
    "**Note:** The darcy-flow solver does also work for a lower free-slip boundary condition, but only if a strong horizontal flow component exists, such as arises when there is topographic variation. "
   ]
  },
  {
   "cell_type": "code",
   "execution_count": 3,
   "metadata": {},
   "outputs": [],
   "source": [
    "topWall    = mesh.specialSets[\"MaxJ_VertexSet\"]\n",
    "bottomWall = mesh.specialSets[\"MinJ_VertexSet\"]\n",
    "\n",
    "gwPressureBC = uw.conditions.DirichletCondition( variable        = gwPressureField, \n",
    "                                               indexSetsPerDof = ( topWall+ bottomWall ) )"
   ]
  },
  {
   "cell_type": "markdown",
   "metadata": {},
   "source": [
    "*Choose the pressure set at the lower wall and set an initially linear pressure field which is consistent with the BCs*"
   ]
  },
  {
   "cell_type": "code",
   "execution_count": 4,
   "metadata": {},
   "outputs": [],
   "source": [
    "#Groundwater pressure boundary condition on the bottom wall\n",
    "#    this value is relative to gravity\n",
    "maxgwpressure = 0.5\n",
    "\n",
    "yCoordFn  = uw.function.input()[1]\n",
    "initialFn = -1. * yCoordFn * maxgwpressure\n",
    "\n",
    "gwPressureField.data[:] = initialFn.evaluate(mesh)"
   ]
  },
  {
   "cell_type": "markdown",
   "metadata": {},
   "source": [
    "*Set up swarm*\n",
    "\n",
    "**Imporant Note:** The swarm is used for setting the $\\kappa$ for a cell. As a result of our choice of a linear shape-function (Q1), there is a single constant pressure gradient solved for each cell. If we were to use particles with strongly contrasting $\\kappa$ in one cell, the actual solution should involve a strong variation in pressure gradient which cannot be reproduced by the constant pressure gradient solved. It is therefore recommended that only one particle is used per cell. For the same reason, velocity should be calculated inside the cell, rather than on the mesh. Our swarm is used both for setting $\\kappa$ and calculating the velocity.\n"
   ]
  },
  {
   "cell_type": "code",
   "execution_count": 5,
   "metadata": {},
   "outputs": [],
   "source": [
    "swarm = uw.swarm.Swarm(mesh=mesh)\n",
    "swarmLayout = uw.swarm.layouts.PerCellGaussLayout(swarm=swarm,gaussPointCount=1)\n",
    "swarm.populate_using_layout(swarmLayout)"
   ]
  },
  {
   "cell_type": "markdown",
   "metadata": {},
   "source": [
    "Set up swarm variables: material ID and velocity. The velocity variable is where the velocity solution can be stored."
   ]
  },
  {
   "cell_type": "code",
   "execution_count": 6,
   "metadata": {},
   "outputs": [],
   "source": [
    "materialIndex     = swarm.add_variable( dataType=\"int\",    count=1 )\n",
    "materialVelocity  = swarm.add_variable( dataType=\"double\", count=2 )\n",
    "\n",
    "materialPorous      = 0\n",
    "materialImpermeable = 1"
   ]
  },
  {
   "cell_type": "markdown",
   "metadata": {},
   "source": [
    "Set up a horizontal interface between the two materials"
   ]
  },
  {
   "cell_type": "code",
   "execution_count": 7,
   "metadata": {},
   "outputs": [],
   "source": [
    "xCoordFn = uw.function.input()[0]\n",
    "yCoordFn = uw.function.input()[1]\n",
    "\n",
    "interfaceY = -0.25\n",
    "\n",
    "conditions = [ (yCoordFn > interfaceY, materialPorous),\n",
    "               ( True , materialImpermeable ) ]\n",
    "\n",
    "materialfn = uw.function.branching.conditional( conditions )\n",
    "materialIndex.data[:]  = materialfn.evaluate(swarm)"
   ]
  },
  {
   "cell_type": "markdown",
   "metadata": {},
   "source": [
    "Assign a different $\\kappa$ to each material. The upper layer in this case is much more permeable than the lower."
   ]
  },
  {
   "cell_type": "code",
   "execution_count": 8,
   "metadata": {},
   "outputs": [],
   "source": [
    "Ka = 1.\n",
    "Kb = 1e-3\n",
    "\n",
    "hydraulicDiffusivityMap = { materialPorous : Ka, materialImpermeable : Kb}\n",
    "hydraulicDiffusivityMapFn = uw.function.branching.map( fn_key = materialIndex, mapping = hydraulicDiffusivityMap )"
   ]
  },
  {
   "cell_type": "markdown",
   "metadata": {},
   "source": [
    "Let's check that the $\\kappa$ asigned to each particle looks correct:"
   ]
  },
  {
   "cell_type": "code",
   "execution_count": 9,
   "metadata": {
    "scrolled": false
   },
   "outputs": [
    {
     "data": {
      "text/html": [
       "<img src='data:image/png;base64,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'>"
      ],
      "text/plain": [
       "<IPython.core.display.HTML object>"
      ]
     },
     "metadata": {},
     "output_type": "display_data"
    }
   ],
   "source": [
    "figMaterial = vis.Figure( figsize=(800,400), title=\"Hydraulic Diffusivity\" )\n",
    "figMaterial.append( vis.objects.Points(swarm, hydraulicDiffusivityMapFn, pointSize=5.0) )\n",
    "\n",
    "figMaterial.append( vis.objects.Mesh(mesh))\n",
    "figMaterial.show()"
   ]
  },
  {
   "cell_type": "markdown",
   "metadata": {},
   "source": [
    "*Setup the dary flow (groundwater) equation*"
   ]
  },
  {
   "cell_type": "code",
   "execution_count": 10,
   "metadata": {},
   "outputs": [],
   "source": [
    "g = uw.function.misc.constant((0.,-1.))\n",
    "gwadvDiff = uw.systems.SteadyStateDarcyFlow(velocityField=velocityField,\n",
    "                                            pressureField=gwPressureField, \n",
    "                                            fn_diffusivity = hydraulicDiffusivityMapFn,\n",
    "                                            conditions=[gwPressureBC],\n",
    "                                            fn_bodyforce=g, \n",
    "                                            voronoi_swarm=swarm,\n",
    "                                            swarmVarVelocity=materialVelocity)\n",
    "gwsolver = uw.systems.Solver(gwadvDiff)"
   ]
  },
  {
   "cell_type": "code",
   "execution_count": 11,
   "metadata": {},
   "outputs": [],
   "source": [
    "gwsolver.solve()"
   ]
  },
  {
   "cell_type": "markdown",
   "metadata": {},
   "source": [
    "*Visualise the groundwater solution, by plotting it for $x=-1$ (left wall).*\n",
    "\n",
    "This model is simple enough that there is an equivalent 1D analytic, which we can use as a benchmark. Out of interest, let's also plot what the solution would look like without the gravity term.\n",
    "\n",
    "The grey lines are the horizontal element edges. Note that an resolution has been chosen so that the interface boundary is accurately resolved."
   ]
  },
  {
   "cell_type": "code",
   "execution_count": 12,
   "metadata": {
    "scrolled": true
   },
   "outputs": [
    {
     "data": {
      "image/png": "[encoded data removed]",
      "text/plain": [
       "<Figure size 432x288 with 1 Axes>"
      ]
     },
     "metadata": {
      "needs_background": "light"
     },
     "output_type": "display_data"
    }
   ],
   "source": [
    "arrY = numpy.linspace(0,-1,100)\n",
    "x = -1.\n",
    "arrP = gwPressureField.evaluate_global(numpy.array(list(zip(numpy.ones(100)*x,arrY))))\n",
    "\n",
    "La = -1. * interfaceY\n",
    "Lb = 1. + interfaceY\n",
    "dP = maxgwpressure\n",
    "arrYl = numpy.concatenate((numpy.linspace(0,-La,3),numpy.linspace(-La,-1,3)))\n",
    "\n",
    "S = 1\n",
    "Pa = (dP/Lb - S + Ka/Kb * S) / (1./Lb + Ka/Kb/La)\n",
    "withG = numpy.piecewise(arrY, [arrY >= -La, arrY < -La],\n",
    "                        [lambda arrY:-Pa*arrY/La, lambda arrY:Pa + (dP-Pa)*(-arrY-La)/Lb])\n",
    "\n",
    "S = 0\n",
    "Pa = (dP/Lb - S + Ka/Kb * S) / (1./Lb + Ka/Kb/La)\n",
    "withoutG = numpy.piecewise(arrY, [arrY >= -La, arrY < -La], \n",
    "                           [lambda arrY:-Pa*arrY/La, lambda arrY:Pa + (dP-Pa)*(-arrY-La)/Lb])\n",
    "\n",
    "# make some plots\n",
    "if uw.mpi.rank == 0:\n",
    "    plt.ylim(-1,0.)\n",
    "    plt.xlim(-1e-2,1)\n",
    "    \n",
    "    # plot numerical result\n",
    "    plt.plot(arrP,arrY,c='red',label='Numerical', linewidth=3)\n",
    "    \n",
    "    # plot grey lines to represent the resolution\n",
    "    for meshY in numpy.linspace(-1,0,resY+1):\n",
    "        plt.plot(numpy.linspace(0,1,2),numpy.ones(2)*meshY,c=\"grey\",alpha=0.3)\n",
    "\n",
    "    label = 'Analytical'\n",
    "    line = \"--\"\n",
    "    plt.plot(withG, arrY,line,label=label)\n",
    "    \n",
    "    label = \"Analytical\\n(No gravity)\"\n",
    "    line = \"-.\"\n",
    "    plt.plot(withoutG, arrY,line,label=label) \n",
    "\n",
    "    plt.xlabel('Pressure')\n",
    "    plt.ylabel('Depth')\n",
    "    plt.legend()\n",
    "        \n",
    "    plt.savefig('PressureSolution.png')"
   ]
  },
  {
   "cell_type": "code",
   "execution_count": 13,
   "metadata": {},
   "outputs": [],
   "source": [
    "# This cell is for testing purposes. Check the analytic, with gravity solution\n",
    "import numpy as np\n",
    "\n",
    "if uw.mpi.rank==0:\n",
    "    if not numpy.allclose(arrP, withG.reshape(-1,1), rtol=1e-2):\n",
    "        raise RuntimeError(\"Solution is outside expected tolerance\")"
   ]
  },
  {
   "cell_type": "markdown",
   "metadata": {},
   "source": [
    "The velocity solution was found on the swarm, so let's visualise the swarm variable where it is kept. The vertical component of the velocity vector field is visualised. Note the colourbar - the solution is relatively constant, as it should be for flow conservation."
   ]
  },
  {
   "cell_type": "code",
   "execution_count": 14,
   "metadata": {
    "scrolled": false
   },
   "outputs": [
    {
     "data": {
      "text/html": [
       "<img src='data:image/png;base64,iVBORw0KGgoAAAANSUhEUgAAAyAAAAGQCAIAAADZR5NjAAAgAElEQVR4nO3da1cbV57v8f+WQNyRDL5hYwvbuUx3u1tKd1Zir1lr0Myc1U/hHYBfgZlXAHl8HkBeAeQVoDw7a86ZQZ51ZuzkpAd5JnNJXwL4Gucm2cE3bNjnwYbqisBYVXtHpZK+n7W6l1TRT7W1axf192aXUFprAQAAgDuJqBsAAADQaiiwAAAAHKPAAgAAcIwCCwAAwDEKLAAAAMcosAAAABzriLoBQJMql8vVajWfz2cymZr/tL6+vr6+nslk8vl8Pe8jIvW88rXMfsfGxsbGxuzfreadS6XS+vq6iBQKhUKhUH+2Wq2Wy+UDOyoo81Y/xQc8hDnQgT6yK8Vi0RsehULBvgMBNBEN4CDz8/MicvXq1f3/aWpqSkTm5+freZ/x8fHx8XEnTZqdnRWR2dlZJ+/muXr1as2PhWw2u7q6Wmd8ZWVFRFZWVuxbYt7K+Qc83Pj4eON/Eq6srKTTaX+fp9PpxcXFBjcDwE+HXxECB5ucnBSRYrG4/z+ZjeYFjVQoFGZnZ/1zLeVyuVQq2bzn3Nzchx9+mMvlvAppcXGxWq02/tOFUK1Wl5aWom5FYOvr63/913+dyWSWl5fX1tZWV1cXFxdF5MqVK2ZCC0ALoMACDjY2NpbL5TY2NmoqmGKx+PDhw4mJiUb+GssoFApzc3P+Auudd96xKbCq1erCwkI2my2VSt7bTk9PT09P7//gTWhhYeHKlStRtyKwhYUF8/+Tk5NjY2P5fH56etpsPLCgBxBHrMECXmlmZubKlStLS0v+muZV01elUsksRapnNZJZ8GQurvtfbJYi7X+BWYNltpiVQ7K3fMpUeweu0CqVSq9aLra0tPTw4cOZmZmaNszMzExOTtZEzB6r1Womk3ntiiXvA9a0xzTVv+W1a9RKpZL5pKY3arrIvMC8g7+jvCV0+9+5Wq2a9zzwv772E9UcMm/dWCaTMS3xt/NAptk1fW7qWv971hy1Az+mNx7MllcdI/86uWq1alJe3Htzr+Xm9aaLGv8PCaBFRPoLSqCpVSoVEUmn0/6NZulMpVLxtqyurmazWREZHx9Pp9M1i2lq1mD5X2we1Cw5Mr8tSqfTuVzOPPCWQ5k1WOZ3eWblkGd2dnZtbc28rf/dVldX5RUryfTeYrLXLp+qVCpmd9ls1rTKv0irZg2W9wHNK2v2vv/z+vunZg3W2tqaeatsNuu9p+l580o/rwFmSZnX1PHx8ZqDZY6ROVjj4+PmZYd8/MMPmWnJxMSE/90OX3Vnlvflcrm1tbVXvcYMAO/p8vKy+ZjLy8v+rvMGZz3HaH5+3vsgem84zc/Pe71hni4vL5stB45PAHWiwAIOMzEx4b+qmevc1NSU94JKpWKuhd5V3ES8a6e/gFhbW6t5cc16ea9IMi8wFUY2mzX/1V9gGTXXP3OJ9a9PN+//qgu5ef1rCyzvSmyeeiWF/6n3JuZS7bXB9Ib3NFCBVVP/mdLTHzcNO6Sppr70Hy9Tf5jurVQqXhX4qs9ujm82m/X60BRwXjNMm/0f2dRPh9wD4d9vLpebmppaXFysOUY1B87sNJ1Oe5/FVP/e0wM/eM0xMrubnZ01XWoiXsu9Vvkrs5rBDKB+FFjAYcxF3buMmcuefxbBXE39W2qqBH8BYS6T/hdrrbPZrDcPsf/dFhcXvfhrC6z99V/NREiNOm+gW1tbqynCcrlcTVVkXmAKRP+U1erq6vj4eLgCa3V1tWa/ry2wTP30qs9ojqa/e02DD+mE/UdE//iQmTbXzBH6i5tXWVxcnJiYMLNExtTUlFd5m0PpFUzZbHZiYmJqasrbb81nqecY1cyrmd7zz7aa9/R/FhOs+fgA6sEaLOAw09PTMzMz3tLjYrGYTqf9C7DM4hWzAMtsMStsDrwdzGysWb9VKBQ++ugjs77HLDbyr57xL815rcnJyWw2WywWzSocb4nV4Snz4kNeYFbhzM3Necveb968WfM7SsN8dv/KoXw+H3qxfD6fL5fLMzMz/s485N3W19c3NjYymczc3FxNk8wqfu+Lvrz/am5luHnz5qve88Ald5OTkx9++KFZ1WS2HLiQ7vBP5x1ZsyZsbm7uo48+EhFzX+Tk5GQ6nS6VSubjb2xszM3NZTKZjz76yOy3VCr5h2I9x+jAO0P9S6zM4/0vK5fLsbirFGgq3EUIvMbk5OTDhw+LxaK5f7DmSmOuo+brEoz19fXx8fH6v7jSW5/ubbH5wsmZmZmHDx+ai/TS0lJNOXjgrl/71QBLS0vnzp1bWFgYGxur52tIXS2LXlhYeOedd4rFovkeztfu1/ShqVc8Y2Nj4+Pjpkmm+Kjp3hC9bSKvLaHqf7fJyUlTMJkay5ienv7444+r1apX5JmqyxzcYrHoP7L1HCMn33YLoE7MYAGvMTk5+dFHH3mTWDUTQmNjY9euXVtaWgpdVeyf9XntlNIhpqen5+bmzFcAXLt2bWpq6pC3MpNn5XK55npsShPvOj0zM5PNZs19beYFH3zwwSFt2P+GIayvr//d3/3dxMSE1/Pr6+uH79f0YT6ff9WXHRQKhWvXrvlnnuR1dZJXS/m78cDbAOtnmlGpVPzvYO4ZvHbtmrdlenr6ww8/LJVKxWJxYmLCvHhycrJYLBYKhZpaP+gxAvBTYwYLeA3v927FYjGbzdZMA5hKwv97q2KxqJQyX2u0/61k73dAhpmfyGaz5rron2gxpqenlVL1t9ZMh2xsbJhfPx3++0EzI7KwsFBTZCwsLHzwwQfeRnMt938XwKve0PSG/wWmN/wVj3+u7pB32193vuqXg147M5lMLperecN8Pu91oGmevzHlcvmQ3w8eGPEOWegJIXOUa74i1Xwzgn9JVj6fz2azCwsLN2/e9GqpQqGwsbGxf26y/mMEoEGiXgQGxID3x2QO/L6DXC7n3Xi1traWy+XS6bS3Wtm/iLtSqZj10d6ScLNKxr+I2CzTNi8wf1Dl8EXu5r/6v4nAW7jt3X54CLOuOZvNLi4urqysrKysmIX8/qXiNW02H/DARe76x/dFHtgbsrewulKpmBcfuMjdu+PS3MK2srKy/xsQTIeY3jO7qFnmv//vHXnNq1Qq3nse8pPQ3FvnfXyvzd4hO/DP+8ih39RgPppp2PLy8uzs7NWrV82Wmr+W4w08rwPNzYPy41sZdMBj5O89/8b9L4vkjxcBrYECC3g9c9O7/PgbEDzeVxB5ZY3/ZTXfg+UVVd6La27RMldH7wX+r3Haf0U0F/v9l0Czizr/WuLy8rJ/4sRc+Gu+O8prs/mWL/+teTVX5Uql4v/jhul02v8Bve+U8nZ0yF2EKysr3otN9ZDNZms60/uLfv5vc/D/mb/9NbG/eVNTU6/9Hqz9x/eQm0aNwwus/f1gXr//Zj0z8Grui6z56hDvlfUfI4MCC/hJKa21ALBmvhd7/xepH/LiV33Buvi+H/y172a+cbtmzdPk5OTHH39cs8qnnveRH99kt7/N9XxPvXHIN8h73xJez1sd+AE9B37puRz0vef7U3UerMN3ZMN06SHtDPeGrt4NgA0KLKDVVKvVI0eOTE1NxfEPIQNAa2CRO9BqvC9SirohANC+KLCAVrO+vj4xMUGBBQAR4leEAAAAjjGDBQAA4BgFFgAAgGMUWAAAAI5RYAEAADhGgQUAAOAYBRYAAIBjFFgAAACOUWABAAA4RoEFAADgGAUWAACAYxRYAAAAjlFgAQAAOEaBBQAA4FhH1A0AnCkUCteuXYu6FQBCGh8fL5VKUbcCcIMCC63j2rVr8/Pz+Xw+RLZcLosIWbJkI8wWi8UQQaA5UWChpeTz+UKhEDpOlizZCLMUWGglrMECAABwjAILAADAMQosAAAAxyiwAAAAHKPAAgAAcIy7CNEWtNbbektEkiqllAqafbnzQkQ6Ep1Bs6K11s9FRKkuCb7f7Z0XIpIMvl+ttdZbIqJCfd7n2y9EpCsZZr87ektEEo3tZ8usTZtt+srmGIUeG5Zj0qafQ5+DQBxRYKH1aa0fbz344dkdERnoHu1Lnaj/57vWuvr06++e3BOR4d5TmZ7jAa4NWu9s3dJbfxIRlbqQSJ2t/3qmtX707OuHz+6ISLp7dLA7wH611s9ffvXsxR0R6e4c7eo4GSh759F3a98/EJFzQydGB4cDZZ9sPdh8fkdE+rtGewP28/dPvvlm856IHOs/NdR7rGFZmzbb9JXNMQo9NizHZOhzweYcBGKKAgutb3tn64dndx49v2Oedncc6Uh21Zl9ubP13ZN73z2+a572d2U6685q/Vxv/Uk//+Pu084TSnXX3+aHz+5Unu7uty+Vqb/NO3rr2Ys7T7dumaedyaGkqjf7fPvF2vcP1r57YJ4e6xvs7kjVv9/N53c2n982T7s7j9S/35c7W99s3vvm8T3zdLA7XX8/22Rt2mzZV6GPkc3YsBmTNueCzTkIxBRrsAAAABxjBgutL5lIDXSPmscD3aPJRL3TDCLSkUgN954yj4d7T3UEySrVpVIXdh+nLqi6pyhEJJlIpffanA7Y5oRKdXfuZrs7RxMqQLYr2Xlu6IR5fG7oRFeyM9B++7t299vfFWy/HYnUsf7dfj7WH6yfbbI2bbbsq9DHyGZs2IxJm3PB5hwEYooCC61PKdWXOtHdeUSCL7BVSmV6jvd3HZEQC3uVSqTO6s4TEnxBsVJqsPt4X+qIBF/IrJTq6jiZSg5J8AXUSqnRweFjfYMSfOG2Uqp3r5+DLhhXSg31HhvszkjwfrbM2rTZpq9sjlHosWE5JkOfCzbnIBBTFFhoC0qpjiD/WK/JdibD/oNbqfrXuOyPdoTdr1Iq0ORETbb+tUT7s/WvJdqfDd3PllmbNtv0lc0xCj02LMekTT+HPgeBOGINFgAAgGMUWAAAAI5RYAEAADhGgQUAAOAYBRYAAIBj3EWIllIulxscJEuWbORZoAkxgwUAAOAYM1hoKfl8vlAohI6TJUs2wmyxWAy9U6DZMIMFAADgGAUWAACAYxRYAAAAjlFgAQAAOEaBBQAA4Bh3EaItaK1fbL8Qkc5kp1IqcHj7qYioZI8EzNru98VjEVGdfSH2u7X9QkRSDf+8z7dfiEhXuP3qZyKiVHfQ/dpkbdts0VdWx8hibMTvXABiiAILrU9r/e3jb+7/8JWIjAycPNp3LMDPd613Nv8kP/yniOiBnyf6L9R/XTH7fbB5X0RO9I8E3a/+9nP94HciIid+o45eDLTfe4++26g8EJHskROnBocb9nmt9vv8ln72BxFR3W8mus4GuH5bZGPaVzZjw2ZMWp4LIc9BIJ4osND6Xmy/uP/DV/cf3TNP092ZVEeqzqzefio//Kd+9B8iokR0zynV0VvvfndePNi8/+f99mRSybr3++KxfvCvcv8zEdGiJH1OpfrrzD7ffrFRebBe+co8He4b7G7I5zX7Xfs+1H53nulnf9DPfr/7tPO4SvY0IGvVZuu+CnmMLMaG1Zi0ORcszkEgpliDBQAA4BgzWGh9ncnOkYGT5vHIwMnOZGf9WZXs0QM/3/1lxsDP658aEZHOROeJ/hHz+ET/SGciyH47++TEr7VoEVEnfq06++rPdiU7s0dOmMfZIye6GvV5rfab6Fbdb+4+7n5TJbobk41lX1mMDasxaXMuWJyDQExRYKH1KaWO9h1Ld2ckxAJbpRL9F3TPKQm+sNdyv+roRUmfk+ALmZVSpwaHj/YNSogF1Haf99Tg8HDfoIRYMK5UouusTh2XEAvVLbK2bbbrq9DHyGZsxO9cAOKJAgttQSkVfs2HUvWvNXG837rX1uyPdkX0eetfS3RAWAWYFHGVtW2zRV9ZHSOLsRG/cwGIIdZgAQAAOEaBBQAA4BgFFgAAgGMUWAAAAI5RYAEAADjGXYRoKeVyucFBsmTJRp4FmhAzWAAAAI4xg4WWks/nC4VC6DhZsmQjzBaLxdA7BZoNM1gAAACOUWABAAA4RoEFAADgGAUWAACAYxRYAAAAjnEXIdqD1nrnmYioRLcoFTT6cueFiHQkOlXArGittzZFRKX6Q+z3h+fbIjLQlQyxX3n2SESkezDEfp+9fCki3R0dYT6vRT9v77wQkWTwfrbJWrbZpq9sjpHN2LAZk1bnQth+BuKIAgttQOudp+v66RcionreTvSM1f/zXWv9/ZNvvt28JyJH+08N9R4LcF3RWj/4N333UxGR0++pE78KtN/P7j76p7WHIvJX59Lvnh4Mtt/1T+SLfxQReftv1Nj7gfa7Xvn+999+LSJvHT0+dmQo0H53nnypN78QEdX/dqL3fKD9Pnr29fdP74rIUM/pwe7j9e/XJmvZZpu+sjlGVmPDYkzanAuhz0Egpiiw0Pr0zjP99Av9+Ivdp10nVbKnzuzLna1vN+99/fieeTrYne5MdtW7361NffdTuXNDRLSIHDmvugbqzD56vv1Paw+vrVXM07eO9qW76z5bnz2SL/5R/vsfdp+e/Jn0pOuNvnzx+2+//uLbb3ajAwM9nak6s3rnqd78Qj/+r92n3SMq2Vtndntn6/und79/ctc87UtlOuruZ5usTZtt+srmGNmMDZsxaXUuWJyDQEyxBgsAAMAxZrDQ+lSiW/W8vfu4522V6K4/25FIHe0/ZR4f7T/Vkah7isKscTn9njaPT7+nUv31Zwe7kn91bndK46/OpQe7kvVnpXtQ3v6b3cdv/410DwaIdnS+dfS4efzW0ePdHZ31Z1WiR/Xv9XP/2yoRYIoimUgN9Zw2j4d6TieD9LNN1qbNNn1lc4xsxobNmLQ6FyzOQSCmKLDQBpRK9IzprpMSfIGtUmqo99hgd0ZCLOxVSp34lRw5L8EXFCul3j09+PbRPgmxkFkpNfa+nPyZSOAF1EqpsSNDJwcGJcTCbaUSved19ykJ1c+D3cf7Ukck+EJ1m6xlm236yuYYWY0NizFpcy6EPgeBmKLAQntQKvSaD6VUZzLAP9Zrw3WvcdkfHax/3dW+cP1revbvt6czyGRMTdiinzvC9rNN1rLNNn1lc4xsxobNmLQ6F1h3hXbCGiwAAADHKLAAAAAco8ACAABwjAILAADAMQosAAAAx7iLEC2lXC43OEiWLNnIs0ATYgYLAADAMWaw0FLy+XyhUAgdJ0uWbITZYrEYeqdAs2EGCwAAwDEKLAAAAMcosAAAAByjwAIAAHCMAgsAAMAx7iJEe9Ba6+ciolSXKBU4u/1URFSyJ2hWa7259VJE+lMdKvB+d+TpIxGRnkFRwf4tpLV+9HxbRAa7ksH3q/XzH0REdQ2E+LzbektEkioVdL9atOgtERGVUtLArEWbLfvK4hhZjQ2LMRn+XLA6B4EYosBCG9B65+Ud/eJLEVGd5xMdowF+vmu98+gP8vBzEdHpi4nBN+vPaq3/7auHn975XkTeGx361cl0gOuZ3pE/XpfP/15E5OJv5Y3L9V9HtdY3bv3wD396JCJ/e2Hw0tmBIPvV+t6/6o1/FhHJ/qU69etAn/fx1oNHz+6KyGD36b7Uifr3q0XvbN/f0bdEJKHOJpIj9ddJVlmLNlv2lcUxshobFmMy/LlgdQ4C8USBhdan9XP94ku99eXu0+QxpbrrzW4/kYef68rnIqJEdN9p1dFXZ3Zz6+Wnd77/5NZ35un5ob6Brs56G/3kkXz+9/L5/9p9euoX0pepM/ro+fb/+dOj//3HhyKiRX5+ojfdXe+Zrp//oDf+Wdb+r8nK8Juqe7DO7PbO1qNndx89v2Oedncc6Uh21ZkVvbWjb+3sbIiIJCShh0U1ImvTZpu+sjlGNmPDZkzanAs25yAQU6zBAgAAcIwZLLQ+pbpU5/ndx53nVf1TIyIq2avTF3d/mZG+qJK99Wf7Ux3vjQ6Zx++NDvWngpxuvYNy8be7jy/+VnrrnRoRkcGu5P+4MGja/LcXBge7kvVnVdeAZP9Sm8fZv1RdA/Vnk4nUYPfp3TZ0n04mUvVnRaUS6qz5F19CnRXVoKxNm236yuYY2YwNmzFpcy7YnINATFFgoQ0olegY1cljEmKBrVKJwTd136gEX9irlPrVyfT5oT4JsaBYJeSNy3L6FyKBFzIrpS6dHfj5iV4JsYBaKXXq1zL8pgRfuK2U6kud6O48IsEXjCtRieRIQg+LBF6obpW1aLNlX1kcI6uxYTEmw58LVucgEE8UWGgPSoVf86GU6gjwj/WaaIB1V7XhhPTWu7Zm/34DrOnZH657LdH+aEfYyQklKsC6K4dZizZb9pXFMbIaGxZjMvy5YHUOAjHEGiwAAADHKLAAAAAco8ACAABwjAILAADAMQosAAAAx7iLEC2lXC43OEiWLNnIs0ATYgYLAADAMWaw0FLy+XyhUAgdJ0uWbITZYrEYeqdAs2EGCwAAwDEKLAAAAMcosAAAAByjwAIAAHCMAgsAAMAx7iJEe9Bay3MRUdIlSsUnuyUiSlKBs6K13hIRpVIi8chq0aK3RERUSjUwG8e+shobcTwXgBiiwEIb0Hrn5V29vSYiKnku0XE6wM93rXe27+qX6yKiOsYSyYDZnXt6e0NEVDKbSJwKmL2vdzZERCWyicRIkGuS3tm+r/WGiCiVTSRHgly/9fb2fa1viYhSZ5ONymrRO9v3d/QtEUmos4nkSP11kk02qs9rdYxsxoblmLQ5F0Kfg0A8UWCh9Wl5rrfX9Mu13acdR5V0B8i+XDcXBhHRyYDZ7Y0/ZxPDQbJbemdD76z7sl31ZvWW1hvmAiwJ0XpYqUDZW+bCLxImu6M3RCQRMCt6a0ff2tlrc0IPS0OyNm227quwx8hmbFiNSctzIeQ5CMQUa7AAAAAcYwYLrU9Jl0qe232cPFf/P/d3sx1ju487xgJnk9m9/WYDZlMqsZdNZJWkAmRVSqms+deTUlmlgmbP7j0+GyKbCJUVlUqos6bNCXVWGpW1abN1X4U9RjZjw2pMWp4LIc9BIKYosNAGlEp0nNYdRyXEAlulEsnTOhk2mzilE8NhsyN72aALmVUiOaL1sIRZQK2SUWSVqERyJKGHRQIvVLfJRvV5rY6RzdiwHJM250LocxCIJwostAelwq/5iDIb+h/6KsD6p+bIKlEB1l25y8axr6zGRhzPBSCGWIMFAADgGAUWAACAYxRYAAAAjlFgAQAAOEaBBQAA4Bh3EaKllMvlBgfJkiUbeRZoQsxgAQAAOMYMFlpKPp8vFAqh42TJko0wWywWQ+8UaDbMYAEAADhGgQUAAOAYBRYAAIBjFFgAAACOUWABAAA4xl2EaA9aa/1cRJTqEqXIkiUbpywQQxRYaANa77y4pZ9/KSKq63yi82yAn+9a77y4rbe+FBGVOp/oPBMs+9KX7QiavaNffCkiqvN8omM0eHZNRFTnuTDZl2siojoanL3ry55uYDaqz2t3jMKPDYsxaXMuhD4HgXiiwELr0/q5fv6l3vrj7tOOE0p1B8hu+bPHg2f/tPs0GTD74ktzMRMRnTwWMLtmLsBhsi/XzIU/ZPalk+zRiLIN7CubY2QzNmzGpM25EPYcBGKKNVgAAACOMYOF1qdUl+o6v/u467xSXcGyqb1sqrHZzr1sZ4jsub3sucDZjr1sB9mfMmtzjGzGRlTjOew5CMQUBRbagFKJzrO644SEWGCrVKLzjO44HjLbcUYnQ2dHdfJYO2VP6+TRKLJx7CubrMWYtDkXQp+DQDxRYKE9KBV+zQdZsmSjzQIxxBosAAAAxyiwAAAAHKPAAgAAcIwCCwAAwDEKLAAAAMe4ixAtpVwuNzhIlizZyLNAE2IGCwAAwDFmsNBS8vl8oVAIHSdLlmyE2WKxGHqnQLNhBgsAAMAxCiwAAADHKLAAAAAco8ACAABwjAILAADAMe4iRHvQWu88ExGV6BalyJIlG6csEEMUWGgDWu88XddPvhAR1ft2omcswM93++zT34uI6nmrodlnvmx3g7N/EBHV82bbZKPo56jGVSTnERBPFFhofXrnmX7yhX7837tPu06qZE/A7Bchs09/b5V94iKbamT2D/ppW2Wj6me7sRF6TNqcC2HPQSCmWIMFAADgGDNYaH0q0a1639593Pu2SnQ3Ltvz1u7jnrfaI/vmXvbN9sjG8RhZZKM4j4CYosBCG1Aq0TOmu05KiAW2Mc12j+kU2dbNxnFMhs4C8USBhfagVPg1H2TJko02C8QQa7AAAAAco8ACAABwjAILAADAMQosAAAAxyiwAAAAHOMuQrSUcrnc4CBZsmQjzwJNiBksAAAAx5jBQkvJ5/OFQiF0nCxZshFmi8Vi6J0CzYYZLAAAAMcosAAAAByjwAIAAHCMAgsAAMAxCiwAAADHuIsQ7UFrvf1URFSyR5QiS5ZsnLJADFFgoQ1ovfPDH+Thf4iITv8iMfBmgJ/v7Zj9ozz8XER0+mJi4I2Y7DeObY7j2IgiC8QTBRZan95+Ig//Q1f/XUSUiO49rTr6yL46+7mufr6XPRWT/caxzXEcGxFkgZhiDRYAAIBjzGCh9alkr07/YvcXEulfqGQv2UOzF/eyF+Oz3zi2OY5jI4IsEFMUWGgDSiUG3tS9oxJigW07Zt/Qvafjtt84tjmOYyOKLBBPFFhoD0qpjrD/aCZLlmy0WSCGWIMFAADgGAUWAACAYxRYAAAAjlFgAQAAOEaBBQAA4Bh3EaKllMvlBgfJkiUbeRZoQsxgAQAAOMYMFlpKPp8vFAqh42TJko0wWywWQ+8UaDbMYAEAADhGgQUAAOAYBRYAAIBjFFgAAACOUWABAAA4xl2EaA9a65dPRER19IpSZMmSjVMWiCEKLLQBrXcq/y3flkVEH80njvxFgJ/vWu9U/suX/Vnjst/7skNtkl0VEX30nYZn49hXYbNRjefQ5yAQTxRYaH365RP5tqy/XRURJaIHzqrOvmDZb7xstrHZf93NDjY2+3Uk2dWIslF93uiOb1TjOdQ5CMQUa7AAAAAcYwYLrU919Oqj+d1fSBzNq45esk2Zfaj9gM4AABC/SURBVGcv+05js3HsqzbKAjFFgYU2oFTiyF/ogbMSYoGtUokjP9MD2QiyQz/Tg2TJus5GNZ5Dn4NAPFFgoT0oFX7NB1myZKPNAjHEGiwAAADHKLAAAAAco8ACAABwjAILAADAMQosAAAAx7iLEC2lXC43OEiWLNnIs0ATYgYLAADAMWaw0FLy+XyhUAgdJ0uWbITZYrEYeqdAs2EGCwAAwDEKLAAAAMcosAAAAByjwAIAAHCMAgsAAMAx7iJEe9Bav3gsIqqzT5QiS5ZsnLJADFFgoQ1orb/9XH/1OxGRk79RRy8G+Plun73/OxGRkeDZbz7XX30mInLyXXUsePb+ZyIiIw3O/ru+95mIyKl31bFftkE2qn62GBs2YzKS8wiIJwostD794rH+6ndy//+JiBaR9DmV6m9Q9v7v5P6nYff7mdzb228m6H4/k3t7+21YduuxvufLps+rrpbORtXPtmPDZkxGcB4BMcUaLAAAAMeYwULrU519cvI32jw++RvV2de47MhediTEft/d2++7wfe7lx1pYDbVJ6f2sqfeValWz0bVz7Zjw2ZMRnAeATFFgYU2oJQ6elHS5yTEAtsIs8cuSiZ22V9K5nw7ZWN4jGJ3LgDxRIGF9qBU+DUfZMmSjTYLxBBrsAAAAByjwAIAAHCMAgsAAMAxCiwAAADHKLAAAAAc4y5CtJRyudzgIFmyZCPPAk2IGSwAAADHmMFCS8nn84VCIXScLFmyEWaLxWLonQLNhhksAAAAxyiwAAAAHKPAAgAAcIwCCwAAwDEKLAAAAMe4ixDtQWv9YlNEVGe/KBWb7NamiKgUWbJOs7E7F4AYosBCG9Baf/3v+u6nIiKn31PHfxng57vJ3vlURGQ0RPbffNlfBcs+8GVPhMh+IiIy+n5jszd92VwbZKPqZ4uxYTMmrc6FsOcgEE8UWGh9emtT3/1U7t4QES0imXOqayBA9o5l9pO97PnA2Tt7+z0SNPuJVfa2k+yFNss28hjZjA27MRn6XAh7DgIxxRosAAAAx5jBQutTqX45/Z42j0+/p1L9wbKje9nRGGXf38u+T7YVszEck2HPQSCmKLDQBpRSx38pR85JiAW2ttlfyZHzIbMn9rJBFzJHmc3JkQvtlI3hMbIZk5GcR0A8UWChPSilUmHXfESYDb1OhSzZQ7KxOxeAGGINFgAAgGMUWAAAAI5RYAEAADhGgQUAAOAYBRYAAIBj3EWIllIulxscJEuWbORZoAkxgwUAAOAYM1hoKfl8vlAohI6TJUs2wmyxWAy9U6DZMIMFAADgGAUWAACAYxRYAAAAjlFgAQAAOEaBBQAA4Bh3EaI9aK23NkVEpfpFKbJkycYpC8QQBRbagNb6q5v6ziciIqPvq5O5AD/fo83eviEicuZSqOx1EZEzlwNn7/uyI0Gz5T+3eSTfBlmLvrI5RpZjI17nAhBPFFhofXprU9/5RG7fEBEtIkMXVNdA47K3rofM3r5hkb1ulb29lx0O3ubb/7KXfaMNsjZ9ZXOMLMaGzZiM4jwCYoo1WAAAAI4xg4XWp1L9Mvq+No9H31ep/nhkz1zazZ65FDx7eS97ubFZmzbHMRvDfo7buQDEFAUW2oBS6mROhi5IiAW2bZgdyclw6Gxeht9op6xFX8VxbESSBeKJAgvtQanwaz7IkiUbbRaIIdZgAQAAOEaBBQAA4BgFFgAAgGMUWAAAAI5RYAEAADjGXYRoKeVyucFBsmTJRp4FmhAzWAAAAI4xg4WWks/nC4VC6DhZsmQjzBaLxdA7BZoNM1gAAACOUWABAAA4RoEFAADgGAUWAACAYxRYAAAAjnEXIdqD1nprU0RUql+UIkuWbJyyQAxRYKENaK2/uqnv3BARGb2kTuYC/Hw32ds3RETONDZ7/6a+fV1E5MxlNdLIbPnPbR7Jk/3JshEd36jGc+hzEIgnCiy0Pr21qe/ckFvXRUSLyNAF1TUQIHs7qux1ub2XHW5k9obc+pe97Btkf7JshMc3ivEc9hwEYoo1WAAAAI4xg4XWp1L9MnpJm8ejl1SqP1j2zF72TIOzl/eylxubjerztlu2zY5v2HMQiCkKLLQBpdTJnAxdkBALbCPMjuRkOJJsXobfIPvTZyM6vrE7F4B4osBCe1Aq/JoPsmTJRpsFYog1WAAAAI5RYAEAADhGgQUAAOAYBRYAAIBjFFgAAACOcRchWkq5XG5wkCxZspFngSbEDBYAAIBjzGChpeTz+UKhEDpOlizZCLPFYjH0ToFmwwwWAACAYxRYAAAAjlFgAQAAOEaBBQAA4BgFFgAAgGPcRYj2oLXe2hQRleoXpciSJRunLBBDFFhoA1rrr27qOzdEREYvqZO5AD/fTfb2DRGRM43PXhcROXM5cPa+LzsSl2z5z301km9gNoZ9ZTM2IhzP4c5BIJ4osND69NamvnNDbl0XES0iQxdU10CA7O2ostetsrf3ssNxyd6Q2/+yl32jgdk49pXN2IhoPIc9B4GYYg0WAACAY8xgofWpVL+MXtLm8eglleoPlj2zlz3T4Ozlvezl9sjSz43JRtTPYc9BIKYosNAGlFInczJ0QUIssI1pdiQnw7HL5mX4jSiyMeyrOI7J0Fkgniiw0B6UCr/mgyxZstFmgRhiDRYAAIBjFFgAAACOUWABAAA4RoEFAADgGAUWAACAY9xFiJZSLpcbHCRLlmzkWaAJMYMFAADgGDNYaCn5fL5QKISOkyVLNsJssVgMvVOg2TCDBQAA4BgFFgAAgGMUWAAAAI5RYAEAADhGgQUAAOAYdxGiPWittzZFRKX6RSmyZMnGKQvEEAUW2oDW+qub+vYNEZEzl9TJXICf7xFnr4uInLncFtn7vuxIA7Nx7CvbbKzOBSCeKLDQ+vTWpr59Q25dFxEtIkMXVNdAHLLX2y57ey873NhsHPsqfuM5ZBaIKdZgAQAAOMYMFlqfSvXLmUvaPD5zSaX6Y5K9vJe9TJasu2zMzgUgpiiw0AaUUidzMnRBQiywJduw7EhOhqPIxrGv2ioLxBMFFtqDUuHXfJAlSzbaLBBDrMECAABwjAILAADAMQosAAAAxyiwAAAAHKPAAgAAcIy7CNFSyuVyg4NkyZKNPAs0IWawAAAAHGMGCy0ln88XCoXQcbJkyUaYLRaLoXcKNBtmsAAAAByjwAIAAHCMAgsAAMAxCiwAAADHKLAAAAAc4y5CtAet9damiKhUvyhFlizZOGWBGKLAQhvQWn91U9++ISJy5pI6mQvw8z3G2esiImcuxyZ735cdaWA2jn0V1zEZKgvEEwUWWp/e2tS3b8it6yKiRWToguoaaPXs9Vhmb+9lhxubjV9fxXFMhswCMcUaLAAAAMeYwULrU6l+OXNJm8dnLqlUfxtkL+9lL5NtxWwcx2TILBBTFFhoA0qpkzkZuiAhFtiSbVh2JCfDUWTj2FdtlQXiiQIL7UGp8Gs+yJIlG20WiCHWYAEAADhGgQUAAOAYBRYAAIBjFFgAAACOUWABAAA4xl2EaCnlcrnBQbJkyUaeBZqQ0lpH3QbAjUKhEHUTAISXz+cXFhaibgXgBgUWAACAY6zBAgAAcIwCCwAAwDEKLAAAAMcosAAAAByjwAIAAHCMAgsAAMCx9vqiUaVU1E0AAKBNtdU3Q7VXgSUifzFfViKiRIneeyCv3iJKdB1bRJRWIqZ+8z0Ikn3NlvANFtFq94H4Hug6togSfdiW4B9h37sd2LyfrMG+Q7P/YO3bIkrpH235CT7Cvj2KyP6xdPDoen2D69vFK8dSqHcL0uADPsJrx5KYH9Dej2n/U737v31PRUT7/n/f0913e+XTP+83ZAP2NaOeVtW0p4ENUKF66aBWvXqPAXrApgF1dYuqq5E/YQN+8l768R6V2wbU3S3qf65LO+FXhAAAAI5RYAEAADhGgQUAAOAYBRYAAIBjFFgAAACOUWABAAA4RoEFAADgGAUWAACAYxRYAAAAjqm2+t56/lQOAABRaauSo+3+VE5bHV0AAJpEu81x8CtCAAAAxyiwAAAAHKPAAgAAcKy9FrkDAAA0ADNYAAAAjjVdgVUul8fGxpRShUKhXC7vf8HMzEwmk8lkMjMzMzUblVL+jXNzc/s3FotF7/2r1aqILC0tFX7sVa80L97fPO+V+Xz+wDYDAND8Gn8Jrtm4vr7u312xWPS3pFQq5fP52FyCdZPJZrOzs7Na66tXr+ZyuZr/uri4mM1m19bW1tbWstns4uKi2ZhOp2s2rqyspNPp1dXVSqWSy+Xm5+e11mtrayKyvLystZ6YmJiamjIbV/bMzs5ms1mzr3Q6bVJTU1MTExM1ce+VlUolnU6bnc7Pz3txAADiJZJLsIiYlLfRqFQq2WxWRFZWVswW77p89erV8fFxL766uqqb7xLcXAXWysqKV/NVKhURqVQq/hdMTEyYY6+1vnr1qjkSU1NTV69eNRtnZ2dNMeT9V631/Py8ORKzs7PmgdZ6bW3NHJID339tbc3bkdeq+jcCABAvkVyC5+fnvUquUqn4r8sTExPz8/NegVWpVPZfbfe32UVPuNF0vyLM5XLmQSaTEZGa6T5vRtG8wMwlrq+vmxeLSD6fN68x85w1G0WkUCiUSqW5ublqtZrP5/1vvr6+/vHHH09PT4vI2NjY3Nyc2b6wsDAxMeHfWC6X5+bmrl69WrNxYWFhamrKST8AANBgjb8EV6tVb+P6+rp3XV5aWqpWq/5fL2YyGe+6XCwWx8fHzRvmcrmFhYVSqTQzM2Ouy02i6b7J3TtOr+KtkQoUv3nzpoiUSqVqtWoOfKFQmJmZ8Y6WiCwtLY2Pj3tjwttYKpX8g2xubu6DDz7I5XL+rNmYzWab6xfAAADUrfGX4Gq1WiqVTGlVKBSmp6cXFhbW19fn5uZKpdKB77a0tGQuzebpzMzMlStXxsfHy+VyU12Co5/BMnWr15X+AvlVrz/kv9asj/N4VbmIFIvFhYWFhYWFpaUl/2uWlpbM9JX/lVeuXDEL6LyNc3NzlUrFDAX/Rq315ORkzawYAABNK/JLsCmJisXi3NycqZxEZGZmxix4N7srl8tew8rl8pUrVxYWFszV1pRilUqlVCqVSqXD678Gi77A8stkMqbOlb3DXFOv+KvjarVq6p6xsTGv6725Sv/NCKVSyWw09z6YjWNjYxsbG967FYvFarU6OTnpbSmXy9PT04uLi94BW19fN0Mhk8ksLCzcvHmzXC57G0VkYWFhY2Pj8PEHAEATiuQSPDY25m3MZDIPHz40G03lZH5TtLS0ZN6tXC4XCoXFxUVvNsTc2m/eIZ/PN9clOOpFYLWy2ay5R8C/8G1xcdGscTO3MFQqFXNzgXcLw/6N5hYGs0BvfHzcvKf3Sv3j1XZ6380Lq6ur3r2BHnOvhImbx1rr5eVlEVlbW/Me16wKBAAgFhp/CV5eXvY2HngboPgWuafTaW+du9c2L766uupdjptB0xVYy8vL6XQ6m82aOzzNxvHxca9PJyYm0ul0Op3210NTU1Nmo79mMuvNzUav6Ll69Wo6nc7lctls1nt/c5+ndyOo1np2dvbAStTsKJfLpdNpc6+p957j4+P7azIAAOIikkuwt9G/U493dTY3DO6/LvsvwaaSaxJN+qdyDv9NqpkqrFmNfuDGarXqTWP6N/pvVQjqwLjlewIA0CQafwm2v4Y22wIs4W8RAgAAONdci9wBAABaAAUWAACAYxRYAAAAjv1/SMt7u16HD18AAAAASUVORK5CYII='>"
      ],
      "text/plain": [
       "<IPython.core.display.HTML object>"
      ]
     },
     "metadata": {},
     "output_type": "display_data"
    }
   ],
   "source": [
    "figMaterial = vis.Figure( figsize=(800,400), title=\"Velocity Calculated on Swarm\" )\n",
    "figMaterial.append( vis.objects.Points(swarm, materialVelocity[1], pointSize=5.0) )\n",
    "figMaterial.append( vis.objects.Mesh(mesh))\n",
    "figMaterial.show()"
   ]
  },
  {
   "cell_type": "markdown",
   "metadata": {},
   "source": [
    "Plot the same velocity field as vectors, over the pressure field solution."
   ]
  },
  {
   "cell_type": "code",
   "execution_count": 15,
   "metadata": {},
   "outputs": [
    {
     "data": {
      "text/html": [
       "<img src='data:image/png;base64,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'>"
      ],
      "text/plain": [
       "<IPython.core.display.HTML object>"
      ]
     },
     "metadata": {},
     "output_type": "display_data"
    }
   ],
   "source": [
    "figMaterial = vis.Figure( figsize=(800,400),title=\"Ground-Water Pressure Field and Velocity Vectors\" )\n",
    "figMaterial.append(vis.objects.Surface(mesh,gwPressureField,onMesh=True))\n",
    "scale = 0.03\n",
    "figMaterial.append(vis.objects.VectorArrows(mesh,velocityField,scaling=50,arrowHead=0.3))\n",
    "figMaterial.show()"
   ]
  },
  {
   "cell_type": "markdown",
   "metadata": {},
   "source": [
    "We can also compare the velocity calculated on the swarm to an analytical solution."
   ]
  },
  {
   "cell_type": "code",
   "execution_count": 16,
   "metadata": {},
   "outputs": [
    {
     "data": {
      "image/png": "[encoded data removed]",
      "text/plain": [
       "<Figure size 432x288 with 1 Axes>"
      ]
     },
     "metadata": {
      "needs_background": "light"
     },
     "output_type": "display_data"
    }
   ],
   "source": [
    "x = -1.\n",
    "n = 30\n",
    "arrYsample = numpy.linspace(-1+(1./resY),0.,resY)\n",
    "arrY = numpy.linspace(-1,0.,n)\n",
    "\n",
    "arrP = numpy.array(velocityField[1].evaluate_global(numpy.array(list(zip(numpy.ones(len(arrYsample))*x,arrYsample)))))\n",
    "\n",
    "if uw.mpi.rank == 0:\n",
    "    plt.clf()\n",
    "    plt.scatter(arrP,arrYsample,lw=0,alpha=0.5,label=\"Numerical\")\n",
    "\n",
    "    S = 1.\n",
    "    La = -1. * interfaceY\n",
    "    Lb = 1. + interfaceY\n",
    "    dP = maxgwpressure\n",
    "    midPressure = (dP/Lb - S + Ka/Kb * S) / (1./Lb + Ka/Kb/La)\n",
    "\n",
    "    arrVel = numpy.zeros(len(arrY))\n",
    "\n",
    "    for i in range(len(arrY)):\n",
    "        if arrY[i] > interfaceY:\n",
    "            arrVel[i] = (-midPressure / -La - 1.) * Ka\n",
    "        else:\n",
    "            arrVel[i] = (-(dP - midPressure)/-Lb - 1.) * Kb\n",
    "\n",
    "    plt.plot( (arrVel) ,arrY,c=\"black\",label=\"Analytical\")\n",
    "\n",
    "    plt.ylim(-1,0.)\n",
    "    avAnVel = numpy.average(arrVel)\n",
    "    plt.xlim(-0.25*avAnVel + avAnVel,0.25*avAnVel+avAnVel)\n",
    "    plt.ticklabel_format(style='sci', axis='x', scilimits=(0,0))\n",
    "    plt.legend()\n",
    "    plt.xlabel('Vertical Velocity')\n",
    "    plt.ylabel('Depth')\n",
    "\n",
    "    plt.savefig(\"VelocitySolution.pdf\")"
   ]
  }
 ],
 "metadata": {
  "kernelspec": {
   "display_name": "Python 3",
   "language": "python",
   "name": "python3"
  },
  "language_info": {
   "codemirror_mode": {
    "name": "ipython",
    "version": 3
   },
   "file_extension": ".py",
   "mimetype": "text/x-python",
   "name": "python",
   "nbconvert_exporter": "python",
   "pygments_lexer": "ipython3",
   "version": "3.5.3"
  }
 },
 "nbformat": 4,
 "nbformat_minor": 1
}
